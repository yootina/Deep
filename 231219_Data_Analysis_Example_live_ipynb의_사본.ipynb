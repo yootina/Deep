{
  "nbformat": 4,
  "nbformat_minor": 0,
  "metadata": {
    "colab": {
      "provenance": [],
      "include_colab_link": true
    },
    "kernelspec": {
      "name": "python3",
      "display_name": "Python 3"
    },
    "language_info": {
      "name": "python"
    }
  },
  "cells": [
    {
      "cell_type": "markdown",
      "metadata": {
        "id": "view-in-github",
        "colab_type": "text"
      },
      "source": [
        "<a href=\"https://colab.research.google.com/github/yootina/Deep/blob/master/231219_Data_Analysis_Example_live_ipynb%EC%9D%98_%EC%82%AC%EB%B3%B8.ipynb\" target=\"_parent\"><img src=\"https://colab.research.google.com/assets/colab-badge.svg\" alt=\"Open In Colab\"/></a>"
      ]
    },
    {
      "cell_type": "markdown",
      "source": [
        "## 데이터 전처리와 상관성/중요도 파악"
      ],
      "metadata": {
        "id": "a1tfN7pGitrz"
      }
    },
    {
      "cell_type": "markdown",
      "source": [
        "### Preprocessing"
      ],
      "metadata": {
        "id": "IE8tfD_B869G"
      }
    },
    {
      "cell_type": "code",
      "source": [
        "# import\n",
        "# np, pd, (데이터처리) plt, sns (...시각화)\n",
        "# sklearn. keras. tensorflow (전처리, 모델링...)\n",
        "# import를 앞에 몰아서 할 필요는 X. 정리하는게 좋다. -> 정리하는것도...\n",
        "\n",
        "import pandas as pd\n",
        "from sklearn.model_selection import train_test_split\n",
        "from sklearn.preprocessing import MinMaxScaler\n",
        "from sklearn.metrics import accuracy_score"
      ],
      "metadata": {
        "id": "mtP1dIEujBAW"
      },
      "execution_count": null,
      "outputs": []
    },
    {
      "cell_type": "code",
      "execution_count": null,
      "metadata": {
        "colab": {
          "base_uri": "https://localhost:8080/",
          "height": 582
        },
        "id": "Vv8n6BLOidF0",
        "outputId": "025b2b1a-68ec-4759-ae8b-3227bc2c3aa6"
      },
      "outputs": [
        {
          "output_type": "execute_result",
          "data": {
            "text/plain": [
              "      Age Attrition     BusinessTravel  DailyRate              Department  \\\n",
              "0      41       Yes      Travel_Rarely       1102                   Sales   \n",
              "1      49        No  Travel_Frequently        279  Research & Development   \n",
              "2      37       Yes      Travel_Rarely       1373  Research & Development   \n",
              "3      33        No  Travel_Frequently       1392  Research & Development   \n",
              "4      27        No      Travel_Rarely        591  Research & Development   \n",
              "...   ...       ...                ...        ...                     ...   \n",
              "1465   36        No  Travel_Frequently        884  Research & Development   \n",
              "1466   39        No      Travel_Rarely        613  Research & Development   \n",
              "1467   27        No      Travel_Rarely        155  Research & Development   \n",
              "1468   49        No  Travel_Frequently       1023                   Sales   \n",
              "1469   34        No      Travel_Rarely        628  Research & Development   \n",
              "\n",
              "      DistanceFromHome  Education EducationField  EmployeeCount  \\\n",
              "0                    1          2  Life Sciences              1   \n",
              "1                    8          1  Life Sciences              1   \n",
              "2                    2          2          Other              1   \n",
              "3                    3          4  Life Sciences              1   \n",
              "4                    2          1        Medical              1   \n",
              "...                ...        ...            ...            ...   \n",
              "1465                23          2        Medical              1   \n",
              "1466                 6          1        Medical              1   \n",
              "1467                 4          3  Life Sciences              1   \n",
              "1468                 2          3        Medical              1   \n",
              "1469                 8          3        Medical              1   \n",
              "\n",
              "      EmployeeNumber  ...  RelationshipSatisfaction StandardHours  \\\n",
              "0                  1  ...                         1            80   \n",
              "1                  2  ...                         4            80   \n",
              "2                  4  ...                         2            80   \n",
              "3                  5  ...                         3            80   \n",
              "4                  7  ...                         4            80   \n",
              "...              ...  ...                       ...           ...   \n",
              "1465            2061  ...                         3            80   \n",
              "1466            2062  ...                         1            80   \n",
              "1467            2064  ...                         2            80   \n",
              "1468            2065  ...                         4            80   \n",
              "1469            2068  ...                         1            80   \n",
              "\n",
              "      StockOptionLevel  TotalWorkingYears  TrainingTimesLastYear  \\\n",
              "0                    0                  8                      0   \n",
              "1                    1                 10                      3   \n",
              "2                    0                  7                      3   \n",
              "3                    0                  8                      3   \n",
              "4                    1                  6                      3   \n",
              "...                ...                ...                    ...   \n",
              "1465                 1                 17                      3   \n",
              "1466                 1                  9                      5   \n",
              "1467                 1                  6                      0   \n",
              "1468                 0                 17                      3   \n",
              "1469                 0                  6                      3   \n",
              "\n",
              "     WorkLifeBalance  YearsAtCompany YearsInCurrentRole  \\\n",
              "0                  1               6                  4   \n",
              "1                  3              10                  7   \n",
              "2                  3               0                  0   \n",
              "3                  3               8                  7   \n",
              "4                  3               2                  2   \n",
              "...              ...             ...                ...   \n",
              "1465               3               5                  2   \n",
              "1466               3               7                  7   \n",
              "1467               3               6                  2   \n",
              "1468               2               9                  6   \n",
              "1469               4               4                  3   \n",
              "\n",
              "      YearsSinceLastPromotion  YearsWithCurrManager  \n",
              "0                           0                     5  \n",
              "1                           1                     7  \n",
              "2                           0                     0  \n",
              "3                           3                     0  \n",
              "4                           2                     2  \n",
              "...                       ...                   ...  \n",
              "1465                        0                     3  \n",
              "1466                        1                     7  \n",
              "1467                        0                     3  \n",
              "1468                        0                     8  \n",
              "1469                        1                     2  \n",
              "\n",
              "[1470 rows x 35 columns]"
            ],
            "text/html": [
              "\n",
              "  <div id=\"df-1639ff2f-c4bb-4454-9fcd-50876358c5b7\" class=\"colab-df-container\">\n",
              "    <div>\n",
              "<style scoped>\n",
              "    .dataframe tbody tr th:only-of-type {\n",
              "        vertical-align: middle;\n",
              "    }\n",
              "\n",
              "    .dataframe tbody tr th {\n",
              "        vertical-align: top;\n",
              "    }\n",
              "\n",
              "    .dataframe thead th {\n",
              "        text-align: right;\n",
              "    }\n",
              "</style>\n",
              "<table border=\"1\" class=\"dataframe\">\n",
              "  <thead>\n",
              "    <tr style=\"text-align: right;\">\n",
              "      <th></th>\n",
              "      <th>Age</th>\n",
              "      <th>Attrition</th>\n",
              "      <th>BusinessTravel</th>\n",
              "      <th>DailyRate</th>\n",
              "      <th>Department</th>\n",
              "      <th>DistanceFromHome</th>\n",
              "      <th>Education</th>\n",
              "      <th>EducationField</th>\n",
              "      <th>EmployeeCount</th>\n",
              "      <th>EmployeeNumber</th>\n",
              "      <th>...</th>\n",
              "      <th>RelationshipSatisfaction</th>\n",
              "      <th>StandardHours</th>\n",
              "      <th>StockOptionLevel</th>\n",
              "      <th>TotalWorkingYears</th>\n",
              "      <th>TrainingTimesLastYear</th>\n",
              "      <th>WorkLifeBalance</th>\n",
              "      <th>YearsAtCompany</th>\n",
              "      <th>YearsInCurrentRole</th>\n",
              "      <th>YearsSinceLastPromotion</th>\n",
              "      <th>YearsWithCurrManager</th>\n",
              "    </tr>\n",
              "  </thead>\n",
              "  <tbody>\n",
              "    <tr>\n",
              "      <th>0</th>\n",
              "      <td>41</td>\n",
              "      <td>Yes</td>\n",
              "      <td>Travel_Rarely</td>\n",
              "      <td>1102</td>\n",
              "      <td>Sales</td>\n",
              "      <td>1</td>\n",
              "      <td>2</td>\n",
              "      <td>Life Sciences</td>\n",
              "      <td>1</td>\n",
              "      <td>1</td>\n",
              "      <td>...</td>\n",
              "      <td>1</td>\n",
              "      <td>80</td>\n",
              "      <td>0</td>\n",
              "      <td>8</td>\n",
              "      <td>0</td>\n",
              "      <td>1</td>\n",
              "      <td>6</td>\n",
              "      <td>4</td>\n",
              "      <td>0</td>\n",
              "      <td>5</td>\n",
              "    </tr>\n",
              "    <tr>\n",
              "      <th>1</th>\n",
              "      <td>49</td>\n",
              "      <td>No</td>\n",
              "      <td>Travel_Frequently</td>\n",
              "      <td>279</td>\n",
              "      <td>Research &amp; Development</td>\n",
              "      <td>8</td>\n",
              "      <td>1</td>\n",
              "      <td>Life Sciences</td>\n",
              "      <td>1</td>\n",
              "      <td>2</td>\n",
              "      <td>...</td>\n",
              "      <td>4</td>\n",
              "      <td>80</td>\n",
              "      <td>1</td>\n",
              "      <td>10</td>\n",
              "      <td>3</td>\n",
              "      <td>3</td>\n",
              "      <td>10</td>\n",
              "      <td>7</td>\n",
              "      <td>1</td>\n",
              "      <td>7</td>\n",
              "    </tr>\n",
              "    <tr>\n",
              "      <th>2</th>\n",
              "      <td>37</td>\n",
              "      <td>Yes</td>\n",
              "      <td>Travel_Rarely</td>\n",
              "      <td>1373</td>\n",
              "      <td>Research &amp; Development</td>\n",
              "      <td>2</td>\n",
              "      <td>2</td>\n",
              "      <td>Other</td>\n",
              "      <td>1</td>\n",
              "      <td>4</td>\n",
              "      <td>...</td>\n",
              "      <td>2</td>\n",
              "      <td>80</td>\n",
              "      <td>0</td>\n",
              "      <td>7</td>\n",
              "      <td>3</td>\n",
              "      <td>3</td>\n",
              "      <td>0</td>\n",
              "      <td>0</td>\n",
              "      <td>0</td>\n",
              "      <td>0</td>\n",
              "    </tr>\n",
              "    <tr>\n",
              "      <th>3</th>\n",
              "      <td>33</td>\n",
              "      <td>No</td>\n",
              "      <td>Travel_Frequently</td>\n",
              "      <td>1392</td>\n",
              "      <td>Research &amp; Development</td>\n",
              "      <td>3</td>\n",
              "      <td>4</td>\n",
              "      <td>Life Sciences</td>\n",
              "      <td>1</td>\n",
              "      <td>5</td>\n",
              "      <td>...</td>\n",
              "      <td>3</td>\n",
              "      <td>80</td>\n",
              "      <td>0</td>\n",
              "      <td>8</td>\n",
              "      <td>3</td>\n",
              "      <td>3</td>\n",
              "      <td>8</td>\n",
              "      <td>7</td>\n",
              "      <td>3</td>\n",
              "      <td>0</td>\n",
              "    </tr>\n",
              "    <tr>\n",
              "      <th>4</th>\n",
              "      <td>27</td>\n",
              "      <td>No</td>\n",
              "      <td>Travel_Rarely</td>\n",
              "      <td>591</td>\n",
              "      <td>Research &amp; Development</td>\n",
              "      <td>2</td>\n",
              "      <td>1</td>\n",
              "      <td>Medical</td>\n",
              "      <td>1</td>\n",
              "      <td>7</td>\n",
              "      <td>...</td>\n",
              "      <td>4</td>\n",
              "      <td>80</td>\n",
              "      <td>1</td>\n",
              "      <td>6</td>\n",
              "      <td>3</td>\n",
              "      <td>3</td>\n",
              "      <td>2</td>\n",
              "      <td>2</td>\n",
              "      <td>2</td>\n",
              "      <td>2</td>\n",
              "    </tr>\n",
              "    <tr>\n",
              "      <th>...</th>\n",
              "      <td>...</td>\n",
              "      <td>...</td>\n",
              "      <td>...</td>\n",
              "      <td>...</td>\n",
              "      <td>...</td>\n",
              "      <td>...</td>\n",
              "      <td>...</td>\n",
              "      <td>...</td>\n",
              "      <td>...</td>\n",
              "      <td>...</td>\n",
              "      <td>...</td>\n",
              "      <td>...</td>\n",
              "      <td>...</td>\n",
              "      <td>...</td>\n",
              "      <td>...</td>\n",
              "      <td>...</td>\n",
              "      <td>...</td>\n",
              "      <td>...</td>\n",
              "      <td>...</td>\n",
              "      <td>...</td>\n",
              "      <td>...</td>\n",
              "    </tr>\n",
              "    <tr>\n",
              "      <th>1465</th>\n",
              "      <td>36</td>\n",
              "      <td>No</td>\n",
              "      <td>Travel_Frequently</td>\n",
              "      <td>884</td>\n",
              "      <td>Research &amp; Development</td>\n",
              "      <td>23</td>\n",
              "      <td>2</td>\n",
              "      <td>Medical</td>\n",
              "      <td>1</td>\n",
              "      <td>2061</td>\n",
              "      <td>...</td>\n",
              "      <td>3</td>\n",
              "      <td>80</td>\n",
              "      <td>1</td>\n",
              "      <td>17</td>\n",
              "      <td>3</td>\n",
              "      <td>3</td>\n",
              "      <td>5</td>\n",
              "      <td>2</td>\n",
              "      <td>0</td>\n",
              "      <td>3</td>\n",
              "    </tr>\n",
              "    <tr>\n",
              "      <th>1466</th>\n",
              "      <td>39</td>\n",
              "      <td>No</td>\n",
              "      <td>Travel_Rarely</td>\n",
              "      <td>613</td>\n",
              "      <td>Research &amp; Development</td>\n",
              "      <td>6</td>\n",
              "      <td>1</td>\n",
              "      <td>Medical</td>\n",
              "      <td>1</td>\n",
              "      <td>2062</td>\n",
              "      <td>...</td>\n",
              "      <td>1</td>\n",
              "      <td>80</td>\n",
              "      <td>1</td>\n",
              "      <td>9</td>\n",
              "      <td>5</td>\n",
              "      <td>3</td>\n",
              "      <td>7</td>\n",
              "      <td>7</td>\n",
              "      <td>1</td>\n",
              "      <td>7</td>\n",
              "    </tr>\n",
              "    <tr>\n",
              "      <th>1467</th>\n",
              "      <td>27</td>\n",
              "      <td>No</td>\n",
              "      <td>Travel_Rarely</td>\n",
              "      <td>155</td>\n",
              "      <td>Research &amp; Development</td>\n",
              "      <td>4</td>\n",
              "      <td>3</td>\n",
              "      <td>Life Sciences</td>\n",
              "      <td>1</td>\n",
              "      <td>2064</td>\n",
              "      <td>...</td>\n",
              "      <td>2</td>\n",
              "      <td>80</td>\n",
              "      <td>1</td>\n",
              "      <td>6</td>\n",
              "      <td>0</td>\n",
              "      <td>3</td>\n",
              "      <td>6</td>\n",
              "      <td>2</td>\n",
              "      <td>0</td>\n",
              "      <td>3</td>\n",
              "    </tr>\n",
              "    <tr>\n",
              "      <th>1468</th>\n",
              "      <td>49</td>\n",
              "      <td>No</td>\n",
              "      <td>Travel_Frequently</td>\n",
              "      <td>1023</td>\n",
              "      <td>Sales</td>\n",
              "      <td>2</td>\n",
              "      <td>3</td>\n",
              "      <td>Medical</td>\n",
              "      <td>1</td>\n",
              "      <td>2065</td>\n",
              "      <td>...</td>\n",
              "      <td>4</td>\n",
              "      <td>80</td>\n",
              "      <td>0</td>\n",
              "      <td>17</td>\n",
              "      <td>3</td>\n",
              "      <td>2</td>\n",
              "      <td>9</td>\n",
              "      <td>6</td>\n",
              "      <td>0</td>\n",
              "      <td>8</td>\n",
              "    </tr>\n",
              "    <tr>\n",
              "      <th>1469</th>\n",
              "      <td>34</td>\n",
              "      <td>No</td>\n",
              "      <td>Travel_Rarely</td>\n",
              "      <td>628</td>\n",
              "      <td>Research &amp; Development</td>\n",
              "      <td>8</td>\n",
              "      <td>3</td>\n",
              "      <td>Medical</td>\n",
              "      <td>1</td>\n",
              "      <td>2068</td>\n",
              "      <td>...</td>\n",
              "      <td>1</td>\n",
              "      <td>80</td>\n",
              "      <td>0</td>\n",
              "      <td>6</td>\n",
              "      <td>3</td>\n",
              "      <td>4</td>\n",
              "      <td>4</td>\n",
              "      <td>3</td>\n",
              "      <td>1</td>\n",
              "      <td>2</td>\n",
              "    </tr>\n",
              "  </tbody>\n",
              "</table>\n",
              "<p>1470 rows × 35 columns</p>\n",
              "</div>\n",
              "    <div class=\"colab-df-buttons\">\n",
              "\n",
              "  <div class=\"colab-df-container\">\n",
              "    <button class=\"colab-df-convert\" onclick=\"convertToInteractive('df-1639ff2f-c4bb-4454-9fcd-50876358c5b7')\"\n",
              "            title=\"Convert this dataframe to an interactive table.\"\n",
              "            style=\"display:none;\">\n",
              "\n",
              "  <svg xmlns=\"http://www.w3.org/2000/svg\" height=\"24px\" viewBox=\"0 -960 960 960\">\n",
              "    <path d=\"M120-120v-720h720v720H120Zm60-500h600v-160H180v160Zm220 220h160v-160H400v160Zm0 220h160v-160H400v160ZM180-400h160v-160H180v160Zm440 0h160v-160H620v160ZM180-180h160v-160H180v160Zm440 0h160v-160H620v160Z\"/>\n",
              "  </svg>\n",
              "    </button>\n",
              "\n",
              "  <style>\n",
              "    .colab-df-container {\n",
              "      display:flex;\n",
              "      gap: 12px;\n",
              "    }\n",
              "\n",
              "    .colab-df-convert {\n",
              "      background-color: #E8F0FE;\n",
              "      border: none;\n",
              "      border-radius: 50%;\n",
              "      cursor: pointer;\n",
              "      display: none;\n",
              "      fill: #1967D2;\n",
              "      height: 32px;\n",
              "      padding: 0 0 0 0;\n",
              "      width: 32px;\n",
              "    }\n",
              "\n",
              "    .colab-df-convert:hover {\n",
              "      background-color: #E2EBFA;\n",
              "      box-shadow: 0px 1px 2px rgba(60, 64, 67, 0.3), 0px 1px 3px 1px rgba(60, 64, 67, 0.15);\n",
              "      fill: #174EA6;\n",
              "    }\n",
              "\n",
              "    .colab-df-buttons div {\n",
              "      margin-bottom: 4px;\n",
              "    }\n",
              "\n",
              "    [theme=dark] .colab-df-convert {\n",
              "      background-color: #3B4455;\n",
              "      fill: #D2E3FC;\n",
              "    }\n",
              "\n",
              "    [theme=dark] .colab-df-convert:hover {\n",
              "      background-color: #434B5C;\n",
              "      box-shadow: 0px 1px 3px 1px rgba(0, 0, 0, 0.15);\n",
              "      filter: drop-shadow(0px 1px 2px rgba(0, 0, 0, 0.3));\n",
              "      fill: #FFFFFF;\n",
              "    }\n",
              "  </style>\n",
              "\n",
              "    <script>\n",
              "      const buttonEl =\n",
              "        document.querySelector('#df-1639ff2f-c4bb-4454-9fcd-50876358c5b7 button.colab-df-convert');\n",
              "      buttonEl.style.display =\n",
              "        google.colab.kernel.accessAllowed ? 'block' : 'none';\n",
              "\n",
              "      async function convertToInteractive(key) {\n",
              "        const element = document.querySelector('#df-1639ff2f-c4bb-4454-9fcd-50876358c5b7');\n",
              "        const dataTable =\n",
              "          await google.colab.kernel.invokeFunction('convertToInteractive',\n",
              "                                                    [key], {});\n",
              "        if (!dataTable) return;\n",
              "\n",
              "        const docLinkHtml = 'Like what you see? Visit the ' +\n",
              "          '<a target=\"_blank\" href=https://colab.research.google.com/notebooks/data_table.ipynb>data table notebook</a>'\n",
              "          + ' to learn more about interactive tables.';\n",
              "        element.innerHTML = '';\n",
              "        dataTable['output_type'] = 'display_data';\n",
              "        await google.colab.output.renderOutput(dataTable, element);\n",
              "        const docLink = document.createElement('div');\n",
              "        docLink.innerHTML = docLinkHtml;\n",
              "        element.appendChild(docLink);\n",
              "      }\n",
              "    </script>\n",
              "  </div>\n",
              "\n",
              "\n",
              "<div id=\"df-c5c432be-1fdd-4103-9ab9-12d2a1391e08\">\n",
              "  <button class=\"colab-df-quickchart\" onclick=\"quickchart('df-c5c432be-1fdd-4103-9ab9-12d2a1391e08')\"\n",
              "            title=\"Suggest charts\"\n",
              "            style=\"display:none;\">\n",
              "\n",
              "<svg xmlns=\"http://www.w3.org/2000/svg\" height=\"24px\"viewBox=\"0 0 24 24\"\n",
              "     width=\"24px\">\n",
              "    <g>\n",
              "        <path d=\"M19 3H5c-1.1 0-2 .9-2 2v14c0 1.1.9 2 2 2h14c1.1 0 2-.9 2-2V5c0-1.1-.9-2-2-2zM9 17H7v-7h2v7zm4 0h-2V7h2v10zm4 0h-2v-4h2v4z\"/>\n",
              "    </g>\n",
              "</svg>\n",
              "  </button>\n",
              "\n",
              "<style>\n",
              "  .colab-df-quickchart {\n",
              "      --bg-color: #E8F0FE;\n",
              "      --fill-color: #1967D2;\n",
              "      --hover-bg-color: #E2EBFA;\n",
              "      --hover-fill-color: #174EA6;\n",
              "      --disabled-fill-color: #AAA;\n",
              "      --disabled-bg-color: #DDD;\n",
              "  }\n",
              "\n",
              "  [theme=dark] .colab-df-quickchart {\n",
              "      --bg-color: #3B4455;\n",
              "      --fill-color: #D2E3FC;\n",
              "      --hover-bg-color: #434B5C;\n",
              "      --hover-fill-color: #FFFFFF;\n",
              "      --disabled-bg-color: #3B4455;\n",
              "      --disabled-fill-color: #666;\n",
              "  }\n",
              "\n",
              "  .colab-df-quickchart {\n",
              "    background-color: var(--bg-color);\n",
              "    border: none;\n",
              "    border-radius: 50%;\n",
              "    cursor: pointer;\n",
              "    display: none;\n",
              "    fill: var(--fill-color);\n",
              "    height: 32px;\n",
              "    padding: 0;\n",
              "    width: 32px;\n",
              "  }\n",
              "\n",
              "  .colab-df-quickchart:hover {\n",
              "    background-color: var(--hover-bg-color);\n",
              "    box-shadow: 0 1px 2px rgba(60, 64, 67, 0.3), 0 1px 3px 1px rgba(60, 64, 67, 0.15);\n",
              "    fill: var(--button-hover-fill-color);\n",
              "  }\n",
              "\n",
              "  .colab-df-quickchart-complete:disabled,\n",
              "  .colab-df-quickchart-complete:disabled:hover {\n",
              "    background-color: var(--disabled-bg-color);\n",
              "    fill: var(--disabled-fill-color);\n",
              "    box-shadow: none;\n",
              "  }\n",
              "\n",
              "  .colab-df-spinner {\n",
              "    border: 2px solid var(--fill-color);\n",
              "    border-color: transparent;\n",
              "    border-bottom-color: var(--fill-color);\n",
              "    animation:\n",
              "      spin 1s steps(1) infinite;\n",
              "  }\n",
              "\n",
              "  @keyframes spin {\n",
              "    0% {\n",
              "      border-color: transparent;\n",
              "      border-bottom-color: var(--fill-color);\n",
              "      border-left-color: var(--fill-color);\n",
              "    }\n",
              "    20% {\n",
              "      border-color: transparent;\n",
              "      border-left-color: var(--fill-color);\n",
              "      border-top-color: var(--fill-color);\n",
              "    }\n",
              "    30% {\n",
              "      border-color: transparent;\n",
              "      border-left-color: var(--fill-color);\n",
              "      border-top-color: var(--fill-color);\n",
              "      border-right-color: var(--fill-color);\n",
              "    }\n",
              "    40% {\n",
              "      border-color: transparent;\n",
              "      border-right-color: var(--fill-color);\n",
              "      border-top-color: var(--fill-color);\n",
              "    }\n",
              "    60% {\n",
              "      border-color: transparent;\n",
              "      border-right-color: var(--fill-color);\n",
              "    }\n",
              "    80% {\n",
              "      border-color: transparent;\n",
              "      border-right-color: var(--fill-color);\n",
              "      border-bottom-color: var(--fill-color);\n",
              "    }\n",
              "    90% {\n",
              "      border-color: transparent;\n",
              "      border-bottom-color: var(--fill-color);\n",
              "    }\n",
              "  }\n",
              "</style>\n",
              "\n",
              "  <script>\n",
              "    async function quickchart(key) {\n",
              "      const quickchartButtonEl =\n",
              "        document.querySelector('#' + key + ' button');\n",
              "      quickchartButtonEl.disabled = true;  // To prevent multiple clicks.\n",
              "      quickchartButtonEl.classList.add('colab-df-spinner');\n",
              "      try {\n",
              "        const charts = await google.colab.kernel.invokeFunction(\n",
              "            'suggestCharts', [key], {});\n",
              "      } catch (error) {\n",
              "        console.error('Error during call to suggestCharts:', error);\n",
              "      }\n",
              "      quickchartButtonEl.classList.remove('colab-df-spinner');\n",
              "      quickchartButtonEl.classList.add('colab-df-quickchart-complete');\n",
              "    }\n",
              "    (() => {\n",
              "      let quickchartButtonEl =\n",
              "        document.querySelector('#df-c5c432be-1fdd-4103-9ab9-12d2a1391e08 button');\n",
              "      quickchartButtonEl.style.display =\n",
              "        google.colab.kernel.accessAllowed ? 'block' : 'none';\n",
              "    })();\n",
              "  </script>\n",
              "</div>\n",
              "\n",
              "  <div id=\"id_0bf3541d-23eb-4c2a-8fce-3da6397160e0\">\n",
              "    <style>\n",
              "      .colab-df-generate {\n",
              "        background-color: #E8F0FE;\n",
              "        border: none;\n",
              "        border-radius: 50%;\n",
              "        cursor: pointer;\n",
              "        display: none;\n",
              "        fill: #1967D2;\n",
              "        height: 32px;\n",
              "        padding: 0 0 0 0;\n",
              "        width: 32px;\n",
              "      }\n",
              "\n",
              "      .colab-df-generate:hover {\n",
              "        background-color: #E2EBFA;\n",
              "        box-shadow: 0px 1px 2px rgba(60, 64, 67, 0.3), 0px 1px 3px 1px rgba(60, 64, 67, 0.15);\n",
              "        fill: #174EA6;\n",
              "      }\n",
              "\n",
              "      [theme=dark] .colab-df-generate {\n",
              "        background-color: #3B4455;\n",
              "        fill: #D2E3FC;\n",
              "      }\n",
              "\n",
              "      [theme=dark] .colab-df-generate:hover {\n",
              "        background-color: #434B5C;\n",
              "        box-shadow: 0px 1px 3px 1px rgba(0, 0, 0, 0.15);\n",
              "        filter: drop-shadow(0px 1px 2px rgba(0, 0, 0, 0.3));\n",
              "        fill: #FFFFFF;\n",
              "      }\n",
              "    </style>\n",
              "    <button class=\"colab-df-generate\" onclick=\"generateWithVariable('df')\"\n",
              "            title=\"Generate code using this dataframe.\"\n",
              "            style=\"display:none;\">\n",
              "\n",
              "  <svg xmlns=\"http://www.w3.org/2000/svg\" height=\"24px\"viewBox=\"0 0 24 24\"\n",
              "       width=\"24px\">\n",
              "    <path d=\"M7,19H8.4L18.45,9,17,7.55,7,17.6ZM5,21V16.75L18.45,3.32a2,2,0,0,1,2.83,0l1.4,1.43a1.91,1.91,0,0,1,.58,1.4,1.91,1.91,0,0,1-.58,1.4L9.25,21ZM18.45,9,17,7.55Zm-12,3A5.31,5.31,0,0,0,4.9,8.1,5.31,5.31,0,0,0,1,6.5,5.31,5.31,0,0,0,4.9,4.9,5.31,5.31,0,0,0,6.5,1,5.31,5.31,0,0,0,8.1,4.9,5.31,5.31,0,0,0,12,6.5,5.46,5.46,0,0,0,6.5,12Z\"/>\n",
              "  </svg>\n",
              "    </button>\n",
              "    <script>\n",
              "      (() => {\n",
              "      const buttonEl =\n",
              "        document.querySelector('#id_0bf3541d-23eb-4c2a-8fce-3da6397160e0 button.colab-df-generate');\n",
              "      buttonEl.style.display =\n",
              "        google.colab.kernel.accessAllowed ? 'block' : 'none';\n",
              "\n",
              "      buttonEl.onclick = () => {\n",
              "        google.colab.notebook.generateWithVariable('df');\n",
              "      }\n",
              "      })();\n",
              "    </script>\n",
              "  </div>\n",
              "\n",
              "    </div>\n",
              "  </div>\n"
            ]
          },
          "metadata": {},
          "execution_count": 4
        }
      ],
      "source": [
        "# https://www.kaggle.com/datasets/patelprashant/employee-attrition\n",
        "# 직원 퇴사 예측 데이터 (퇴사 여부 - Attrition (이직, 퇴사 여부))\n",
        "\n",
        "# 업로드할 수 있으면 repository? local -> jupyter가 읽을 수 있는 경로\n",
        "# colab -> google drive -> 데이터 업로드하는게 편함.\n",
        "# kaggle 직접 다운로드 받을 수 있으면 해당 방식도... wget, kaggle 라이브러리.\n",
        "\n",
        "# 외부에서 누가 접속을 해서 실행하는 경우를 가정. -> 여러분들 채용 담당자가 colab의 경우에는 실행을 해봄.\n",
        "url = 'https://raw.githubusercontent.com/BigDeepData/2312_example/main/data/WA_Fn-UseC_-HR-Employee-Attrition.csv'\n",
        "df = pd.read_csv(url) # pd.read_csv -> encoding, skiprows... 설정.\n",
        "df\n",
        "# 머신러닝 분석, EDA 등 데이터 분석과 시각화 과제를 내주는 경우."
      ]
    },
    {
      "cell_type": "code",
      "source": [
        "df.info() # df.head(), tail(), describe...\n",
        "# 1. 뭐가 y(label)이 될 것이냐?\n",
        "# 2. 혹시 결측치가 있나?\n",
        "# 3. 라벨인코딩, 원핫인코딩을 해야하나? (범주형 변수)"
      ],
      "metadata": {
        "colab": {
          "base_uri": "https://localhost:8080/"
        },
        "id": "3NemgTi9ty9X",
        "outputId": "a3128963-8256-4cf3-a25b-59dd030dcce3"
      },
      "execution_count": null,
      "outputs": [
        {
          "output_type": "stream",
          "name": "stdout",
          "text": [
            "<class 'pandas.core.frame.DataFrame'>\n",
            "RangeIndex: 1470 entries, 0 to 1469\n",
            "Data columns (total 35 columns):\n",
            " #   Column                    Non-Null Count  Dtype \n",
            "---  ------                    --------------  ----- \n",
            " 0   Age                       1470 non-null   int64 \n",
            " 1   Attrition                 1470 non-null   object\n",
            " 2   BusinessTravel            1470 non-null   object\n",
            " 3   DailyRate                 1470 non-null   int64 \n",
            " 4   Department                1470 non-null   object\n",
            " 5   DistanceFromHome          1470 non-null   int64 \n",
            " 6   Education                 1470 non-null   int64 \n",
            " 7   EducationField            1470 non-null   object\n",
            " 8   EmployeeCount             1470 non-null   int64 \n",
            " 9   EmployeeNumber            1470 non-null   int64 \n",
            " 10  EnvironmentSatisfaction   1470 non-null   int64 \n",
            " 11  Gender                    1470 non-null   object\n",
            " 12  HourlyRate                1470 non-null   int64 \n",
            " 13  JobInvolvement            1470 non-null   int64 \n",
            " 14  JobLevel                  1470 non-null   int64 \n",
            " 15  JobRole                   1470 non-null   object\n",
            " 16  JobSatisfaction           1470 non-null   int64 \n",
            " 17  MaritalStatus             1470 non-null   object\n",
            " 18  MonthlyIncome             1470 non-null   int64 \n",
            " 19  MonthlyRate               1470 non-null   int64 \n",
            " 20  NumCompaniesWorked        1470 non-null   int64 \n",
            " 21  Over18                    1470 non-null   object\n",
            " 22  OverTime                  1470 non-null   object\n",
            " 23  PercentSalaryHike         1470 non-null   int64 \n",
            " 24  PerformanceRating         1470 non-null   int64 \n",
            " 25  RelationshipSatisfaction  1470 non-null   int64 \n",
            " 26  StandardHours             1470 non-null   int64 \n",
            " 27  StockOptionLevel          1470 non-null   int64 \n",
            " 28  TotalWorkingYears         1470 non-null   int64 \n",
            " 29  TrainingTimesLastYear     1470 non-null   int64 \n",
            " 30  WorkLifeBalance           1470 non-null   int64 \n",
            " 31  YearsAtCompany            1470 non-null   int64 \n",
            " 32  YearsInCurrentRole        1470 non-null   int64 \n",
            " 33  YearsSinceLastPromotion   1470 non-null   int64 \n",
            " 34  YearsWithCurrManager      1470 non-null   int64 \n",
            "dtypes: int64(26), object(9)\n",
            "memory usage: 402.1+ KB\n"
          ]
        }
      ]
    },
    {
      "cell_type": "code",
      "source": [
        "df.nunique() # 어차피 값의 고유값이 1개라서 의미가 없는 열 정도만 drop\n",
        "# EmployeeNumber -> 1470, 1470? -> id 값. -> drop."
      ],
      "metadata": {
        "colab": {
          "base_uri": "https://localhost:8080/"
        },
        "id": "PxaodTbx2gk9",
        "outputId": "30c40adb-e022-4f9d-e4c2-66eb3fee8562"
      },
      "execution_count": null,
      "outputs": [
        {
          "output_type": "execute_result",
          "data": {
            "text/plain": [
              "Age                           43\n",
              "Attrition                      2\n",
              "BusinessTravel                 3\n",
              "DailyRate                    886\n",
              "Department                     3\n",
              "DistanceFromHome              29\n",
              "Education                      5\n",
              "EducationField                 6\n",
              "EmployeeCount                  1\n",
              "EmployeeNumber              1470\n",
              "EnvironmentSatisfaction        4\n",
              "Gender                         2\n",
              "HourlyRate                    71\n",
              "JobInvolvement                 4\n",
              "JobLevel                       5\n",
              "JobRole                        9\n",
              "JobSatisfaction                4\n",
              "MaritalStatus                  3\n",
              "MonthlyIncome               1349\n",
              "MonthlyRate                 1427\n",
              "NumCompaniesWorked            10\n",
              "Over18                         1\n",
              "OverTime                       2\n",
              "PercentSalaryHike             15\n",
              "PerformanceRating              2\n",
              "RelationshipSatisfaction       4\n",
              "StandardHours                  1\n",
              "StockOptionLevel               4\n",
              "TotalWorkingYears             40\n",
              "TrainingTimesLastYear          7\n",
              "WorkLifeBalance                4\n",
              "YearsAtCompany                37\n",
              "YearsInCurrentRole            19\n",
              "YearsSinceLastPromotion       16\n",
              "YearsWithCurrManager          18\n",
              "dtype: int64"
            ]
          },
          "metadata": {},
          "execution_count": 6
        }
      ]
    },
    {
      "cell_type": "code",
      "source": [
        "# 데이터프레임(df)에서 각 열의 고유한 값의 개수를 계산합니다.\n",
        "unique_value_counts = df.nunique()\n",
        "\n",
        "# 고유한 값의 개수가 1 이하인 열을 필터링합니다.\n",
        "# Over18, StandardHours\n",
        "# 이때, True 또는 False로 구성된 불리언 시리즈가 생성됩니다.\n",
        "columns_to_drop = unique_value_counts[unique_value_counts <= 1]\n",
        "\n",
        "# 고유한 값의 개수가 1 이하인 열의 인덱스를 리스트로 추출합니다.\n",
        "columns_to_drop_indices = columns_to_drop.index.to_list()\n",
        "\n",
        "# 추출한 열의 인덱스를 사용하여 해당 열들을 데이터프레임에서 제거합니다.\n",
        "# axis=1은 열 방향을 의미합니다.\n",
        "# inplace=True를 사용하여 원본 데이터프레임을 수정합니다.\n",
        "df.drop(columns=columns_to_drop_indices, axis=1, inplace=True)"
      ],
      "metadata": {
        "id": "wMtiWHNG2qPL"
      },
      "execution_count": null,
      "outputs": []
    },
    {
      "cell_type": "code",
      "source": [
        "df.drop('EmployeeNumber', axis=1, inplace=True) # 모든 행에 고유값인 id를 drop"
      ],
      "metadata": {
        "id": "FbtE2Ox02xnN"
      },
      "execution_count": null,
      "outputs": []
    },
    {
      "cell_type": "code",
      "source": [
        "# label -> 0, 1로 인코딩. Yes -> 1, No -> 0\n",
        "df['Attrition'] = df['Attrition'].eq('Yes')"
      ],
      "metadata": {
        "id": "W062dMDz3KFK"
      },
      "execution_count": null,
      "outputs": []
    },
    {
      "cell_type": "code",
      "source": [
        "# 원래의 데이터(y label)의 분포.\n",
        "df['Attrition'].mean() # 퇴사한 경우"
      ],
      "metadata": {
        "colab": {
          "base_uri": "https://localhost:8080/"
        },
        "id": "y6gvSyyy-bQY",
        "outputId": "d6e2f139-bc29-4479-8cf1-cb076e4e294f"
      },
      "execution_count": null,
      "outputs": [
        {
          "output_type": "execute_result",
          "data": {
            "text/plain": [
              "0.16122448979591836"
            ]
          },
          "metadata": {},
          "execution_count": 10
        }
      ]
    },
    {
      "cell_type": "code",
      "source": [
        "1 - df['Attrition'].mean() # 퇴사 안한 경우 (84%)\n",
        "# 정확도가 적어도 84%보다 높아야한다."
      ],
      "metadata": {
        "colab": {
          "base_uri": "https://localhost:8080/"
        },
        "id": "i2tAqLnjdQ2A",
        "outputId": "e6fd45b6-3eb9-4d10-f641-e6eeff5c6013"
      },
      "execution_count": null,
      "outputs": [
        {
          "output_type": "execute_result",
          "data": {
            "text/plain": [
              "0.8387755102040817"
            ]
          },
          "metadata": {},
          "execution_count": 11
        }
      ]
    },
    {
      "cell_type": "code",
      "source": [
        "df_ = df.copy() # 혹시 몰라서 copy"
      ],
      "metadata": {
        "id": "ISuUXdLI1lF9"
      },
      "execution_count": null,
      "outputs": []
    },
    {
      "cell_type": "code",
      "source": [
        "df_.columns"
      ],
      "metadata": {
        "colab": {
          "base_uri": "https://localhost:8080/"
        },
        "id": "inVzIOcH1nRB",
        "outputId": "468bb375-64d3-4fe2-b4dc-b20beddc2224"
      },
      "execution_count": null,
      "outputs": [
        {
          "output_type": "execute_result",
          "data": {
            "text/plain": [
              "Index(['Age', 'Attrition', 'BusinessTravel', 'DailyRate', 'Department',\n",
              "       'DistanceFromHome', 'Education', 'EducationField',\n",
              "       'EnvironmentSatisfaction', 'Gender', 'HourlyRate', 'JobInvolvement',\n",
              "       'JobLevel', 'JobRole', 'JobSatisfaction', 'MaritalStatus',\n",
              "       'MonthlyIncome', 'MonthlyRate', 'NumCompaniesWorked', 'OverTime',\n",
              "       'PercentSalaryHike', 'PerformanceRating', 'RelationshipSatisfaction',\n",
              "       'StockOptionLevel', 'TotalWorkingYears', 'TrainingTimesLastYear',\n",
              "       'WorkLifeBalance', 'YearsAtCompany', 'YearsInCurrentRole',\n",
              "       'YearsSinceLastPromotion', 'YearsWithCurrManager'],\n",
              "      dtype='object')"
            ]
          },
          "metadata": {},
          "execution_count": 76
        }
      ]
    },
    {
      "cell_type": "code",
      "source": [
        "df = pd.get_dummies(\n",
        "    df,\n",
        "    columns=df.dtypes[df.dtypes == 'object'].index,\n",
        "    drop_first=True) # 원핫인코딩"
      ],
      "metadata": {
        "id": "m-JJyG4c23Rr"
      },
      "execution_count": null,
      "outputs": []
    },
    {
      "cell_type": "code",
      "source": [
        "# 스케일링 -> MinMax, Standard. (Boxplot 등 사용하여 이상치가 많이 발견되면 Robust)\n",
        "scaler = MinMaxScaler()\n",
        "scaler.fit(df)\n",
        "scaled = pd.DataFrame(scaler.transform(df), columns=df.columns)"
      ],
      "metadata": {
        "id": "xBGlr8wq3l-m"
      },
      "execution_count": null,
      "outputs": []
    },
    {
      "cell_type": "markdown",
      "source": [
        "### Correlation"
      ],
      "metadata": {
        "id": "UjC_rqV48OX7"
      }
    },
    {
      "cell_type": "code",
      "source": [
        "import seaborn as sns\n",
        "import matplotlib.pyplot as plt\n",
        "\n",
        "# df.corr() -> 피어슨 상관계수 => 수치형 데이터들 간 둘의 상관관계(증감에 따라 서로 비례/반비례하는 관계?)\n",
        "# 범주형 변수 -> 원핫인코딩을 함 -> 모든 열에 대한 상관계수를 구할 순 있음.\n",
        "corr = scaled.corr()\n",
        "\n",
        "sns.heatmap(corr, cmap='RdBu') # heatmap -> 어느부분이 도드라지게 상관관계가 보이나..."
      ],
      "metadata": {
        "colab": {
          "base_uri": "https://localhost:8080/",
          "height": 706
        },
        "id": "_u7YIdY9yd7t",
        "outputId": "5e65bac8-26f2-41e9-fd98-658169f82aff"
      },
      "execution_count": null,
      "outputs": [
        {
          "output_type": "execute_result",
          "data": {
            "text/plain": [
              "<Axes: >"
            ]
          },
          "metadata": {},
          "execution_count": 16
        },
        {
          "output_type": "display_data",
          "data": {
            "text/plain": [
              "<Figure size 640x480 with 2 Axes>"
            ],
            "image/png": "[encoded data removed]"
          },
          "metadata": {}
        }
      ]
    },
    {
      "cell_type": "code",
      "source": [
        "# 목표가 되는 y 타깃변수와 다른 변수들 간의 상관관계\n",
        "corr.Attrition.sort_values(ascending=False)[1:]\n",
        "# y를 빨리 어떠한 연속형, 범주형이든 구체화를 해라..."
      ],
      "metadata": {
        "colab": {
          "base_uri": "https://localhost:8080/"
        },
        "id": "NQfUrzeu3VSl",
        "outputId": "de84f7f9-1bb4-4f68-ba67-0eddb652bbc5"
      },
      "execution_count": null,
      "outputs": [
        {
          "output_type": "execute_result",
          "data": {
            "text/plain": [
              "OverTime_Yes                         0.246118\n",
              "MaritalStatus_Single                 0.175419\n",
              "JobRole_Sales Representative         0.157234\n",
              "BusinessTravel_Travel_Frequently     0.115143\n",
              "JobRole_Laboratory Technician        0.098290\n",
              "Department_Sales                     0.080855\n",
              "DistanceFromHome                     0.077924\n",
              "EducationField_Technical Degree      0.069355\n",
              "EducationField_Marketing             0.055781\n",
              "NumCompaniesWorked                   0.043494\n",
              "JobRole_Human Resources              0.036215\n",
              "Gender_Male                          0.029453\n",
              "JobRole_Sales Executive              0.019774\n",
              "MonthlyRate                          0.015170\n",
              "PerformanceRating                    0.002889\n",
              "JobRole_Research Scientist          -0.000360\n",
              "HourlyRate                          -0.006846\n",
              "PercentSalaryHike                   -0.013478\n",
              "EducationField_Other                -0.017898\n",
              "Education                           -0.031373\n",
              "EducationField_Life Sciences        -0.032703\n",
              "YearsSinceLastPromotion             -0.033019\n",
              "RelationshipSatisfaction            -0.045872\n",
              "EducationField_Medical              -0.046999\n",
              "BusinessTravel_Travel_Rarely        -0.049538\n",
              "DailyRate                           -0.056652\n",
              "TrainingTimesLastYear               -0.059478\n",
              "WorkLifeBalance                     -0.063939\n",
              "JobRole_Manufacturing Director      -0.082994\n",
              "JobRole_Manager                     -0.083316\n",
              "Department_Research & Development   -0.085293\n",
              "JobRole_Research Director           -0.088870\n",
              "MaritalStatus_Married               -0.090984\n",
              "EnvironmentSatisfaction             -0.103369\n",
              "JobSatisfaction                     -0.103481\n",
              "JobInvolvement                      -0.130016\n",
              "YearsAtCompany                      -0.134392\n",
              "StockOptionLevel                    -0.137145\n",
              "YearsWithCurrManager                -0.156199\n",
              "Age                                 -0.159205\n",
              "MonthlyIncome                       -0.159840\n",
              "YearsInCurrentRole                  -0.160545\n",
              "JobLevel                            -0.169105\n",
              "TotalWorkingYears                   -0.171063\n",
              "Name: Attrition, dtype: float64"
            ]
          },
          "metadata": {},
          "execution_count": 17
        }
      ]
    },
    {
      "cell_type": "code",
      "source": [
        "# abs : 절대값\n",
        "# sort_values : 정렬, ascending=False : 내림차순, [1:] : 자기 자신 제외.\n",
        "abs_attrition_corr = corr.Attrition.apply(abs).sort_values(ascending=False)[1:]\n",
        "abs_attrition_corr.head(10) # feature selection -> 10? 20?만 추려서 예측."
      ],
      "metadata": {
        "colab": {
          "base_uri": "https://localhost:8080/"
        },
        "id": "9Dov22gI_9LJ",
        "outputId": "43a112ae-6353-43ef-bd6d-5dac47c76b61"
      },
      "execution_count": null,
      "outputs": [
        {
          "output_type": "execute_result",
          "data": {
            "text/plain": [
              "OverTime_Yes                    0.246118\n",
              "MaritalStatus_Single            0.175419\n",
              "TotalWorkingYears               0.171063\n",
              "JobLevel                        0.169105\n",
              "YearsInCurrentRole              0.160545\n",
              "MonthlyIncome                   0.159840\n",
              "Age                             0.159205\n",
              "JobRole_Sales Representative    0.157234\n",
              "YearsWithCurrManager            0.156199\n",
              "StockOptionLevel                0.137145\n",
              "Name: Attrition, dtype: float64"
            ]
          },
          "metadata": {},
          "execution_count": 18
        }
      ]
    },
    {
      "cell_type": "code",
      "source": [
        "abs_attrition_corr\n",
        "# 1. 절대적인 기준을 잡아서 -> 상관성이 0.01보다 커야...\n",
        "# 2. 다음으로 넘어가다보면 갑자기 팍 줄어드는 경우\n",
        "# xgboost나 lightgbm의 경우에는 열의 갯수로 인한 성능저하가 크진 않아요.\n",
        "# pca나 다른 변환 비지도학습을 사용해서 갯수를 조정하는 방식..."
      ],
      "metadata": {
        "colab": {
          "base_uri": "https://localhost:8080/"
        },
        "id": "oZveDLKsfAZk",
        "outputId": "1699d84f-ec06-4191-f12e-d3bc2a931c2c"
      },
      "execution_count": null,
      "outputs": [
        {
          "output_type": "execute_result",
          "data": {
            "text/plain": [
              "OverTime_Yes                         0.246118\n",
              "MaritalStatus_Single                 0.175419\n",
              "TotalWorkingYears                    0.171063\n",
              "JobLevel                             0.169105\n",
              "YearsInCurrentRole                   0.160545\n",
              "MonthlyIncome                        0.159840\n",
              "Age                                  0.159205\n",
              "JobRole_Sales Representative         0.157234\n",
              "YearsWithCurrManager                 0.156199\n",
              "StockOptionLevel                     0.137145\n",
              "YearsAtCompany                       0.134392\n",
              "JobInvolvement                       0.130016\n",
              "BusinessTravel_Travel_Frequently     0.115143\n",
              "JobSatisfaction                      0.103481\n",
              "EnvironmentSatisfaction              0.103369\n",
              "JobRole_Laboratory Technician        0.098290\n",
              "MaritalStatus_Married                0.090984\n",
              "JobRole_Research Director            0.088870\n",
              "Department_Research & Development    0.085293\n",
              "JobRole_Manager                      0.083316\n",
              "JobRole_Manufacturing Director       0.082994\n",
              "Department_Sales                     0.080855\n",
              "DistanceFromHome                     0.077924\n",
              "EducationField_Technical Degree      0.069355\n",
              "WorkLifeBalance                      0.063939\n",
              "TrainingTimesLastYear                0.059478\n",
              "DailyRate                            0.056652\n",
              "EducationField_Marketing             0.055781\n",
              "BusinessTravel_Travel_Rarely         0.049538\n",
              "EducationField_Medical               0.046999\n",
              "RelationshipSatisfaction             0.045872\n",
              "NumCompaniesWorked                   0.043494\n",
              "JobRole_Human Resources              0.036215\n",
              "YearsSinceLastPromotion              0.033019\n",
              "EducationField_Life Sciences         0.032703\n",
              "Education                            0.031373\n",
              "Gender_Male                          0.029453\n",
              "JobRole_Sales Executive              0.019774\n",
              "EducationField_Other                 0.017898\n",
              "MonthlyRate                          0.015170\n",
              "PercentSalaryHike                    0.013478\n",
              "HourlyRate                           0.006846\n",
              "PerformanceRating                    0.002889\n",
              "JobRole_Research Scientist           0.000360\n",
              "Name: Attrition, dtype: float64"
            ]
          },
          "metadata": {},
          "execution_count": 19
        }
      ]
    },
    {
      "cell_type": "code",
      "source": [
        "#@title Matplotlib\n",
        "abs_attrition_corr_top10 = abs_attrition_corr.head(10)\n",
        "plt.bar(abs_attrition_corr_top10.index,\n",
        "        abs_attrition_corr_top10.values)\n",
        "plt.xlabel('Features')\n",
        "plt.ylabel('Correlation')\n",
        "plt.title('Correlation between features and attrition')\n",
        "plt.xticks(rotation=45)\n",
        "plt.show()"
      ],
      "metadata": {
        "colab": {
          "base_uri": "https://localhost:8080/",
          "height": 612
        },
        "id": "5VAdAuiJ0FfP",
        "outputId": "66ad6efb-20b2-45e1-8841-adad3ea89d71",
        "cellView": "form"
      },
      "execution_count": null,
      "outputs": [
        {
          "output_type": "display_data",
          "data": {
            "text/plain": [
              "<Figure size 640x480 with 1 Axes>"
            ],
            "image/png": "[encoded data removed]"
          },
          "metadata": {}
        }
      ]
    },
    {
      "cell_type": "code",
      "source": [
        "#@title Seaborn\n",
        "# 다양한 패키지를 모두 보여줘라? -> 내가 필요에 따라 여러 라이브러리를 활용할 수 있다.\n",
        "\n",
        "sns.barplot(x=abs_attrition_corr_top10.index,\n",
        "            y=abs_attrition_corr_top10.values)\n",
        "plt.xlabel('Features')\n",
        "plt.ylabel('Correlation')\n",
        "plt.title('Correlation between features and attrition')\n",
        "plt.xticks(rotation=45)\n",
        "plt.show()"
      ],
      "metadata": {
        "colab": {
          "base_uri": "https://localhost:8080/",
          "height": 612
        },
        "id": "8dT2Npap06nv",
        "outputId": "a6b1d838-0fd0-49be-af8c-731b865244c7",
        "cellView": "form"
      },
      "execution_count": null,
      "outputs": [
        {
          "output_type": "display_data",
          "data": {
            "text/plain": [
              "<Figure size 640x480 with 1 Axes>"
            ],
            "image/png": "[encoded data removed]"
          },
          "metadata": {}
        }
      ]
    },
    {
      "cell_type": "code",
      "source": [
        "#@title Plotly\n",
        "\n",
        "import plotly.express as px\n",
        "\n",
        "fig = px.bar(abs_attrition_corr_top10,\n",
        "             x=abs_attrition_corr_top10.index,\n",
        "             y=abs_attrition_corr_top10.values)\n",
        "fig.show()"
      ],
      "metadata": {
        "colab": {
          "base_uri": "https://localhost:8080/",
          "height": 542
        },
        "id": "eMc_TX4p0GO9",
        "outputId": "87c89aff-3df7-40c5-94a7-66927c5576dd",
        "cellView": "form"
      },
      "execution_count": null,
      "outputs": [
        {
          "output_type": "display_data",
          "data": {
            "text/html": [
              "<html>\n",
              "<head><meta charset=\"utf-8\" /></head>\n",
              "<body>\n",
              "    <div>            <script src=\"https://cdnjs.cloudflare.com/ajax/libs/mathjax/2.7.5/MathJax.js?config=TeX-AMS-MML_SVG\"></script><script type=\"text/javascript\">if (window.MathJax && window.MathJax.Hub && window.MathJax.Hub.Config) {window.MathJax.Hub.Config({SVG: {font: \"STIX-Web\"}});}</script>                <script type=\"text/javascript\">window.PlotlyConfig = {MathJaxConfig: 'local'};</script>\n",
              "        <script charset=\"utf-8\" src=\"https://cdn.plot.ly/plotly-2.24.1.min.js\"></script>                <div id=\"e930b656-650e-45f9-8904-b40a6b480e99\" class=\"plotly-graph-div\" style=\"height:525px; width:100%;\"></div>            <script type=\"text/javascript\">                                    window.PLOTLYENV=window.PLOTLYENV || {};                                    if (document.getElementById(\"e930b656-650e-45f9-8904-b40a6b480e99\")) {                    Plotly.newPlot(                        \"e930b656-650e-45f9-8904-b40a6b480e99\",                        [{\"alignmentgroup\":\"True\",\"hovertemplate\":\"index=%{x}\\u003cbr\\u003ey=%{y}\\u003cextra\\u003e\\u003c\\u002fextra\\u003e\",\"legendgroup\":\"\",\"marker\":{\"color\":\"#636efa\",\"pattern\":{\"shape\":\"\"}},\"name\":\"\",\"offsetgroup\":\"\",\"orientation\":\"v\",\"showlegend\":false,\"textposition\":\"auto\",\"x\":[\"OverTime_Yes\",\"MaritalStatus_Single\",\"TotalWorkingYears\",\"JobLevel\",\"YearsInCurrentRole\",\"MonthlyIncome\",\"Age\",\"JobRole_Sales Representative\",\"YearsWithCurrManager\",\"StockOptionLevel\"],\"xaxis\":\"x\",\"y\":[0.24611799424580436,0.17541855360921932,0.17106324613622637,0.16910475093102753,0.16054500426770069,0.1598395823849888,0.15920500686578,0.15723427011479307,0.1561993159016286,0.1371449189333257],\"yaxis\":\"y\",\"type\":\"bar\"}],                        {\"template\":{\"data\":{\"histogram2dcontour\":[{\"type\":\"histogram2dcontour\",\"colorbar\":{\"outlinewidth\":0,\"ticks\":\"\"},\"colorscale\":[[0.0,\"#0d0887\"],[0.1111111111111111,\"#46039f\"],[0.2222222222222222,\"#7201a8\"],[0.3333333333333333,\"#9c179e\"],[0.4444444444444444,\"#bd3786\"],[0.5555555555555556,\"#d8576b\"],[0.6666666666666666,\"#ed7953\"],[0.7777777777777778,\"#fb9f3a\"],[0.8888888888888888,\"#fdca26\"],[1.0,\"#f0f921\"]]}],\"choropleth\":[{\"type\":\"choropleth\",\"colorbar\":{\"outlinewidth\":0,\"ticks\":\"\"}}],\"histogram2d\":[{\"type\":\"histogram2d\",\"colorbar\":{\"outlinewidth\":0,\"ticks\":\"\"},\"colorscale\":[[0.0,\"#0d0887\"],[0.1111111111111111,\"#46039f\"],[0.2222222222222222,\"#7201a8\"],[0.3333333333333333,\"#9c179e\"],[0.4444444444444444,\"#bd3786\"],[0.5555555555555556,\"#d8576b\"],[0.6666666666666666,\"#ed7953\"],[0.7777777777777778,\"#fb9f3a\"],[0.8888888888888888,\"#fdca26\"],[1.0,\"#f0f921\"]]}],\"heatmap\":[{\"type\":\"heatmap\",\"colorbar\":{\"outlinewidth\":0,\"ticks\":\"\"},\"colorscale\":[[0.0,\"#0d0887\"],[0.1111111111111111,\"#46039f\"],[0.2222222222222222,\"#7201a8\"],[0.3333333333333333,\"#9c179e\"],[0.4444444444444444,\"#bd3786\"],[0.5555555555555556,\"#d8576b\"],[0.6666666666666666,\"#ed7953\"],[0.7777777777777778,\"#fb9f3a\"],[0.8888888888888888,\"#fdca26\"],[1.0,\"#f0f921\"]]}],\"heatmapgl\":[{\"type\":\"heatmapgl\",\"colorbar\":{\"outlinewidth\":0,\"ticks\":\"\"},\"colorscale\":[[0.0,\"#0d0887\"],[0.1111111111111111,\"#46039f\"],[0.2222222222222222,\"#7201a8\"],[0.3333333333333333,\"#9c179e\"],[0.4444444444444444,\"#bd3786\"],[0.5555555555555556,\"#d8576b\"],[0.6666666666666666,\"#ed7953\"],[0.7777777777777778,\"#fb9f3a\"],[0.8888888888888888,\"#fdca26\"],[1.0,\"#f0f921\"]]}],\"contourcarpet\":[{\"type\":\"contourcarpet\",\"colorbar\":{\"outlinewidth\":0,\"ticks\":\"\"}}],\"contour\":[{\"type\":\"contour\",\"colorbar\":{\"outlinewidth\":0,\"ticks\":\"\"},\"colorscale\":[[0.0,\"#0d0887\"],[0.1111111111111111,\"#46039f\"],[0.2222222222222222,\"#7201a8\"],[0.3333333333333333,\"#9c179e\"],[0.4444444444444444,\"#bd3786\"],[0.5555555555555556,\"#d8576b\"],[0.6666666666666666,\"#ed7953\"],[0.7777777777777778,\"#fb9f3a\"],[0.8888888888888888,\"#fdca26\"],[1.0,\"#f0f921\"]]}],\"surface\":[{\"type\":\"surface\",\"colorbar\":{\"outlinewidth\":0,\"ticks\":\"\"},\"colorscale\":[[0.0,\"#0d0887\"],[0.1111111111111111,\"#46039f\"],[0.2222222222222222,\"#7201a8\"],[0.3333333333333333,\"#9c179e\"],[0.4444444444444444,\"#bd3786\"],[0.5555555555555556,\"#d8576b\"],[0.6666666666666666,\"#ed7953\"],[0.7777777777777778,\"#fb9f3a\"],[0.8888888888888888,\"#fdca26\"],[1.0,\"#f0f921\"]]}],\"mesh3d\":[{\"type\":\"mesh3d\",\"colorbar\":{\"outlinewidth\":0,\"ticks\":\"\"}}],\"scatter\":[{\"fillpattern\":{\"fillmode\":\"overlay\",\"size\":10,\"solidity\":0.2},\"type\":\"scatter\"}],\"parcoords\":[{\"type\":\"parcoords\",\"line\":{\"colorbar\":{\"outlinewidth\":0,\"ticks\":\"\"}}}],\"scatterpolargl\":[{\"type\":\"scatterpolargl\",\"marker\":{\"colorbar\":{\"outlinewidth\":0,\"ticks\":\"\"}}}],\"bar\":[{\"error_x\":{\"color\":\"#2a3f5f\"},\"error_y\":{\"color\":\"#2a3f5f\"},\"marker\":{\"line\":{\"color\":\"#E5ECF6\",\"width\":0.5},\"pattern\":{\"fillmode\":\"overlay\",\"size\":10,\"solidity\":0.2}},\"type\":\"bar\"}],\"scattergeo\":[{\"type\":\"scattergeo\",\"marker\":{\"colorbar\":{\"outlinewidth\":0,\"ticks\":\"\"}}}],\"scatterpolar\":[{\"type\":\"scatterpolar\",\"marker\":{\"colorbar\":{\"outlinewidth\":0,\"ticks\":\"\"}}}],\"histogram\":[{\"marker\":{\"pattern\":{\"fillmode\":\"overlay\",\"size\":10,\"solidity\":0.2}},\"type\":\"histogram\"}],\"scattergl\":[{\"type\":\"scattergl\",\"marker\":{\"colorbar\":{\"outlinewidth\":0,\"ticks\":\"\"}}}],\"scatter3d\":[{\"type\":\"scatter3d\",\"line\":{\"colorbar\":{\"outlinewidth\":0,\"ticks\":\"\"}},\"marker\":{\"colorbar\":{\"outlinewidth\":0,\"ticks\":\"\"}}}],\"scattermapbox\":[{\"type\":\"scattermapbox\",\"marker\":{\"colorbar\":{\"outlinewidth\":0,\"ticks\":\"\"}}}],\"scatterternary\":[{\"type\":\"scatterternary\",\"marker\":{\"colorbar\":{\"outlinewidth\":0,\"ticks\":\"\"}}}],\"scattercarpet\":[{\"type\":\"scattercarpet\",\"marker\":{\"colorbar\":{\"outlinewidth\":0,\"ticks\":\"\"}}}],\"carpet\":[{\"aaxis\":{\"endlinecolor\":\"#2a3f5f\",\"gridcolor\":\"white\",\"linecolor\":\"white\",\"minorgridcolor\":\"white\",\"startlinecolor\":\"#2a3f5f\"},\"baxis\":{\"endlinecolor\":\"#2a3f5f\",\"gridcolor\":\"white\",\"linecolor\":\"white\",\"minorgridcolor\":\"white\",\"startlinecolor\":\"#2a3f5f\"},\"type\":\"carpet\"}],\"table\":[{\"cells\":{\"fill\":{\"color\":\"#EBF0F8\"},\"line\":{\"color\":\"white\"}},\"header\":{\"fill\":{\"color\":\"#C8D4E3\"},\"line\":{\"color\":\"white\"}},\"type\":\"table\"}],\"barpolar\":[{\"marker\":{\"line\":{\"color\":\"#E5ECF6\",\"width\":0.5},\"pattern\":{\"fillmode\":\"overlay\",\"size\":10,\"solidity\":0.2}},\"type\":\"barpolar\"}],\"pie\":[{\"automargin\":true,\"type\":\"pie\"}]},\"layout\":{\"autotypenumbers\":\"strict\",\"colorway\":[\"#636efa\",\"#EF553B\",\"#00cc96\",\"#ab63fa\",\"#FFA15A\",\"#19d3f3\",\"#FF6692\",\"#B6E880\",\"#FF97FF\",\"#FECB52\"],\"font\":{\"color\":\"#2a3f5f\"},\"hovermode\":\"closest\",\"hoverlabel\":{\"align\":\"left\"},\"paper_bgcolor\":\"white\",\"plot_bgcolor\":\"#E5ECF6\",\"polar\":{\"bgcolor\":\"#E5ECF6\",\"angularaxis\":{\"gridcolor\":\"white\",\"linecolor\":\"white\",\"ticks\":\"\"},\"radialaxis\":{\"gridcolor\":\"white\",\"linecolor\":\"white\",\"ticks\":\"\"}},\"ternary\":{\"bgcolor\":\"#E5ECF6\",\"aaxis\":{\"gridcolor\":\"white\",\"linecolor\":\"white\",\"ticks\":\"\"},\"baxis\":{\"gridcolor\":\"white\",\"linecolor\":\"white\",\"ticks\":\"\"},\"caxis\":{\"gridcolor\":\"white\",\"linecolor\":\"white\",\"ticks\":\"\"}},\"coloraxis\":{\"colorbar\":{\"outlinewidth\":0,\"ticks\":\"\"}},\"colorscale\":{\"sequential\":[[0.0,\"#0d0887\"],[0.1111111111111111,\"#46039f\"],[0.2222222222222222,\"#7201a8\"],[0.3333333333333333,\"#9c179e\"],[0.4444444444444444,\"#bd3786\"],[0.5555555555555556,\"#d8576b\"],[0.6666666666666666,\"#ed7953\"],[0.7777777777777778,\"#fb9f3a\"],[0.8888888888888888,\"#fdca26\"],[1.0,\"#f0f921\"]],\"sequentialminus\":[[0.0,\"#0d0887\"],[0.1111111111111111,\"#46039f\"],[0.2222222222222222,\"#7201a8\"],[0.3333333333333333,\"#9c179e\"],[0.4444444444444444,\"#bd3786\"],[0.5555555555555556,\"#d8576b\"],[0.6666666666666666,\"#ed7953\"],[0.7777777777777778,\"#fb9f3a\"],[0.8888888888888888,\"#fdca26\"],[1.0,\"#f0f921\"]],\"diverging\":[[0,\"#8e0152\"],[0.1,\"#c51b7d\"],[0.2,\"#de77ae\"],[0.3,\"#f1b6da\"],[0.4,\"#fde0ef\"],[0.5,\"#f7f7f7\"],[0.6,\"#e6f5d0\"],[0.7,\"#b8e186\"],[0.8,\"#7fbc41\"],[0.9,\"#4d9221\"],[1,\"#276419\"]]},\"xaxis\":{\"gridcolor\":\"white\",\"linecolor\":\"white\",\"ticks\":\"\",\"title\":{\"standoff\":15},\"zerolinecolor\":\"white\",\"automargin\":true,\"zerolinewidth\":2},\"yaxis\":{\"gridcolor\":\"white\",\"linecolor\":\"white\",\"ticks\":\"\",\"title\":{\"standoff\":15},\"zerolinecolor\":\"white\",\"automargin\":true,\"zerolinewidth\":2},\"scene\":{\"xaxis\":{\"backgroundcolor\":\"#E5ECF6\",\"gridcolor\":\"white\",\"linecolor\":\"white\",\"showbackground\":true,\"ticks\":\"\",\"zerolinecolor\":\"white\",\"gridwidth\":2},\"yaxis\":{\"backgroundcolor\":\"#E5ECF6\",\"gridcolor\":\"white\",\"linecolor\":\"white\",\"showbackground\":true,\"ticks\":\"\",\"zerolinecolor\":\"white\",\"gridwidth\":2},\"zaxis\":{\"backgroundcolor\":\"#E5ECF6\",\"gridcolor\":\"white\",\"linecolor\":\"white\",\"showbackground\":true,\"ticks\":\"\",\"zerolinecolor\":\"white\",\"gridwidth\":2}},\"shapedefaults\":{\"line\":{\"color\":\"#2a3f5f\"}},\"annotationdefaults\":{\"arrowcolor\":\"#2a3f5f\",\"arrowhead\":0,\"arrowwidth\":1},\"geo\":{\"bgcolor\":\"white\",\"landcolor\":\"#E5ECF6\",\"subunitcolor\":\"white\",\"showland\":true,\"showlakes\":true,\"lakecolor\":\"white\"},\"title\":{\"x\":0.05},\"mapbox\":{\"style\":\"light\"}}},\"xaxis\":{\"anchor\":\"y\",\"domain\":[0.0,1.0],\"title\":{\"text\":\"index\"}},\"yaxis\":{\"anchor\":\"x\",\"domain\":[0.0,1.0],\"title\":{\"text\":\"y\"}},\"legend\":{\"tracegroupgap\":0},\"margin\":{\"t\":60},\"barmode\":\"relative\"},                        {\"responsive\": true}                    ).then(function(){\n",
              "                            \n",
              "var gd = document.getElementById('e930b656-650e-45f9-8904-b40a6b480e99');\n",
              "var x = new MutationObserver(function (mutations, observer) {{\n",
              "        var display = window.getComputedStyle(gd).display;\n",
              "        if (!display || display === 'none') {{\n",
              "            console.log([gd, 'removed!']);\n",
              "            Plotly.purge(gd);\n",
              "            observer.disconnect();\n",
              "        }}\n",
              "}});\n",
              "\n",
              "// Listen for the removal of the full notebook cells\n",
              "var notebookContainer = gd.closest('#notebook-container');\n",
              "if (notebookContainer) {{\n",
              "    x.observe(notebookContainer, {childList: true});\n",
              "}}\n",
              "\n",
              "// Listen for the clearing of the current output cell\n",
              "var outputEl = gd.closest('.output');\n",
              "if (outputEl) {{\n",
              "    x.observe(outputEl, {childList: true});\n",
              "}}\n",
              "\n",
              "                        })                };                            </script>        </div>\n",
              "</body>\n",
              "</html>"
            ]
          },
          "metadata": {}
        }
      ]
    },
    {
      "cell_type": "markdown",
      "source": [
        "* 위의 상관성을 바탕으로 한 feature selection 진행하고, 해당 데이터를 바탕으로 해서 별도의 모델을 만들어보는 것도?\n",
        "* 정확도를 높이거나, 오차를 줄이기 위해서 여러가지 데이터 기법과 모델링을 진행하는 직무\n",
        "    * 한 번에 깔끔하게 하는 게 X\n",
        "    * 주어진 데이터와 목표가 있다면 여러 가지 기법을 스스로, 혹은 절차에 맞춰서 진행할 수 있는 역량이 중요.\n",
        "    * 모델링을 여러 접근 법으로 데이터/하이퍼패러미터/모델링 기법 등을 여러 가지로 접근한 기록, 포트폴리오, 내가 고민하거나 검증했던 방식들..."
      ],
      "metadata": {
        "id": "VXd49F-RgQQG"
      }
    },
    {
      "cell_type": "code",
      "source": [
        "X = scaled.drop('Attrition', axis=1)\n",
        "y = scaled.Attrition\n",
        "# 학습셋, 테스트셋.\n",
        "X_train, X_test, y_train, y_test = train_test_split(X, y) # 최종은 아님\n",
        "# 앞에까지의 처리 과정을 함수화하는 것도 괜찮음. + 다른 형태를 만들 수 있도록..."
      ],
      "metadata": {
        "id": "9SVOEV4J40NU"
      },
      "execution_count": null,
      "outputs": []
    },
    {
      "cell_type": "markdown",
      "source": [
        "### Feautre Importances"
      ],
      "metadata": {
        "id": "czUfRMh780tT"
      }
    },
    {
      "cell_type": "code",
      "source": [
        "# RandomForest -> 트리모델의 경우에는 무슨 열(데이터)가 분류에 영향을 끼치는지를 확인.\n",
        "from sklearn.ensemble import RandomForestClassifier\n",
        "# rfc 자체를 예측모델로 안쓰더라도 중요한 feature 찾기 위해 탐색용으로도 사용 가능.\n",
        "# Classifier : 분류할 때\n",
        "# Regressor : 회귀(수치형 변수 예측)할 때\n",
        "\n",
        "rf = RandomForestClassifier()\n",
        "rf.fit(X_train, y_train)\n",
        "# predict, 평가 X"
      ],
      "metadata": {
        "colab": {
          "base_uri": "https://localhost:8080/",
          "height": 74
        },
        "id": "IyCXY8uK4nVF",
        "outputId": "57c4867f-68f1-4b87-e4eb-e43b63b64878"
      },
      "execution_count": null,
      "outputs": [
        {
          "output_type": "execute_result",
          "data": {
            "text/plain": [
              "RandomForestClassifier()"
            ],
            "text/html": [
              "<style>#sk-container-id-1 {color: black;background-color: white;}#sk-container-id-1 pre{padding: 0;}#sk-container-id-1 div.sk-toggleable {background-color: white;}#sk-container-id-1 label.sk-toggleable__label {cursor: pointer;display: block;width: 100%;margin-bottom: 0;padding: 0.3em;box-sizing: border-box;text-align: center;}#sk-container-id-1 label.sk-toggleable__label-arrow:before {content: \"▸\";float: left;margin-right: 0.25em;color: #696969;}#sk-container-id-1 label.sk-toggleable__label-arrow:hover:before {color: black;}#sk-container-id-1 div.sk-estimator:hover label.sk-toggleable__label-arrow:before {color: black;}#sk-container-id-1 div.sk-toggleable__content {max-height: 0;max-width: 0;overflow: hidden;text-align: left;background-color: #f0f8ff;}#sk-container-id-1 div.sk-toggleable__content pre {margin: 0.2em;color: black;border-radius: 0.25em;background-color: #f0f8ff;}#sk-container-id-1 input.sk-toggleable__control:checked~div.sk-toggleable__content {max-height: 200px;max-width: 100%;overflow: auto;}#sk-container-id-1 input.sk-toggleable__control:checked~label.sk-toggleable__label-arrow:before {content: \"▾\";}#sk-container-id-1 div.sk-estimator input.sk-toggleable__control:checked~label.sk-toggleable__label {background-color: #d4ebff;}#sk-container-id-1 div.sk-label input.sk-toggleable__control:checked~label.sk-toggleable__label {background-color: #d4ebff;}#sk-container-id-1 input.sk-hidden--visually {border: 0;clip: rect(1px 1px 1px 1px);clip: rect(1px, 1px, 1px, 1px);height: 1px;margin: -1px;overflow: hidden;padding: 0;position: absolute;width: 1px;}#sk-container-id-1 div.sk-estimator {font-family: monospace;background-color: #f0f8ff;border: 1px dotted black;border-radius: 0.25em;box-sizing: border-box;margin-bottom: 0.5em;}#sk-container-id-1 div.sk-estimator:hover {background-color: #d4ebff;}#sk-container-id-1 div.sk-parallel-item::after {content: \"\";width: 100%;border-bottom: 1px solid gray;flex-grow: 1;}#sk-container-id-1 div.sk-label:hover label.sk-toggleable__label {background-color: #d4ebff;}#sk-container-id-1 div.sk-serial::before {content: \"\";position: absolute;border-left: 1px solid gray;box-sizing: border-box;top: 0;bottom: 0;left: 50%;z-index: 0;}#sk-container-id-1 div.sk-serial {display: flex;flex-direction: column;align-items: center;background-color: white;padding-right: 0.2em;padding-left: 0.2em;position: relative;}#sk-container-id-1 div.sk-item {position: relative;z-index: 1;}#sk-container-id-1 div.sk-parallel {display: flex;align-items: stretch;justify-content: center;background-color: white;position: relative;}#sk-container-id-1 div.sk-item::before, #sk-container-id-1 div.sk-parallel-item::before {content: \"\";position: absolute;border-left: 1px solid gray;box-sizing: border-box;top: 0;bottom: 0;left: 50%;z-index: -1;}#sk-container-id-1 div.sk-parallel-item {display: flex;flex-direction: column;z-index: 1;position: relative;background-color: white;}#sk-container-id-1 div.sk-parallel-item:first-child::after {align-self: flex-end;width: 50%;}#sk-container-id-1 div.sk-parallel-item:last-child::after {align-self: flex-start;width: 50%;}#sk-container-id-1 div.sk-parallel-item:only-child::after {width: 0;}#sk-container-id-1 div.sk-dashed-wrapped {border: 1px dashed gray;margin: 0 0.4em 0.5em 0.4em;box-sizing: border-box;padding-bottom: 0.4em;background-color: white;}#sk-container-id-1 div.sk-label label {font-family: monospace;font-weight: bold;display: inline-block;line-height: 1.2em;}#sk-container-id-1 div.sk-label-container {text-align: center;}#sk-container-id-1 div.sk-container {/* jupyter's `normalize.less` sets `[hidden] { display: none; }` but bootstrap.min.css set `[hidden] { display: none !important; }` so we also need the `!important` here to be able to override the default hidden behavior on the sphinx rendered scikit-learn.org. See: https://github.com/scikit-learn/scikit-learn/issues/21755 */display: inline-block !important;position: relative;}#sk-container-id-1 div.sk-text-repr-fallback {display: none;}</style><div id=\"sk-container-id-1\" class=\"sk-top-container\"><div class=\"sk-text-repr-fallback\"><pre>RandomForestClassifier()</pre><b>In a Jupyter environment, please rerun this cell to show the HTML representation or trust the notebook. <br />On GitHub, the HTML representation is unable to render, please try loading this page with nbviewer.org.</b></div><div class=\"sk-container\" hidden><div class=\"sk-item\"><div class=\"sk-estimator sk-toggleable\"><input class=\"sk-toggleable__control sk-hidden--visually\" id=\"sk-estimator-id-1\" type=\"checkbox\" checked><label for=\"sk-estimator-id-1\" class=\"sk-toggleable__label sk-toggleable__label-arrow\">RandomForestClassifier</label><div class=\"sk-toggleable__content\"><pre>RandomForestClassifier()</pre></div></div></div></div></div>"
            ]
          },
          "metadata": {},
          "execution_count": 22
        }
      ]
    },
    {
      "cell_type": "code",
      "source": [
        "# .feature_importances_ : 각각 변수별 중요도\n",
        "# .feature_names_in_ : 각각 변수의 이름\n",
        "\n",
        "ft = pd.Series(rf.feature_importances_,\n",
        "          index=rf.feature_names_in_)\\\n",
        "    .sort_values(ascending=False) # 정렬(내림차순)\n",
        "ft # 방향은 우리가 알 수 없음.\n",
        "# 방향 -> Correlation 상관성 분석을 통해서 대략적으로 분석.\n",
        "# 상대적으로 유의미하지 않은 열의 경우에는 drop을 하거나, pca -> 차원 축소."
      ],
      "metadata": {
        "colab": {
          "base_uri": "https://localhost:8080/"
        },
        "id": "E5-FaVy25CKW",
        "outputId": "76b460da-3e99-4bd7-e5a8-161aae2c2e41"
      },
      "execution_count": null,
      "outputs": [
        {
          "output_type": "execute_result",
          "data": {
            "text/plain": [
              "MonthlyIncome                        0.077769\n",
              "Age                                  0.061215\n",
              "DailyRate                            0.054553\n",
              "TotalWorkingYears                    0.051881\n",
              "MonthlyRate                          0.050001\n",
              "OverTime_Yes                         0.047914\n",
              "HourlyRate                           0.044667\n",
              "YearsAtCompany                       0.042506\n",
              "DistanceFromHome                     0.040401\n",
              "PercentSalaryHike                    0.034742\n",
              "NumCompaniesWorked                   0.034211\n",
              "EnvironmentSatisfaction              0.030776\n",
              "StockOptionLevel                     0.028089\n",
              "WorkLifeBalance                      0.026954\n",
              "JobInvolvement                       0.026495\n",
              "JobSatisfaction                      0.025013\n",
              "YearsWithCurrManager                 0.024913\n",
              "YearsInCurrentRole                   0.024247\n",
              "TrainingTimesLastYear                0.023614\n",
              "JobLevel                             0.023563\n",
              "YearsSinceLastPromotion              0.022521\n",
              "RelationshipSatisfaction             0.020977\n",
              "Education                            0.019852\n",
              "MaritalStatus_Single                 0.019288\n",
              "BusinessTravel_Travel_Frequently     0.016299\n",
              "JobRole_Sales Representative         0.011771\n",
              "Gender_Male                          0.010726\n",
              "JobRole_Laboratory Technician        0.009283\n",
              "MaritalStatus_Married                0.008861\n",
              "BusinessTravel_Travel_Rarely         0.008859\n",
              "Department_Sales                     0.008772\n",
              "Department_Research & Development    0.008640\n",
              "EducationField_Medical               0.008200\n",
              "EducationField_Life Sciences         0.007118\n",
              "EducationField_Marketing             0.006927\n",
              "JobRole_Research Scientist           0.006890\n",
              "JobRole_Sales Executive              0.006767\n",
              "EducationField_Technical Degree      0.006092\n",
              "PerformanceRating                    0.005865\n",
              "JobRole_Human Resources              0.003589\n",
              "EducationField_Other                 0.003488\n",
              "JobRole_Manufacturing Director       0.002809\n",
              "JobRole_Manager                      0.001946\n",
              "JobRole_Research Director            0.000932\n",
              "dtype: float64"
            ]
          },
          "metadata": {},
          "execution_count": 87
        }
      ]
    },
    {
      "cell_type": "code",
      "source": [
        "len(scaled.columns)"
      ],
      "metadata": {
        "colab": {
          "base_uri": "https://localhost:8080/"
        },
        "id": "e232PK9UNZ9a",
        "outputId": "5bb4d93a-1f13-48fa-d3f3-5d251ce1bbda"
      },
      "execution_count": null,
      "outputs": [
        {
          "output_type": "execute_result",
          "data": {
            "text/plain": [
              "45"
            ]
          },
          "metadata": {},
          "execution_count": 23
        }
      ]
    },
    {
      "cell_type": "code",
      "source": [
        "X = df.drop('Attrition', axis=1)\n",
        "y = df['Attrition']\n",
        "X_train, X_test, y_train, y_test = train_test_split(X, y)\n",
        "scaler = MinMaxScaler()\n",
        "X_train_ = scaler.fit_transform(X_train)\n",
        "X_test_ = scaler.transform(X_test)\n",
        "# X_train_, X_test_\n",
        "# feature selection, 전처리..."
      ],
      "metadata": {
        "id": "RcNbTwxpMpKR"
      },
      "execution_count": null,
      "outputs": []
    },
    {
      "cell_type": "markdown",
      "source": [
        "상관성 분석이랑 변수 중요도만 보라는 건 아님.  \n",
        "적어도 Python/ML을 활용한 분석을 했을 경우에 다른 툴들에서는 분석하기 힘든 것들. -> 꼭 포함을 시켜라."
      ],
      "metadata": {
        "id": "hMYQ2s4KiOMO"
      }
    },
    {
      "cell_type": "markdown",
      "source": [
        "## 모델링과 하이퍼 패러미터 튜닝"
      ],
      "metadata": {
        "id": "yLSRtBqai3pj"
      }
    },
    {
      "cell_type": "markdown",
      "source": [
        "### AutoML"
      ],
      "metadata": {
        "id": "isZSbFQZ9A1J"
      }
    },
    {
      "cell_type": "code",
      "source": [
        "# https://github.com/microsoft/FLAML\n",
        "!pip install flaml[notebook] -q # -q : 메시지 없이 조용하게 설치"
      ],
      "metadata": {
        "id": "mCsVsyZtlZX5",
        "colab": {
          "base_uri": "https://localhost:8080/"
        },
        "outputId": "2b96a306-84d6-4288-d532-5b3dca4119f4"
      },
      "execution_count": null,
      "outputs": [
        {
          "output_type": "stream",
          "name": "stdout",
          "text": [
            "\u001b[2K     \u001b[90m━━━━━━━━━━━━━━━━━━━━━━━━━━━━━━━━━━━━━━━━\u001b[0m \u001b[32m295.2/295.2 kB\u001b[0m \u001b[31m4.7 MB/s\u001b[0m eta \u001b[36m0:00:00\u001b[0m\n",
            "\u001b[2K     \u001b[90m━━━━━━━━━━━━━━━━━━━━━━━━━━━━━━━━━━━━━━━━\u001b[0m \u001b[32m123.4/123.4 kB\u001b[0m \u001b[31m15.9 MB/s\u001b[0m eta \u001b[36m0:00:00\u001b[0m\n",
            "\u001b[2K     \u001b[90m━━━━━━━━━━━━━━━━━━━━━━━━━━━━━━━━━━━━━━━━\u001b[0m \u001b[32m93.5/93.5 kB\u001b[0m \u001b[31m13.0 MB/s\u001b[0m eta \u001b[36m0:00:00\u001b[0m\n",
            "\u001b[2K     \u001b[90m━━━━━━━━━━━━━━━━━━━━━━━━━━━━━━━━━━━━━━━━\u001b[0m \u001b[32m1.6/1.6 MB\u001b[0m \u001b[31m33.8 MB/s\u001b[0m eta \u001b[36m0:00:00\u001b[0m\n",
            "\u001b[?25h"
          ]
        }
      ]
    },
    {
      "cell_type": "code",
      "source": [
        "!pip install catboost -q # boosting 모델 중 하나"
      ],
      "metadata": {
        "id": "OSJz2nHWDC-Q",
        "colab": {
          "base_uri": "https://localhost:8080/"
        },
        "outputId": "ca6b0faa-9473-4638-ad7e-a46c83c4bd0b"
      },
      "execution_count": null,
      "outputs": [
        {
          "output_type": "stream",
          "name": "stdout",
          "text": [
            "\u001b[2K     \u001b[90m━━━━━━━━━━━━━━━━━━━━━━━━━━━━━━━━━━━━━━━━\u001b[0m \u001b[32m98.7/98.7 MB\u001b[0m \u001b[31m5.1 MB/s\u001b[0m eta \u001b[36m0:00:00\u001b[0m\n",
            "\u001b[?25h"
          ]
        }
      ]
    },
    {
      "cell_type": "code",
      "source": [
        "# FLAML 라이브러리에서 AutoML을 가져옵니다.\n",
        "from flaml import AutoML # 가이드 문서 찾아보면 잘 되어 있어서...\n",
        "# Optuna 같은 하이퍼패러미터 튜너들과 비슷한 역할...\n",
        "\n",
        "# Model -> Estimator.\n",
        "# 최적의 추정기(estimator) 목록을 저장할 빈 리스트를 생성합니다.\n",
        "best_estimators = []\n",
        "\n",
        "# AutoML을 실행할 추정기(estimator) 목록을 정의합니다.\n",
        "# https://microsoft.github.io/FLAML/docs/Use-Cases/Task-Oriented-AutoML#estimator\n",
        "estimators = ['xgboost', 'lgbm', 'catboost', 'xgb_limitdepth', 'kneighbor']\n",
        "# 모델을 여러개를 각각 써서 함.\n",
        "\n",
        "# 각 추정기에 대한 AutoML을 실행합니다.\n",
        "for e in estimators:\n",
        "    print(e)\n",
        "\n",
        "    # AutoML 객체를 생성하고, 사용할 추정기(estimator)를 지정합니다.\n",
        "    automl = AutoML(estimator_list=[e])\n",
        "\n",
        "    # AutoML 모델을 학습합니다.\n",
        "    automl.fit(\n",
        "        X_train=X_train_,  # 학습 데이터 (X_train_)를 지정합니다.\n",
        "        y_train=y_train,    # 학습 레이블 (y_train)를 지정합니다.\n",
        "        task='classification',  # 분류(classification) 작업을 수행합니다.\n",
        "        time_budget=60,       # 총 시간 예산을 1분으로 설정합니다.\n",
        "        # 1분 동안 하이퍼패러미터 튜닝을 해봄\n",
        "        # 시간을 늘린다고해서 성능향성을 담보하진 않지만... 많은 경우 60*5 -> 5분.\n",
        "        verbose=False          # 자세한 로그를 출력하지 않습니다.\n",
        "    )\n",
        "    # GridSearch, RandomSearch... 하이퍼패러미터튜닝을 해봐라... 권장...\n",
        "    # 실제 대회나 분석에서는 이러한 툴들을 다 사용하기 때문에...\n",
        "    # 어떠한 작용인지 '설명'할 수 있을 수준까지만 연습/포트폴리오에 표시 하고\n",
        "    # 실제로는 이런 툴들을 많이 써봐라...\n",
        "\n",
        "    # 최적의 하이퍼파라미터 구성을 출력합니다.\n",
        "    print('Best hyperparameter config:', automl.best_config)\n",
        "\n",
        "    # 검증 데이터에 대한 최적의 정확도를 출력합니다.\n",
        "    print('Best accuracy on validation data: {0:.4g}'.format(1-automl.best_loss))\n",
        "\n",
        "    # 테스트 데이터에 대한 정확도를 계산하고 출력합니다.\n",
        "    acc = accuracy_score(automl.model.predict(X_test_), y_test)\n",
        "    print('Test accuracy : {0:.4g} '.format(acc))\n",
        "\n",
        "    # 최적의 추정기와 모델을 저장합니다.\n",
        "    best_estimators.append((e, automl.model))\n",
        "\n",
        "# 최적의 추정기 목록을 반환합니다.\n",
        "best_estimators"
      ],
      "metadata": {
        "colab": {
          "base_uri": "https://localhost:8080/"
        },
        "id": "ZCEZhYe6nlPd",
        "outputId": "af7f2b2f-e7a6-44a5-cbda-94abb24a7279"
      },
      "execution_count": null,
      "outputs": [
        {
          "output_type": "stream",
          "name": "stdout",
          "text": [
            "xgboost\n",
            "Best hyperparameter config: {'n_estimators': 53, 'max_leaves': 5, 'min_child_weight': 5.5914923529439156, 'learning_rate': 0.22265705332447858, 'subsample': 0.8319822958037079, 'colsample_bylevel': 0.6869936708684089, 'colsample_bytree': 0.7346624238533789, 'reg_alpha': 0.006535953249353212, 'reg_lambda': 2.8567014580766052}\n",
            "Best accuracy on validation data: 0.8459\n",
            "Test accuracy : 0.894 \n",
            "lgbm\n",
            "Best hyperparameter config: {'n_estimators': 278, 'num_leaves': 5, 'min_child_samples': 82, 'learning_rate': 0.03465910953672366, 'log_max_bin': 10, 'colsample_bytree': 0.6649660897150012, 'reg_alpha': 0.12381045026190679, 'reg_lambda': 1.4046288020428923}\n",
            "Best accuracy on validation data: 0.8428\n",
            "Test accuracy : 0.8777 \n",
            "catboost\n",
            "Best hyperparameter config: {'early_stopping_rounds': 22, 'learning_rate': 0.025707975087860362, 'n_estimators': 103}\n",
            "Best accuracy on validation data: 0.8397\n",
            "Test accuracy : 0.8886 \n",
            "xgb_limitdepth\n",
            "Best hyperparameter config: {'n_estimators': 120, 'max_depth': 1, 'min_child_weight': 2.7818957668460405, 'learning_rate': 0.35763007717986184, 'subsample': 1.0, 'colsample_bylevel': 0.842399114555483, 'colsample_bytree': 0.7619789744582812, 'reg_alpha': 0.8933241745099246, 'reg_lambda': 8.791529813393957}\n",
            "Best accuracy on validation data: 0.8595\n",
            "Test accuracy : 0.8913 \n",
            "kneighbor\n",
            "Best hyperparameter config: {'n_neighbors': 510}\n",
            "Best accuracy on validation data: 0.779\n",
            "Test accuracy : 0.8696 \n"
          ]
        },
        {
          "output_type": "execute_result",
          "data": {
            "text/plain": [
              "[('xgboost', <flaml.automl.model.XGBoostSklearnEstimator at 0x79ffb7d0bca0>),\n",
              " ('lgbm', <flaml.automl.model.LGBMEstimator at 0x79ff9b3fa110>),\n",
              " ('catboost', <flaml.automl.model.CatBoostEstimator at 0x79ff9aab40d0>),\n",
              " ('xgb_limitdepth',\n",
              "  <flaml.automl.model.XGBoostLimitDepthEstimator at 0x79ff9aab4460>),\n",
              " ('kneighbor', <flaml.automl.model.KNeighborsEstimator at 0x79ff9ab25900>)]"
            ]
          },
          "metadata": {},
          "execution_count": 27
        }
      ]
    },
    {
      "cell_type": "markdown",
      "source": [
        "### VotingClassifier"
      ],
      "metadata": {
        "id": "xBdVdnRgjCeA"
      }
    },
    {
      "cell_type": "code",
      "source": [
        "# 여러개의 서로 다른 특성을 가진 모델을 만들어서\n",
        "# 그 모델들의 결과를 취합해서 -> 최종 결과를 예측\n",
        "from sklearn.ensemble import VotingClassifier\n",
        "# 하드 보팅 : 다수결 (model1 : o, model2 : x .... -> o가 많으면 o, 아니면 x)\n",
        "# 소프트 보팅 : 확률/수치 평균값 사용 (model1: o 80%, x 20%, model2 : o 60%, x 40%... -> 70%, 30%.)\n",
        "# 마지막으로 여러 개의 모델을 합쳐서 조금이라도 정확도를 높이는데 사용"
      ],
      "metadata": {
        "id": "rrEtmpU1Ei5V"
      },
      "execution_count": null,
      "outputs": []
    },
    {
      "cell_type": "code",
      "source": [
        "# VotingClassifier를 생성합니다.\n",
        "# `estimators`에는 이전에 학습한 최적의 추정기와 모델들을 사용합니다.\n",
        "# `voting`은 하드 보팅(hard voting)을 지정합니다.\n",
        "voting_clf_hard = VotingClassifier(\n",
        "    estimators=best_estimators, voting='hard')\n",
        "\n",
        "# VotingClassifier를 학습합니다.\n",
        "voting_clf_hard.fit(X_train, y_train)\n",
        "\n",
        "# VotingClassifier 모델을 사용하여 테스트 데이터에 대한 정확도를 계산합니다.\n",
        "acc = accuracy_score(voting_clf_hard.predict(X_test), y_test)\n",
        "\n",
        "# 테스트 데이터에 대한 정확도를 출력합니다.\n",
        "print('Voting (Hard) Test accuracy : {0:.4g} '.format(acc))\n",
        "\n",
        "# 오버피팅 방지 효과. 예측력 상승? k-fold. 일반화 성능 -> 새로운 데이터에 대한 개선"
      ],
      "metadata": {
        "colab": {
          "base_uri": "https://localhost:8080/"
        },
        "id": "NPrS3qxjD9WN",
        "outputId": "38433cdb-1c95-467e-f030-e6e4e863499c"
      },
      "execution_count": null,
      "outputs": [
        {
          "output_type": "stream",
          "name": "stdout",
          "text": [
            "Voting (Hard) Test accuracy : 0.8859 \n"
          ]
        }
      ]
    },
    {
      "cell_type": "code",
      "source": [
        "# VotingClassifier를 생성합니다.\n",
        "# `estimators`에는 이전에 학습한 최적의 추정기와 모델들을 사용합니다.\n",
        "# `voting`은 소프트 보팅(soft voting)을 지정합니다.\n",
        "# 예측되는 확률값 등을 평균.\n",
        "# voting_clf_soft = VotingClassifier(\n",
        "#     estimators=best_estimators, voting='soft')\n",
        "voting_clf_soft = VotingClassifier(\n",
        "    estimators=best_estimators[:-1], voting='soft') # KNN 제외\n",
        "\n",
        "# VotingClassifier를 학습합니다.\n",
        "voting_clf_soft.fit(X_train, y_train)\n",
        "\n",
        "# VotingClassifier 모델을 사용하여 테스트 데이터에 대한 정확도를 계산합니다.\n",
        "acc = accuracy_score(voting_clf_soft.predict(X_test), y_test)\n",
        "\n",
        "# 테스트 데이터에 대한 정확도를 출력합니다.\n",
        "print('Voting (Soft) Test accuracy : {0:.4g} '.format(acc))"
      ],
      "metadata": {
        "colab": {
          "base_uri": "https://localhost:8080/"
        },
        "id": "VajL13eTUwCq",
        "outputId": "806c80ea-5d86-46a1-a7ab-f43f34615909"
      },
      "execution_count": null,
      "outputs": [
        {
          "output_type": "stream",
          "name": "stdout",
          "text": [
            "Voting (Soft) Test accuracy : 0.894 \n"
          ]
        }
      ]
    },
    {
      "cell_type": "code",
      "source": [
        "# VotingClassifier를 생성합니다.\n",
        "# `estimators`에는 이전에 학습한 최적의 추정기와 모델들 중에서 일부를 선택합니다.\n",
        "# 선택한 추정기들은 best_estimators 리스트의 인덱스를 사용하여 지정합니다.\n",
        "# `weights`를 통해 각 모델의 가중치를 지정합니다.\n",
        "# `voting`은 소프트 보팅(soft voting)을 지정합니다.\n",
        "voting_clf_soft = VotingClassifier(\n",
        "    estimators=best_estimators,\n",
        "    weights=[2.5, 1, 1, 1.4, 0.2], voting='soft') # 가중치를 조절을 하니 성능 개선\n",
        "\n",
        "# VotingClassifier를 학습합니다.\n",
        "voting_clf_soft.fit(X_train, y_train)\n",
        "\n",
        "# VotingClassifier 모델을 사용하여 테스트 데이터에 대한 정확도를 계산합니다.\n",
        "acc = accuracy_score(voting_clf_soft.predict(X_test), y_test)\n",
        "\n",
        "# 테스트 데이터에 대한 정확도를 출력합니다.\n",
        "print('Voting (Soft) Test accuracy : {0:.4g} '.format(acc))"
      ],
      "metadata": {
        "colab": {
          "base_uri": "https://localhost:8080/"
        },
        "id": "9xP-JN6SYLFv",
        "outputId": "537c6d76-a8a3-4ad4-b7cc-e2795c5ab1d3"
      },
      "execution_count": null,
      "outputs": [
        {
          "output_type": "stream",
          "name": "stdout",
          "text": [
            "Voting (Soft) Test accuracy : 0.8995 \n"
          ]
        }
      ]
    },
    {
      "cell_type": "markdown",
      "source": [
        "### Model Saving (Joblib, Pickle)"
      ],
      "metadata": {
        "id": "ZWgaEy6ojFDO"
      }
    },
    {
      "cell_type": "code",
      "source": [
        "!pip install mlxtend -q # mlxtend -> joblib (colab, linux, mac?)\n",
        "# window - local 일경우 joblib을 직접 설치"
      ],
      "metadata": {
        "id": "I3MQCtyLZk6H"
      },
      "execution_count": null,
      "outputs": []
    },
    {
      "cell_type": "code",
      "source": [
        "import joblib"
      ],
      "metadata": {
        "id": "GlVnhkkha50c"
      },
      "execution_count": null,
      "outputs": []
    },
    {
      "cell_type": "code",
      "source": [
        "joblib.dump(scaler, 'scaler.pkl') # dump -> save => pkl (pickle)\n",
        "joblib.dump(voting_clf_soft, 'voting.pkl')"
      ],
      "metadata": {
        "colab": {
          "base_uri": "https://localhost:8080/"
        },
        "id": "AARXfvDxZm31",
        "outputId": "00fbf5ba-5b89-411d-f3a5-25d8f7600bc4"
      },
      "execution_count": null,
      "outputs": [
        {
          "output_type": "execute_result",
          "data": {
            "text/plain": [
              "['voting.pkl']"
            ]
          },
          "metadata": {},
          "execution_count": 68
        }
      ]
    },
    {
      "cell_type": "code",
      "source": [
        "# wget : 리눅스 등에서 파일을 다운로드 받을 때 쓰는 기능\n",
        "# !wget https://github.com/BigDeepData/2312_example/raw/main/model/voting.pkl\n",
        "# !wget https://github.com/BigDeepData/2312_example/raw/main/model/scaler.pkl\n",
        "\n",
        "voting_model = joblib.load('voting.pkl')\n",
        "scaler = joblib.load('scaler.pkl') # 스케일러도 훈련셋으로 되어 있는 걸 써야해서..."
      ],
      "metadata": {
        "id": "7W1kOrN8aJJn"
      },
      "execution_count": null,
      "outputs": []
    },
    {
      "cell_type": "markdown",
      "source": [
        "## 모델의 활용"
      ],
      "metadata": {
        "id": "SnrOKjJzjLF3"
      }
    },
    {
      "cell_type": "markdown",
      "source": [
        "### Form"
      ],
      "metadata": {
        "id": "OiKwymp_jOPa"
      }
    },
    {
      "cell_type": "code",
      "source": [
        "for col in df_.drop('Attrition', axis=1).columns:\n",
        "    # if col in df_input:\n",
        "    #     continue\n",
        "    print(col) # 열 이름\n",
        "    print(sorted(df_.loc[:, col].unique())) # 고유값\n",
        "    print(min(df_.loc[:, col].unique())) # 최소값\n",
        "    print(max(df_.loc[:, col].unique())) # 최대값"
      ],
      "metadata": {
        "colab": {
          "base_uri": "https://localhost:8080/"
        },
        "id": "Bpn4gr5mQSLw",
        "outputId": "eb5b7d6b-7ef8-48ec-e2b1-8c46ccf7c6ad"
      },
      "execution_count": null,
      "outputs": [
        {
          "output_type": "stream",
          "name": "stdout",
          "text": [
            "Age\n",
            "[18, 19, 20, 21, 22, 23, 24, 25, 26, 27, 28, 29, 30, 31, 32, 33, 34, 35, 36, 37, 38, 39, 40, 41, 42, 43, 44, 45, 46, 47, 48, 49, 50, 51, 52, 53, 54, 55, 56, 57, 58, 59, 60]\n",
            "18\n",
            "60\n",
            "BusinessTravel\n",
            "['Non-Travel', 'Travel_Frequently', 'Travel_Rarely']\n",
            "Non-Travel\n",
            "Travel_Rarely\n",
            "DailyRate\n",
            "[102, 103, 104, 105, 106, 107, 109, 111, 115, 116, 117, 118, 119, 120, 121, 124, 125, 128, 129, 130, 131, 132, 134, 135, 136, 138, 140, 141, 142, 143, 144, 145, 146, 147, 148, 150, 152, 153, 154, 155, 156, 157, 160, 161, 163, 164, 167, 168, 170, 172, 174, 176, 177, 179, 180, 181, 182, 185, 188, 189, 192, 193, 194, 195, 196, 199, 200, 201, 202, 203, 204, 205, 206, 207, 208, 210, 211, 213, 216, 217, 218, 219, 224, 228, 230, 231, 232, 234, 237, 238, 240, 241, 243, 244, 247, 248, 249, 251, 252, 253, 254, 256, 258, 261, 263, 264, 265, 266, 267, 268, 269, 271, 277, 279, 280, 282, 285, 286, 287, 288, 289, 290, 294, 296, 299, 300, 301, 302, 303, 304, 305, 306, 307, 309, 310, 311, 313, 314, 316, 317, 318, 319, 322, 325, 326, 328, 329, 330, 332, 333, 334, 335, 336, 337, 341, 342, 343, 345, 346, 350, 352, 355, 359, 360, 362, 363, 364, 365, 367, 369, 370, 371, 373, 374, 376, 377, 379, 381, 383, 384, 390, 391, 392, 394, 395, 397, 401, 404, 405, 406, 408, 410, 412, 413, 414, 415, 419, 422, 426, 427, 428, 429, 430, 431, 432, 433, 436, 437, 438, 439, 440, 441, 442, 443, 444, 446, 447, 448, 452, 457, 458, 459, 461, 462, 464, 465, 466, 467, 468, 469, 470, 471, 472, 474, 477, 478, 479, 480, 481, 482, 483, 486, 488, 489, 490, 492, 495, 496, 498, 499, 500, 501, 504, 505, 506, 507, 508, 509, 511, 515, 516, 523, 524, 525, 526, 527, 528, 529, 530, 531, 532, 534, 535, 536, 538, 541, 542, 543, 544, 546, 548, 549, 552, 553, 555, 556, 557, 558, 559, 560, 561, 562, 563, 566, 567, 570, 571, 572, 573, 574, 575, 580, 581, 582, 583, 584, 585, 586, 587, 588, 589, 590, 591, 592, 593, 594, 598, 599, 600, 601, 602, 603, 604, 605, 607, 608, 611, 613, 616, 617, 618, 619, 621, 622, 625, 626, 628, 629, 630, 632, 634, 635, 636, 638, 640, 641, 642, 644, 645, 646, 647, 648, 650, 652, 653, 654, 655, 657, 658, 660, 661, 662, 663, 664, 665, 666, 667, 669, 670, 671, 672, 673, 674, 675, 676, 678, 682, 683, 684, 685, 688, 689, 691, 692, 693, 694, 696, 697, 699, 702, 703, 704, 705, 706, 708, 711, 713, 715, 717, 718, 719, 720, 721, 722, 723, 725, 726, 727, 728, 734, 735, 736, 737, 738, 740, 741, 746, 748, 750, 754, 755, 756, 759, 760, 763, 766, 769, 770, 771, 772, 773, 775, 776, 781, 782, 783, 786, 788, 790, 791, 792, 793, 796, 797, 798, 799, 801, 802, 804, 805, 806, 807, 809, 810, 812, 813, 817, 818, 819, 821, 823, 824, 827, 828, 829, 830, 832, 833, 835, 836, 840, 841, 845, 848, 849, 852, 853, 854, 855, 857, 859, 862, 866, 867, 868, 869, 871, 874, 878, 879, 880, 881, 882, 883, 884, 885, 887, 888, 889, 890, 891, 894, 895, 896, 897, 898, 902, 903, 905, 906, 911, 913, 916, 917, 918, 920, 921, 922, 924, 926, 928, 929, 930, 931, 932, 933, 935, 937, 938, 939, 942, 943, 944, 945, 946, 949, 950, 953, 954, 955, 956, 957, 959, 964, 966, 967, 968, 969, 970, 971, 974, 975, 976, 977, 979, 981, 982, 983, 984, 986, 988, 989, 990, 991, 992, 994, 995, 996, 999, 1001, 1002, 1003, 1005, 1009, 1010, 1012, 1015, 1017, 1018, 1023, 1029, 1030, 1031, 1033, 1034, 1035, 1037, 1038, 1040, 1041, 1045, 1046, 1050, 1052, 1053, 1054, 1055, 1059, 1060, 1062, 1063, 1064, 1065, 1066, 1069, 1070, 1075, 1076, 1079, 1082, 1083, 1084, 1085, 1086, 1089, 1090, 1091, 1092, 1093, 1094, 1096, 1097, 1098, 1099, 1102, 1103, 1105, 1107, 1108, 1109, 1111, 1112, 1115, 1116, 1117, 1120, 1122, 1123, 1124, 1125, 1126, 1127, 1128, 1130, 1131, 1132, 1134, 1136, 1137, 1138, 1141, 1142, 1144, 1145, 1146, 1147, 1150, 1151, 1153, 1154, 1157, 1158, 1162, 1167, 1168, 1169, 1171, 1172, 1174, 1176, 1178, 1179, 1180, 1181, 1182, 1184, 1186, 1188, 1189, 1192, 1193, 1194, 1195, 1198, 1199, 1200, 1202, 1204, 1206, 1207, 1210, 1211, 1212, 1213, 1214, 1216, 1217, 1218, 1219, 1220, 1221, 1222, 1223, 1224, 1225, 1229, 1230, 1231, 1232, 1234, 1236, 1238, 1239, 1240, 1242, 1243, 1245, 1246, 1247, 1249, 1251, 1252, 1253, 1254, 1255, 1256, 1258, 1259, 1261, 1262, 1265, 1266, 1268, 1269, 1271, 1272, 1273, 1274, 1275, 1276, 1277, 1278, 1280, 1282, 1283, 1287, 1288, 1291, 1294, 1296, 1297, 1299, 1300, 1302, 1303, 1305, 1306, 1308, 1309, 1311, 1312, 1313, 1315, 1316, 1318, 1319, 1320, 1321, 1322, 1323, 1324, 1325, 1326, 1327, 1328, 1329, 1330, 1332, 1333, 1334, 1336, 1337, 1339, 1342, 1343, 1344, 1346, 1349, 1351, 1353, 1354, 1355, 1356, 1357, 1358, 1360, 1361, 1362, 1365, 1366, 1368, 1369, 1370, 1371, 1372, 1373, 1375, 1376, 1377, 1378, 1379, 1380, 1381, 1382, 1383, 1384, 1385, 1387, 1389, 1391, 1392, 1394, 1395, 1396, 1397, 1398, 1400, 1401, 1402, 1403, 1404, 1405, 1410, 1411, 1413, 1416, 1418, 1420, 1421, 1422, 1423, 1425, 1427, 1429, 1431, 1434, 1435, 1436, 1439, 1440, 1441, 1442, 1443, 1444, 1445, 1448, 1449, 1450, 1451, 1452, 1454, 1456, 1457, 1459, 1462, 1463, 1464, 1465, 1467, 1469, 1470, 1473, 1474, 1475, 1476, 1479, 1480, 1482, 1485, 1488, 1490, 1492, 1495, 1496, 1498, 1499]\n",
            "102\n",
            "1499\n",
            "Department\n",
            "['Human Resources', 'Research & Development', 'Sales']\n",
            "Human Resources\n",
            "Sales\n",
            "DistanceFromHome\n",
            "[1, 2, 3, 4, 5, 6, 7, 8, 9, 10, 11, 12, 13, 14, 15, 16, 17, 18, 19, 20, 21, 22, 23, 24, 25, 26, 27, 28, 29]\n",
            "1\n",
            "29\n",
            "Education\n",
            "[1, 2, 3, 4, 5]\n",
            "1\n",
            "5\n",
            "EducationField\n",
            "['Human Resources', 'Life Sciences', 'Marketing', 'Medical', 'Other', 'Technical Degree']\n",
            "Human Resources\n",
            "Technical Degree\n",
            "EnvironmentSatisfaction\n",
            "[1, 2, 3, 4]\n",
            "1\n",
            "4\n",
            "Gender\n",
            "['Female', 'Male']\n",
            "Female\n",
            "Male\n",
            "HourlyRate\n",
            "[30, 31, 32, 33, 34, 35, 36, 37, 38, 39, 40, 41, 42, 43, 44, 45, 46, 47, 48, 49, 50, 51, 52, 53, 54, 55, 56, 57, 58, 59, 60, 61, 62, 63, 64, 65, 66, 67, 68, 69, 70, 71, 72, 73, 74, 75, 76, 77, 78, 79, 80, 81, 82, 83, 84, 85, 86, 87, 88, 89, 90, 91, 92, 93, 94, 95, 96, 97, 98, 99, 100]\n",
            "30\n",
            "100\n",
            "JobInvolvement\n",
            "[1, 2, 3, 4]\n",
            "1\n",
            "4\n",
            "JobLevel\n",
            "[1, 2, 3, 4, 5]\n",
            "1\n",
            "5\n",
            "JobRole\n",
            "['Healthcare Representative', 'Human Resources', 'Laboratory Technician', 'Manager', 'Manufacturing Director', 'Research Director', 'Research Scientist', 'Sales Executive', 'Sales Representative']\n",
            "Healthcare Representative\n",
            "Sales Representative\n",
            "JobSatisfaction\n",
            "[1, 2, 3, 4]\n",
            "1\n",
            "4\n",
            "MaritalStatus\n",
            "['Divorced', 'Married', 'Single']\n",
            "Divorced\n",
            "Single\n",
            "MonthlyIncome\n",
            "[1009, 1051, 1052, 1081, 1091, 1102, 1118, 1129, 1200, 1223, 1232, 1261, 1274, 1281, 1359, 1393, 1416, 1420, 1483, 1514, 1555, 1563, 1569, 1601, 1611, 1675, 1702, 1706, 1790, 1859, 1878, 1904, 1951, 2001, 2007, 2008, 2011, 2013, 2014, 2018, 2022, 2024, 2028, 2029, 2033, 2042, 2044, 2045, 2058, 2061, 2062, 2064, 2066, 2070, 2073, 2074, 2075, 2080, 2083, 2086, 2088, 2089, 2090, 2093, 2096, 2097, 2099, 2105, 2107, 2109, 2115, 2119, 2121, 2127, 2132, 2133, 2141, 2143, 2144, 2145, 2148, 2153, 2154, 2157, 2166, 2168, 2174, 2176, 2177, 2180, 2187, 2194, 2201, 2206, 2207, 2210, 2213, 2216, 2218, 2220, 2226, 2231, 2232, 2235, 2238, 2244, 2258, 2259, 2267, 2269, 2270, 2272, 2274, 2275, 2277, 2279, 2285, 2288, 2289, 2290, 2293, 2296, 2297, 2302, 2305, 2306, 2307, 2308, 2311, 2313, 2314, 2318, 2319, 2321, 2322, 2323, 2325, 2326, 2328, 2329, 2332, 2335, 2339, 2340, 2341, 2342, 2345, 2348, 2351, 2356, 2362, 2366, 2367, 2368, 2370, 2372, 2373, 2376, 2377, 2379, 2380, 2387, 2389, 2394, 2398, 2400, 2404, 2406, 2408, 2413, 2422, 2426, 2430, 2432, 2436, 2437, 2438, 2439, 2440, 2450, 2451, 2455, 2461, 2468, 2472, 2476, 2478, 2479, 2496, 2500, 2501, 2506, 2514, 2515, 2517, 2519, 2523, 2532, 2534, 2539, 2543, 2544, 2546, 2552, 2553, 2559, 2561, 2564, 2566, 2570, 2571, 2572, 2576, 2579, 2580, 2585, 2587, 2592, 2593, 2596, 2600, 2610, 2613, 2619, 2622, 2625, 2632, 2642, 2644, 2645, 2647, 2654, 2655, 2657, 2659, 2660, 2661, 2662, 2670, 2678, 2679, 2683, 2684, 2686, 2690, 2691, 2693, 2694, 2695, 2696, 2700, 2703, 2705, 2706, 2707, 2713, 2716, 2718, 2720, 2723, 2725, 2728, 2741, 2742, 2743, 2756, 2759, 2760, 2766, 2768, 2773, 2774, 2778, 2781, 2782, 2783, 2785, 2789, 2791, 2793, 2794, 2795, 2799, 2800, 2804, 2809, 2810, 2811, 2814, 2818, 2819, 2821, 2827, 2835, 2836, 2837, 2838, 2844, 2851, 2853, 2856, 2858, 2859, 2862, 2863, 2867, 2871, 2875, 2886, 2889, 2897, 2899, 2904, 2909, 2911, 2926, 2929, 2932, 2933, 2935, 2936, 2942, 2950, 2956, 2960, 2966, 2972, 2973, 2974, 2976, 2977, 2979, 2983, 2991, 2994, 2996, 3022, 3033, 3034, 3038, 3041, 3055, 3057, 3058, 3065, 3067, 3068, 3069, 3072, 3102, 3117, 3131, 3140, 3143, 3149, 3161, 3162, 3172, 3180, 3195, 3196, 3201, 3202, 3204, 3210, 3211, 3212, 3221, 3229, 3230, 3280, 3291, 3294, 3295, 3298, 3306, 3310, 3312, 3319, 3339, 3346, 3348, 3375, 3376, 3377, 3388, 3407, 3408, 3419, 3420, 3423, 3424, 3433, 3441, 3445, 3447, 3448, 3452, 3464, 3468, 3477, 3479, 3482, 3485, 3491, 3500, 3505, 3506, 3517, 3537, 3539, 3540, 3544, 3564, 3578, 3579, 3580, 3591, 3597, 3600, 3617, 3622, 3629, 3633, 3646, 3660, 3669, 3673, 3681, 3688, 3690, 3691, 3692, 3697, 3702, 3708, 3722, 3730, 3737, 3743, 3748, 3755, 3760, 3761, 3780, 3785, 3812, 3815, 3816, 3833, 3838, 3867, 3875, 3886, 3894, 3902, 3904, 3907, 3917, 3919, 3920, 3929, 3931, 3936, 3944, 3955, 3968, 3975, 3977, 3978, 3983, 3986, 3989, 4000, 4001, 4011, 4014, 4025, 4028, 4031, 4033, 4035, 4037, 4051, 4066, 4069, 4071, 4078, 4081, 4084, 4087, 4089, 4103, 4105, 4107, 4108, 4115, 4127, 4148, 4152, 4157, 4162, 4163, 4171, 4187, 4189, 4193, 4194, 4197, 4198, 4200, 4213, 4221, 4227, 4230, 4233, 4240, 4244, 4249, 4256, 4257, 4258, 4260, 4262, 4272, 4284, 4285, 4286, 4294, 4298, 4302, 4306, 4312, 4317, 4319, 4320, 4323, 4325, 4327, 4332, 4335, 4342, 4345, 4364, 4373, 4374, 4377, 4381, 4382, 4385, 4393, 4400, 4401, 4403, 4404, 4420, 4422, 4424, 4425, 4434, 4440, 4444, 4447, 4448, 4449, 4450, 4465, 4477, 4478, 4485, 4487, 4490, 4502, 4505, 4507, 4508, 4522, 4523, 4534, 4537, 4538, 4539, 4541, 4553, 4554, 4556, 4558, 4559, 4568, 4577, 4581, 4591, 4599, 4601, 4614, 4615, 4617, 4621, 4627, 4639, 4647, 4648, 4649, 4661, 4663, 4668, 4678, 4680, 4682, 4684, 4695, 4707, 4717, 4721, 4723, 4724, 4728, 4735, 4736, 4739, 4741, 4759, 4765, 4766, 4768, 4771, 4774, 4775, 4777, 4779, 4787, 4788, 4789, 4805, 4809, 4810, 4821, 4834, 4841, 4850, 4851, 4855, 4859, 4869, 4876, 4877, 4878, 4883, 4898, 4900, 4907, 4908, 4930, 4936, 4941, 4950, 4960, 4963, 4968, 4969, 4978, 4998, 4999, 5003, 5006, 5010, 5021, 5033, 5042, 5055, 5056, 5063, 5067, 5070, 5071, 5079, 5087, 5093, 5094, 5098, 5121, 5126, 5130, 5131, 5147, 5151, 5154, 5155, 5160, 5163, 5171, 5175, 5204, 5206, 5207, 5208, 5209, 5210, 5220, 5228, 5231, 5237, 5238, 5249, 5253, 5257, 5258, 5265, 5294, 5295, 5296, 5301, 5304, 5309, 5321, 5324, 5326, 5329, 5332, 5337, 5343, 5346, 5347, 5363, 5368, 5373, 5376, 5377, 5380, 5381, 5390, 5396, 5399, 5405, 5406, 5410, 5415, 5429, 5433, 5440, 5441, 5454, 5460, 5467, 5468, 5470, 5472, 5473, 5476, 5482, 5484, 5485, 5486, 5487, 5488, 5505, 5507, 5538, 5561, 5562, 5577, 5582, 5593, 5605, 5617, 5647, 5660, 5661, 5666, 5673, 5674, 5675, 5677, 5679, 5689, 5714, 5715, 5731, 5736, 5743, 5744, 5745, 5747, 5762, 5765, 5768, 5769, 5770, 5772, 5775, 5810, 5811, 5813, 5828, 5855, 5869, 5878, 5902, 5906, 5914, 5915, 5916, 5933, 5940, 5957, 5968, 5974, 5980, 5985, 5993, 6029, 6032, 6062, 6074, 6077, 6091, 6118, 6120, 6125, 6132, 6134, 6142, 6146, 6151, 6162, 6172, 6179, 6180, 6201, 6209, 6214, 6220, 6230, 6232, 6244, 6261, 6272, 6274, 6288, 6294, 6306, 6322, 6323, 6334, 6347, 6349, 6377, 6380, 6384, 6385, 6388, 6389, 6392, 6397, 6410, 6430, 6434, 6439, 6447, 6465, 6472, 6474, 6499, 6500, 6502, 6513, 6516, 6524, 6538, 6540, 6545, 6549, 6553, 6567, 6577, 6578, 6582, 6583, 6586, 6623, 6632, 6644, 6646, 6651, 6652, 6653, 6667, 6673, 6674, 6687, 6694, 6696, 6712, 6725, 6728, 6735, 6755, 6781, 6782, 6796, 6799, 6804, 6811, 6812, 6815, 6825, 6833, 6834, 6842, 6852, 6854, 6861, 6870, 6877, 6883, 6893, 6929, 6931, 6932, 6949, 6962, 7005, 7082, 7083, 7094, 7104, 7119, 7140, 7143, 7260, 7264, 7295, 7314, 7336, 7351, 7379, 7403, 7406, 7412, 7428, 7441, 7446, 7457, 7484, 7491, 7510, 7525, 7547, 7553, 7587, 7596, 7625, 7632, 7637, 7639, 7642, 7644, 7654, 7655, 7725, 7756, 7779, 7823, 7847, 7861, 7879, 7880, 7898, 7918, 7945, 7969, 7978, 7988, 7991, 8008, 8020, 8095, 8103, 8120, 8161, 8189, 8224, 8237, 8268, 8321, 8346, 8376, 8380, 8381, 8392, 8396, 8412, 8446, 8463, 8474, 8500, 8564, 8578, 8606, 8620, 8621, 8628, 8633, 8639, 8686, 8722, 8726, 8740, 8789, 8793, 8823, 8834, 8837, 8847, 8853, 8858, 8865, 8926, 8938, 8943, 8966, 8998, 9069, 9071, 9094, 9204, 9208, 9241, 9250, 9278, 9355, 9362, 9380, 9396, 9419, 9434, 9439, 9525, 9526, 9547, 9582, 9602, 9610, 9613, 9619, 9637, 9667, 9679, 9699, 9705, 9713, 9714, 9715, 9724, 9725, 9738, 9756, 9824, 9852, 9854, 9884, 9888, 9907, 9924, 9936, 9950, 9957, 9980, 9981, 9985, 9991, 9998, 10008, 10048, 10096, 10124, 10169, 10209, 10221, 10231, 10239, 10248, 10252, 10266, 10274, 10306, 10312, 10322, 10325, 10333, 10368, 10377, 10388, 10400, 10422, 10435, 10445, 10447, 10448, 10453, 10466, 10475, 10482, 10496, 10502, 10512, 10527, 10552, 10596, 10609, 10648, 10650, 10673, 10685, 10686, 10725, 10739, 10748, 10761, 10793, 10798, 10820, 10845, 10851, 10854, 10855, 10880, 10883, 10903, 10920, 10932, 10934, 10938, 10965, 10976, 10999, 11031, 11103, 11159, 11244, 11245, 11416, 11510, 11557, 11631, 11691, 11713, 11836, 11849, 11878, 11904, 11916, 11935, 11957, 11994, 11996, 12031, 12061, 12169, 12185, 12490, 12504, 12742, 12808, 12936, 12965, 13116, 13120, 13142, 13191, 13194, 13206, 13212, 13225, 13237, 13245, 13247, 13269, 13320, 13341, 13348, 13402, 13458, 13464, 13496, 13499, 13503, 13525, 13549, 13570, 13577, 13582, 13591, 13603, 13610, 13664, 13675, 13695, 13726, 13734, 13744, 13757, 13758, 13770, 13826, 13872, 13964, 13966, 13973, 14026, 14118, 14275, 14336, 14411, 14732, 14756, 14814, 14852, 15202, 15379, 15402, 15427, 15787, 15972, 15992, 16015, 16032, 16064, 16124, 16184, 16291, 16307, 16328, 16413, 16422, 16437, 16555, 16595, 16598, 16606, 16627, 16659, 16704, 16752, 16756, 16792, 16799, 16823, 16835, 16856, 16872, 16880, 16885, 16959, 17007, 17046, 17048, 17068, 17099, 17123, 17159, 17169, 17174, 17181, 17328, 17399, 17426, 17444, 17465, 17567, 17584, 17603, 17639, 17650, 17665, 17779, 17856, 17861, 17875, 17924, 18041, 18061, 18172, 18200, 18213, 18265, 18300, 18303, 18430, 18606, 18665, 18711, 18722, 18740, 18789, 18824, 18844, 18880, 18947, 19033, 19038, 19045, 19049, 19068, 19081, 19094, 19141, 19144, 19161, 19187, 19189, 19190, 19197, 19202, 19232, 19237, 19246, 19272, 19328, 19331, 19392, 19406, 19419, 19431, 19436, 19502, 19513, 19517, 19537, 19545, 19566, 19586, 19613, 19626, 19627, 19636, 19658, 19665, 19701, 19717, 19740, 19833, 19845, 19847, 19859, 19926, 19943, 19973, 19999]\n",
            "1009\n",
            "19999\n",
            "MonthlyRate\n",
            "[2094, 2097, 2104, 2112, 2122, 2125, 2137, 2227, 2243, 2253, 2261, 2288, 2302, 2323, 2326, 2338, 2354, 2373, 2396, 2437, 2447, 2493, 2539, 2560, 2561, 2613, 2671, 2689, 2690, 2706, 2721, 2725, 2739, 2755, 2819, 2823, 2845, 2851, 2890, 2900, 2912, 2939, 2967, 2975, 2993, 2997, 3010, 3020, 3031, 3032, 3064, 3072, 3088, 3119, 3129, 3140, 3142, 3156, 3157, 3164, 3173, 3193, 3208, 3297, 3300, 3334, 3335, 3339, 3356, 3372, 3376, 3395, 3415, 3423, 3425, 3427, 3445, 3449, 3458, 3465, 3487, 3498, 3525, 3536, 3549, 3567, 3622, 3666, 3687, 3692, 3698, 3708, 3735, 3787, 3809, 3810, 3811, 3835, 3840, 3854, 3872, 3909, 3921, 3956, 3974, 3987, 3995, 4009, 4022, 4050, 4051, 4060, 4077, 4156, 4161, 4167, 4185, 4187, 4204, 4223, 4235, 4244, 4257, 4258, 4267, 4279, 4284, 4297, 4303, 4306, 4317, 4344, 4345, 4349, 4381, 4386, 4488, 4510, 4544, 4567, 4585, 4605, 4609, 4652, 4658, 4668, 4673, 4681, 4732, 4759, 4761, 4809, 4814, 4821, 4824, 4892, 4905, 4910, 4933, 4944, 4956, 4973, 4981, 4992, 5013, 5033, 5041, 5044, 5050, 5083, 5099, 5100, 5118, 5141, 5151, 5174, 5182, 5197, 5200, 5207, 5220, 5224, 5228, 5242, 5268, 5288, 5323, 5335, 5340, 5348, 5355, 5388, 5404, 5411, 5431, 5456, 5494, 5518, 5530, 5531, 5543, 5549, 5561, 5569, 5586, 5594, 5596, 5598, 5602, 5615, 5626, 5628, 5630, 5640, 5652, 5678, 5696, 5711, 5718, 5747, 5771, 5829, 5843, 5855, 5860, 5868, 5869, 5915, 5949, 5970, 5972, 5982, 6004, 6009, 6020, 6039, 6054, 6060, 6069, 6073, 6076, 6110, 6148, 6152, 6153, 6161, 6163, 6179, 6194, 6208, 6217, 6219, 6225, 6227, 6233, 6297, 6311, 6319, 6393, 6409, 6420, 6462, 6499, 6527, 6582, 6595, 6599, 6615, 6645, 6670, 6672, 6689, 6698, 6705, 6729, 6759, 6762, 6770, 6812, 6842, 6865, 6881, 6889, 6896, 6927, 6950, 6961, 6975, 6984, 6986, 6992, 7003, 7018, 7060, 7100, 7102, 7103, 7108, 7122, 7129, 7143, 7152, 7160, 7172, 7181, 7192, 7246, 7259, 7288, 7298, 7324, 7331, 7346, 7360, 7389, 7419, 7428, 7439, 7501, 7505, 7507, 7508, 7530, 7551, 7568, 7621, 7636, 7653, 7660, 7677, 7679, 7693, 7703, 7713, 7739, 7744, 7747, 7770, 7790, 7791, 7815, 7824, 7858, 7909, 7914, 7950, 7973, 7975, 7999, 8007, 8018, 8039, 8040, 8045, 8053, 8059, 8191, 8192, 8202, 8213, 8232, 8269, 8277, 8302, 8306, 8318, 8319, 8346, 8386, 8392, 8416, 8423, 8429, 8450, 8456, 8489, 8504, 8509, 8532, 8544, 8552, 8556, 8571, 8635, 8658, 8733, 8751, 8758, 8770, 8787, 8800, 8828, 8841, 8842, 8847, 8861, 8863, 8870, 8891, 8916, 8931, 8935, 8952, 8978, 8984, 8989, 9051, 9060, 9068, 9075, 9096, 9100, 9125, 9128, 9129, 9148, 9150, 9192, 9238, 9241, 9250, 9255, 9256, 9260, 9262, 9277, 9278, 9282, 9314, 9358, 9364, 9369, 9396, 9489, 9490, 9518, 9528, 9541, 9558, 9571, 9606, 9647, 9655, 9659, 9679, 9687, 9696, 9697, 9724, 9731, 9732, 9752, 9755, 9769, 9834, 9867, 9873, 9931, 9945, 9946, 9947, 9953, 9961, 9964, 9973, 9977, 9983, 10007, 10022, 10034, 10036, 10056, 10074, 10077, 10084, 10092, 10110, 10138, 10195, 10205, 10224, 10225, 10227, 10228, 10261, 10268, 10293, 10302, 10310, 10322, 10332, 10333, 10339, 10410, 10414, 10415, 10425, 10436, 10494, 10503, 10515, 10531, 10554, 10557, 10558, 10589, 10642, 10675, 10697, 10732, 10735, 10748, 10778, 10781, 10826, 10842, 10846, 10849, 10877, 10893, 10901, 10910, 10919, 10942, 10950, 11005, 11012, 11031, 11038, 11092, 11133, 11135, 11141, 11148, 11162, 11179, 11189, 11262, 11275, 11288, 11309, 11314, 11354, 11373, 11380, 11411, 11439, 11473, 11479, 11512, 11533, 11535, 11539, 11563, 11585, 11591, 11652, 11677, 11693, 11737, 11740, 11757, 11761, 11781, 11806, 11825, 11827, 11864, 11866, 11868, 11873, 11879, 11882, 11912, 11924, 11925, 11929, 11934, 11983, 11992, 12023, 12066, 12069, 12086, 12090, 12102, 12106, 12124, 12127, 12145, 12147, 12154, 12227, 12241, 12250, 12253, 12278, 12287, 12288, 12290, 12291, 12313, 12315, 12355, 12368, 12388, 12392, 12414, 12421, 12430, 12449, 12477, 12482, 12530, 12549, 12682, 12695, 12719, 12740, 12761, 12826, 12828, 12832, 12853, 12858, 12862, 12888, 12916, 12930, 12932, 12947, 12982, 12992, 13008, 13022, 13035, 13072, 13084, 13119, 13137, 13192, 13243, 13248, 13251, 13257, 13273, 13301, 13305, 13335, 13339, 13352, 13364, 13384, 13401, 13402, 13421, 13422, 13430, 13436, 13492, 13493, 13494, 13514, 13523, 13535, 13547, 13551, 13554, 13556, 13583, 13586, 13588, 13596, 13624, 13637, 13672, 13684, 13693, 13738, 13755, 13782, 13829, 13848, 13871, 13888, 13934, 13938, 13939, 13943, 13953, 13970, 13982, 13983, 14004, 14011, 14034, 14039, 14074, 14075, 14115, 14120, 14168, 14180, 14199, 14218, 14222, 14229, 14242, 14255, 14284, 14293, 14295, 14363, 14369, 14377, 14382, 14394, 14399, 14408, 14460, 14470, 14506, 14511, 14561, 14590, 14618, 14630, 14669, 14674, 14720, 14753, 14776, 14810, 14811, 14814, 14842, 14862, 14864, 14871, 14908, 14922, 14935, 14947, 14961, 14977, 15000, 15053, 15062, 15067, 15146, 15170, 15174, 15178, 15182, 15211, 15232, 15238, 15276, 15302, 15318, 15322, 15332, 15346, 15395, 15397, 15411, 15417, 15428, 15434, 15471, 15480, 15497, 15530, 15587, 15589, 15596, 15624, 15669, 15678, 15682, 15696, 15701, 15717, 15736, 15747, 15748, 15813, 15815, 15830, 15834, 15850, 15869, 15881, 15891, 15896, 15901, 15919, 15963, 15970, 15972, 15975, 15986, 15998, 15999, 16002, 16019, 16031, 16044, 16047, 16090, 16092, 16102, 16117, 16130, 16143, 16154, 16177, 16192, 16193, 16213, 16225, 16280, 16290, 16292, 16321, 16340, 16346, 16374, 16375, 16376, 16379, 16392, 16439, 16458, 16479, 16490, 16495, 16523, 16530, 16542, 16571, 16577, 16586, 16612, 16616, 16620, 16632, 16642, 16673, 16701, 16734, 16822, 16840, 16873, 16885, 16900, 16901, 16928, 16985, 16998, 17000, 17001, 17011, 17053, 17056, 17071, 17078, 17089, 17102, 17119, 17171, 17181, 17198, 17205, 17218, 17231, 17235, 17241, 17251, 17258, 17285, 17312, 17323, 17334, 17360, 17363, 17369, 17381, 17433, 17434, 17456, 17477, 17485, 17491, 17519, 17536, 17544, 17588, 17616, 17624, 17654, 17663, 17674, 17689, 17725, 17736, 17747, 17759, 17778, 17783, 17799, 17802, 17808, 17810, 17822, 17852, 17872, 17881, 17940, 17967, 17970, 17997, 18016, 18024, 18079, 18089, 18092, 18103, 18115, 18154, 18168, 18203, 18235, 18256, 18264, 18275, 18300, 18384, 18385, 18398, 18410, 18420, 18437, 18500, 18575, 18597, 18611, 18624, 18625, 18640, 18659, 18685, 18686, 18697, 18698, 18706, 18725, 18767, 18775, 18779, 18783, 18787, 18798, 18830, 18863, 18869, 18899, 18938, 18959, 18991, 19002, 19028, 19100, 19106, 19121, 19124, 19146, 19170, 19188, 19191, 19196, 19225, 19239, 19246, 19255, 19271, 19281, 19293, 19294, 19299, 19305, 19332, 19345, 19368, 19373, 19383, 19384, 19394, 19461, 19479, 19494, 19519, 19555, 19558, 19562, 19566, 19573, 19588, 19609, 19627, 19630, 19655, 19658, 19665, 19682, 19711, 19715, 19719, 19730, 19737, 19757, 19760, 19764, 19783, 19788, 19805, 19826, 19863, 19877, 19899, 19905, 19911, 19920, 19921, 19944, 19948, 19982, 19989, 20002, 20003, 20006, 20100, 20115, 20156, 20161, 20165, 20206, 20232, 20234, 20251, 20260, 20284, 20293, 20308, 20317, 20328, 20335, 20338, 20364, 20366, 20392, 20420, 20431, 20439, 20445, 20460, 20462, 20467, 20471, 20489, 20490, 20497, 20520, 20586, 20619, 20623, 20652, 20682, 20689, 20715, 20739, 20750, 20763, 20794, 20898, 20925, 20933, 20938, 20943, 20948, 20978, 20989, 20990, 21016, 21026, 21029, 21030, 21057, 21072, 21075, 21081, 21082, 21086, 21123, 21141, 21143, 21146, 21158, 21173, 21195, 21196, 21199, 21203, 21214, 21221, 21222, 21293, 21378, 21412, 21436, 21437, 21445, 21447, 21457, 21495, 21509, 21519, 21526, 21530, 21534, 21602, 21624, 21630, 21632, 21643, 21653, 21698, 21703, 21708, 21728, 21731, 21777, 21782, 21813, 21816, 21821, 21829, 21831, 21833, 21922, 21923, 21972, 21981, 22002, 22021, 22049, 22052, 22061, 22074, 22087, 22088, 22098, 22102, 22107, 22128, 22149, 22154, 22162, 22174, 22217, 22245, 22262, 22266, 22308, 22310, 22376, 22384, 22422, 22455, 22456, 22474, 22477, 22478, 22482, 22490, 22495, 22534, 22539, 22553, 22573, 22577, 22578, 22589, 22604, 22645, 22650, 22653, 22656, 22670, 22673, 22710, 22722, 22789, 22792, 22794, 22807, 22808, 22812, 22822, 22825, 22845, 22887, 22908, 22914, 22929, 22930, 22949, 22952, 22955, 22957, 22967, 22977, 22984, 23016, 23037, 23060, 23070, 23099, 23159, 23163, 23177, 23213, 23231, 23238, 23258, 23281, 23288, 23293, 23300, 23333, 23343, 23352, 23361, 23364, 23371, 23384, 23398, 23402, 23413, 23428, 23447, 23452, 23457, 23474, 23490, 23522, 23537, 23553, 23577, 23631, 23648, 23679, 23683, 23687, 23726, 23737, 23757, 23772, 23779, 23785, 23793, 23814, 23826, 23844, 23848, 23866, 23888, 23910, 23914, 23965, 23978, 24001, 24008, 24017, 24032, 24052, 24097, 24117, 24118, 24152, 24162, 24164, 24200, 24208, 24223, 24232, 24252, 24301, 24375, 24406, 24409, 24439, 24440, 24442, 24444, 24447, 24450, 24456, 24483, 24525, 24532, 24539, 24558, 24594, 24608, 24609, 24619, 24624, 24666, 24668, 24737, 24785, 24788, 24793, 24795, 24812, 24835, 24852, 24907, 24920, 24941, 24978, 25043, 25063, 25098, 25103, 25150, 25166, 25174, 25178, 25198, 25233, 25258, 25265, 25275, 25291, 25308, 25326, 25348, 25353, 25388, 25412, 25422, 25440, 25470, 25479, 25518, 25527, 25549, 25592, 25594, 25605, 25657, 25681, 25713, 25725, 25751, 25755, 25761, 25796, 25800, 25811, 25812, 25846, 25927, 25949, 25952, 25995, 26009, 26062, 26075, 26076, 26085, 26092, 26124, 26176, 26186, 26204, 26227, 26236, 26250, 26278, 26283, 26285, 26308, 26312, 26314, 26342, 26362, 26376, 26427, 26458, 26493, 26496, 26507, 26537, 26542, 26551, 26582, 26589, 26619, 26703, 26707, 26767, 26820, 26841, 26849, 26862, 26894, 26897, 26914, 26933, 26956, 26959, 26968, 26997, 26999]\n",
            "2094\n",
            "26999\n",
            "NumCompaniesWorked\n",
            "[0, 1, 2, 3, 4, 5, 6, 7, 8, 9]\n",
            "0\n",
            "9\n",
            "OverTime\n",
            "['No', 'Yes']\n",
            "No\n",
            "Yes\n",
            "PercentSalaryHike\n",
            "[11, 12, 13, 14, 15, 16, 17, 18, 19, 20, 21, 22, 23, 24, 25]\n",
            "11\n",
            "25\n",
            "PerformanceRating\n",
            "[3, 4]\n",
            "3\n",
            "4\n",
            "RelationshipSatisfaction\n",
            "[1, 2, 3, 4]\n",
            "1\n",
            "4\n",
            "StockOptionLevel\n",
            "[0, 1, 2, 3]\n",
            "0\n",
            "3\n",
            "TotalWorkingYears\n",
            "[0, 1, 2, 3, 4, 5, 6, 7, 8, 9, 10, 11, 12, 13, 14, 15, 16, 17, 18, 19, 20, 21, 22, 23, 24, 25, 26, 27, 28, 29, 30, 31, 32, 33, 34, 35, 36, 37, 38, 40]\n",
            "0\n",
            "40\n",
            "TrainingTimesLastYear\n",
            "[0, 1, 2, 3, 4, 5, 6]\n",
            "0\n",
            "6\n",
            "WorkLifeBalance\n",
            "[1, 2, 3, 4]\n",
            "1\n",
            "4\n",
            "YearsAtCompany\n",
            "[0, 1, 2, 3, 4, 5, 6, 7, 8, 9, 10, 11, 12, 13, 14, 15, 16, 17, 18, 19, 20, 21, 22, 23, 24, 25, 26, 27, 29, 30, 31, 32, 33, 34, 36, 37, 40]\n",
            "0\n",
            "40\n",
            "YearsInCurrentRole\n",
            "[0, 1, 2, 3, 4, 5, 6, 7, 8, 9, 10, 11, 12, 13, 14, 15, 16, 17, 18]\n",
            "0\n",
            "18\n",
            "YearsSinceLastPromotion\n",
            "[0, 1, 2, 3, 4, 5, 6, 7, 8, 9, 10, 11, 12, 13, 14, 15]\n",
            "0\n",
            "15\n",
            "YearsWithCurrManager\n",
            "[0, 1, 2, 3, 4, 5, 6, 7, 8, 9, 10, 11, 12, 13, 14, 15, 16, 17]\n",
            "0\n",
            "17\n"
          ]
        }
      ]
    },
    {
      "cell_type": "code",
      "source": [
        "##@param <- colab에서 직접 데이터를 입력할 수 있는 폼을 호출하는 기능\n",
        "# https://colab.research.google.com/notebooks/forms.ipynb\n",
        "# 왼쪽 하단 <> : 코드 스니펫 -> Adding form fields\n",
        "\n",
        "Age = 43 #@param{type: \"slider\", min: 18, max: 60}\n",
        "BusinessTravel = 'Travel_Rarely' #@param['Non-Travel', 'Travel_Frequently', 'Travel_Rarely']\n",
        "DailyRate = 1072 #@param{type: \"slider\", min: 102, max: 1499}\n",
        "Department = 'Sales' #@param['Human Resources', 'Research & Development', 'Sales']\n",
        "DistanceFromHome = 29 #@param{type: \"slider\", min: 1, max: 29}\n",
        "Education = 1 #@param{type: \"slider\", min: 1, max: 5}\n",
        "EducationField = 'Technical Degree' #@param['Human Resources', 'Life Sciences', 'Marketing', 'Medical', 'Other', 'Technical Degree']\n",
        "EnvironmentSatisfaction = 1 #@param{type: \"slider\", min: 1, max: 4}\n",
        "Gender = 'Male' #@param['Female', 'Male']\n",
        "HourlyRate = 30 #@param{type: \"slider\", min: 30, max: 100}\n",
        "JobInvolvement = 1 #@param{type: \"slider\", min: 1, max: 4}\n",
        "JobLevel = 3 #@param{type: \"slider\", min: 1, max: 5}\n",
        "JobRole = 'Human Resources' #@param['Healthcare Representative', 'Human Resources', 'Laboratory Technician', 'Manager', 'Manufacturing Director', 'Research Director', 'Research Scientist', 'Sales Executive', 'Sales Representative']\n",
        "JobSatisfaction = 1 #@param{type: \"slider\", min: 1, max: 4}\n",
        "MaritalStatus = 'Single' #@param['Divorced', 'Married', 'Single']\n",
        "MonthlyIncome = 10920 #@param{type: \"slider\", min: 1000, max: 20000}\n",
        "MonthlyRate = 12540 #@param{type: \"slider\", min: 2000, max: 30000}\n",
        "NumCompaniesWorked = 4 #@param{type: \"slider\", min: 0, max: 9}\n",
        "OverTime = 'Yes' #@param['No', 'Yes']\n",
        "PercentSalaryHike = 21 #@param{type: \"slider\", min: 10, max: 30}\n",
        "PerformanceRating = 2 #@param{type: \"slider\", min: 1, max: 4}\n",
        "RelationshipSatisfaction = 1 #@param{type: \"slider\", min: 1, max: 4}\n",
        "StockOptionLevel = 2 #@param{type: \"slider\", min: 0, max: 3}\n",
        "TotalWorkingYears = 22 #@param{type: \"slider\", min: 0, max: 40}\n",
        "TrainingTimesLastYear = 2 #@param{type: \"slider\", min: 0, max: 6}\n",
        "WorkLifeBalance = 3 #@param{type: \"slider\", min: 1, max: 4}\n",
        "YearsAtCompany = 25 #@param{type: \"slider\", min: 0, max: 40}\n",
        "YearsInCurrentRole = 11 #@param{type: \"slider\", min: 0, max: 20}\n",
        "YearsSinceLastPromotion = 10 #@param{type: \"slider\", min: 0, max: 20}\n",
        "YearsWithCurrManager = 6 #@param{type: \"slider\", min: 0, max: 20}\n",
        "\n",
        "custom_input = pd.DataFrame([dict(\n",
        "    Age=Age,\n",
        "    BusinessTravel=BusinessTravel,\n",
        "    DailyRate=DailyRate,\n",
        "    Department=Department,\n",
        "    DistanceFromHome=DistanceFromHome,\n",
        "    Education=Education,\n",
        "    EducationField=EducationField,\n",
        "    EnvironmentSatisfaction=EnvironmentSatisfaction,\n",
        "    Gender=Gender,\n",
        "    HourlyRate=HourlyRate,\n",
        "    JobInvolvement=JobInvolvement,\n",
        "    JobLevel=JobLevel,\n",
        "    JobRole=JobRole,\n",
        "    JobSatisfaction=JobSatisfaction,\n",
        "    MaritalStatus=MaritalStatus,\n",
        "    MonthlyIncome=MonthlyIncome,\n",
        "    MonthlyRate=MonthlyRate,\n",
        "    NumCompaniesWorked=NumCompaniesWorked,\n",
        "    OverTime=OverTime,\n",
        "    PercentSalaryHike=PercentSalaryHike,\n",
        "    PerformanceRating=PerformanceRating,\n",
        "    RelationshipSatisfaction=RelationshipSatisfaction,\n",
        "    StockOptionLevel=StockOptionLevel,\n",
        "    TotalWorkingYears=TotalWorkingYears,\n",
        "    TrainingTimesLastYear=TrainingTimesLastYear,\n",
        "    WorkLifeBalance=WorkLifeBalance,\n",
        "    YearsAtCompany=YearsAtCompany,\n",
        "    YearsInCurrentRole=YearsInCurrentRole,\n",
        "    YearsSinceLastPromotion=YearsSinceLastPromotion,\n",
        "    YearsWithCurrManager=YearsWithCurrManager,\n",
        ")])\n",
        "\n",
        "custom_input"
      ],
      "metadata": {
        "colab": {
          "base_uri": "https://localhost:8080/",
          "height": 130
        },
        "id": "pidRNxFn145o",
        "outputId": "8253105d-d8bb-4724-b5de-f900ffc642d0"
      },
      "execution_count": null,
      "outputs": [
        {
          "output_type": "execute_result",
          "data": {
            "text/plain": [
              "   Age BusinessTravel  DailyRate Department  DistanceFromHome  Education  \\\n",
              "0   43  Travel_Rarely       1072      Sales                29          1   \n",
              "\n",
              "     EducationField  EnvironmentSatisfaction Gender  HourlyRate  ...  \\\n",
              "0  Technical Degree                        1   Male          30  ...   \n",
              "\n",
              "   PerformanceRating  RelationshipSatisfaction StockOptionLevel  \\\n",
              "0                  2                         1                2   \n",
              "\n",
              "   TotalWorkingYears TrainingTimesLastYear  WorkLifeBalance  YearsAtCompany  \\\n",
              "0                 22                     2                3              25   \n",
              "\n",
              "   YearsInCurrentRole YearsSinceLastPromotion  YearsWithCurrManager  \n",
              "0                  11                      10                     6  \n",
              "\n",
              "[1 rows x 30 columns]"
            ],
            "text/html": [
              "\n",
              "  <div id=\"df-aed0459a-0add-4786-af3b-604ce7304a26\" class=\"colab-df-container\">\n",
              "    <div>\n",
              "<style scoped>\n",
              "    .dataframe tbody tr th:only-of-type {\n",
              "        vertical-align: middle;\n",
              "    }\n",
              "\n",
              "    .dataframe tbody tr th {\n",
              "        vertical-align: top;\n",
              "    }\n",
              "\n",
              "    .dataframe thead th {\n",
              "        text-align: right;\n",
              "    }\n",
              "</style>\n",
              "<table border=\"1\" class=\"dataframe\">\n",
              "  <thead>\n",
              "    <tr style=\"text-align: right;\">\n",
              "      <th></th>\n",
              "      <th>Age</th>\n",
              "      <th>BusinessTravel</th>\n",
              "      <th>DailyRate</th>\n",
              "      <th>Department</th>\n",
              "      <th>DistanceFromHome</th>\n",
              "      <th>Education</th>\n",
              "      <th>EducationField</th>\n",
              "      <th>EnvironmentSatisfaction</th>\n",
              "      <th>Gender</th>\n",
              "      <th>HourlyRate</th>\n",
              "      <th>...</th>\n",
              "      <th>PerformanceRating</th>\n",
              "      <th>RelationshipSatisfaction</th>\n",
              "      <th>StockOptionLevel</th>\n",
              "      <th>TotalWorkingYears</th>\n",
              "      <th>TrainingTimesLastYear</th>\n",
              "      <th>WorkLifeBalance</th>\n",
              "      <th>YearsAtCompany</th>\n",
              "      <th>YearsInCurrentRole</th>\n",
              "      <th>YearsSinceLastPromotion</th>\n",
              "      <th>YearsWithCurrManager</th>\n",
              "    </tr>\n",
              "  </thead>\n",
              "  <tbody>\n",
              "    <tr>\n",
              "      <th>0</th>\n",
              "      <td>43</td>\n",
              "      <td>Travel_Rarely</td>\n",
              "      <td>1072</td>\n",
              "      <td>Sales</td>\n",
              "      <td>29</td>\n",
              "      <td>1</td>\n",
              "      <td>Technical Degree</td>\n",
              "      <td>1</td>\n",
              "      <td>Male</td>\n",
              "      <td>30</td>\n",
              "      <td>...</td>\n",
              "      <td>2</td>\n",
              "      <td>1</td>\n",
              "      <td>2</td>\n",
              "      <td>22</td>\n",
              "      <td>2</td>\n",
              "      <td>3</td>\n",
              "      <td>25</td>\n",
              "      <td>11</td>\n",
              "      <td>10</td>\n",
              "      <td>6</td>\n",
              "    </tr>\n",
              "  </tbody>\n",
              "</table>\n",
              "<p>1 rows × 30 columns</p>\n",
              "</div>\n",
              "    <div class=\"colab-df-buttons\">\n",
              "\n",
              "  <div class=\"colab-df-container\">\n",
              "    <button class=\"colab-df-convert\" onclick=\"convertToInteractive('df-aed0459a-0add-4786-af3b-604ce7304a26')\"\n",
              "            title=\"Convert this dataframe to an interactive table.\"\n",
              "            style=\"display:none;\">\n",
              "\n",
              "  <svg xmlns=\"http://www.w3.org/2000/svg\" height=\"24px\" viewBox=\"0 -960 960 960\">\n",
              "    <path d=\"M120-120v-720h720v720H120Zm60-500h600v-160H180v160Zm220 220h160v-160H400v160Zm0 220h160v-160H400v160ZM180-400h160v-160H180v160Zm440 0h160v-160H620v160ZM180-180h160v-160H180v160Zm440 0h160v-160H620v160Z\"/>\n",
              "  </svg>\n",
              "    </button>\n",
              "\n",
              "  <style>\n",
              "    .colab-df-container {\n",
              "      display:flex;\n",
              "      gap: 12px;\n",
              "    }\n",
              "\n",
              "    .colab-df-convert {\n",
              "      background-color: #E8F0FE;\n",
              "      border: none;\n",
              "      border-radius: 50%;\n",
              "      cursor: pointer;\n",
              "      display: none;\n",
              "      fill: #1967D2;\n",
              "      height: 32px;\n",
              "      padding: 0 0 0 0;\n",
              "      width: 32px;\n",
              "    }\n",
              "\n",
              "    .colab-df-convert:hover {\n",
              "      background-color: #E2EBFA;\n",
              "      box-shadow: 0px 1px 2px rgba(60, 64, 67, 0.3), 0px 1px 3px 1px rgba(60, 64, 67, 0.15);\n",
              "      fill: #174EA6;\n",
              "    }\n",
              "\n",
              "    .colab-df-buttons div {\n",
              "      margin-bottom: 4px;\n",
              "    }\n",
              "\n",
              "    [theme=dark] .colab-df-convert {\n",
              "      background-color: #3B4455;\n",
              "      fill: #D2E3FC;\n",
              "    }\n",
              "\n",
              "    [theme=dark] .colab-df-convert:hover {\n",
              "      background-color: #434B5C;\n",
              "      box-shadow: 0px 1px 3px 1px rgba(0, 0, 0, 0.15);\n",
              "      filter: drop-shadow(0px 1px 2px rgba(0, 0, 0, 0.3));\n",
              "      fill: #FFFFFF;\n",
              "    }\n",
              "  </style>\n",
              "\n",
              "    <script>\n",
              "      const buttonEl =\n",
              "        document.querySelector('#df-aed0459a-0add-4786-af3b-604ce7304a26 button.colab-df-convert');\n",
              "      buttonEl.style.display =\n",
              "        google.colab.kernel.accessAllowed ? 'block' : 'none';\n",
              "\n",
              "      async function convertToInteractive(key) {\n",
              "        const element = document.querySelector('#df-aed0459a-0add-4786-af3b-604ce7304a26');\n",
              "        const dataTable =\n",
              "          await google.colab.kernel.invokeFunction('convertToInteractive',\n",
              "                                                    [key], {});\n",
              "        if (!dataTable) return;\n",
              "\n",
              "        const docLinkHtml = 'Like what you see? Visit the ' +\n",
              "          '<a target=\"_blank\" href=https://colab.research.google.com/notebooks/data_table.ipynb>data table notebook</a>'\n",
              "          + ' to learn more about interactive tables.';\n",
              "        element.innerHTML = '';\n",
              "        dataTable['output_type'] = 'display_data';\n",
              "        await google.colab.output.renderOutput(dataTable, element);\n",
              "        const docLink = document.createElement('div');\n",
              "        docLink.innerHTML = docLinkHtml;\n",
              "        element.appendChild(docLink);\n",
              "      }\n",
              "    </script>\n",
              "  </div>\n",
              "\n",
              "\n",
              "  <div id=\"id_7f7d4aa9-a2b0-44e1-82ff-add6edbeba08\">\n",
              "    <style>\n",
              "      .colab-df-generate {\n",
              "        background-color: #E8F0FE;\n",
              "        border: none;\n",
              "        border-radius: 50%;\n",
              "        cursor: pointer;\n",
              "        display: none;\n",
              "        fill: #1967D2;\n",
              "        height: 32px;\n",
              "        padding: 0 0 0 0;\n",
              "        width: 32px;\n",
              "      }\n",
              "\n",
              "      .colab-df-generate:hover {\n",
              "        background-color: #E2EBFA;\n",
              "        box-shadow: 0px 1px 2px rgba(60, 64, 67, 0.3), 0px 1px 3px 1px rgba(60, 64, 67, 0.15);\n",
              "        fill: #174EA6;\n",
              "      }\n",
              "\n",
              "      [theme=dark] .colab-df-generate {\n",
              "        background-color: #3B4455;\n",
              "        fill: #D2E3FC;\n",
              "      }\n",
              "\n",
              "      [theme=dark] .colab-df-generate:hover {\n",
              "        background-color: #434B5C;\n",
              "        box-shadow: 0px 1px 3px 1px rgba(0, 0, 0, 0.15);\n",
              "        filter: drop-shadow(0px 1px 2px rgba(0, 0, 0, 0.3));\n",
              "        fill: #FFFFFF;\n",
              "      }\n",
              "    </style>\n",
              "    <button class=\"colab-df-generate\" onclick=\"generateWithVariable('custom_input')\"\n",
              "            title=\"Generate code using this dataframe.\"\n",
              "            style=\"display:none;\">\n",
              "\n",
              "  <svg xmlns=\"http://www.w3.org/2000/svg\" height=\"24px\"viewBox=\"0 0 24 24\"\n",
              "       width=\"24px\">\n",
              "    <path d=\"M7,19H8.4L18.45,9,17,7.55,7,17.6ZM5,21V16.75L18.45,3.32a2,2,0,0,1,2.83,0l1.4,1.43a1.91,1.91,0,0,1,.58,1.4,1.91,1.91,0,0,1-.58,1.4L9.25,21ZM18.45,9,17,7.55Zm-12,3A5.31,5.31,0,0,0,4.9,8.1,5.31,5.31,0,0,0,1,6.5,5.31,5.31,0,0,0,4.9,4.9,5.31,5.31,0,0,0,6.5,1,5.31,5.31,0,0,0,8.1,4.9,5.31,5.31,0,0,0,12,6.5,5.46,5.46,0,0,0,6.5,12Z\"/>\n",
              "  </svg>\n",
              "    </button>\n",
              "    <script>\n",
              "      (() => {\n",
              "      const buttonEl =\n",
              "        document.querySelector('#id_7f7d4aa9-a2b0-44e1-82ff-add6edbeba08 button.colab-df-generate');\n",
              "      buttonEl.style.display =\n",
              "        google.colab.kernel.accessAllowed ? 'block' : 'none';\n",
              "\n",
              "      buttonEl.onclick = () => {\n",
              "        google.colab.notebook.generateWithVariable('custom_input');\n",
              "      }\n",
              "      })();\n",
              "    </script>\n",
              "  </div>\n",
              "\n",
              "    </div>\n",
              "  </div>\n"
            ]
          },
          "metadata": {},
          "execution_count": 71
        }
      ]
    },
    {
      "cell_type": "code",
      "source": [
        "# 전처리를 실행하고 (데이터 인코딩-범주형 변수 처리, 스케일링)\n",
        "X_input = pd.get_dummies(\n",
        "    pd.concat([df_.drop('Attrition', axis=1),custom_input],\n",
        "              ignore_index=True),\n",
        "    columns=df_.dtypes[df_.dtypes == 'object'].index,\n",
        "    drop_first=True).iloc[[-1]]\n",
        "X_input = scaler.transform(X_input) # scaler <- 아까 저장한 이유\n",
        "X_input"
      ],
      "metadata": {
        "colab": {
          "base_uri": "https://localhost:8080/"
        },
        "id": "_ZrnvkgpLdkC",
        "outputId": "2afee14a-8c6c-4aa4-a99a-fc73fb978059"
      },
      "execution_count": null,
      "outputs": [
        {
          "output_type": "execute_result",
          "data": {
            "text/plain": [
              "array([[ 1.00000000e+00,  0.00000000e+00,  1.00000000e+00,\n",
              "         0.00000000e+00,  0.00000000e+00,  0.00000000e+00,\n",
              "         0.00000000e+00,  0.00000000e+00,  0.00000000e+00,\n",
              "        -4.73933649e-04,  1.12049789e+00,  1.00000000e+00,\n",
              "        -7.14285714e-02,  1.00000000e+00,  0.00000000e+00,\n",
              "         0.00000000e+00,  0.00000000e+00,  0.00000000e+00,\n",
              "         0.00000000e+00,  0.00000000e+00,  0.00000000e+00,\n",
              "         0.00000000e+00,  0.00000000e+00,  1.00000000e+00,\n",
              "         0.00000000e+00,  0.00000000e+00,  1.00000000e+00,\n",
              "         0.00000000e+00,  0.00000000e+00,  0.00000000e+00,\n",
              "         0.00000000e+00,  1.00000000e+00,  1.00000000e+00,\n",
              "         1.00000000e+00,  0.00000000e+00,  0.00000000e+00,\n",
              "         0.00000000e+00,  0.00000000e+00,  0.00000000e+00,\n",
              "         0.00000000e+00,  0.00000000e+00,  0.00000000e+00,\n",
              "         1.00000000e+00,  1.00000000e+00]])"
            ]
          },
          "metadata": {},
          "execution_count": 192
        }
      ]
    },
    {
      "cell_type": "markdown",
      "source": [
        "### Prediction"
      ],
      "metadata": {
        "id": "98zDGHXUjSs3"
      }
    },
    {
      "cell_type": "code",
      "source": [
        "import plotly.express as px\n",
        "\n",
        "Age = 51 #@param{type: \"slider\", min: 18, max: 60}\n",
        "BusinessTravel = 'Non-Travel' #@param['Non-Travel', 'Travel_Frequently', 'Travel_Rarely']\n",
        "DailyRate = 1001 #@param{type: \"slider\", min: 102, max: 1499}\n",
        "Department = 'Sales' #@param['Human Resources', 'Research & Development', 'Sales']\n",
        "DistanceFromHome = 1 #@param{type: \"slider\", min: 1, max: 29}\n",
        "Education = 5 #@param{type: \"slider\", min: 1, max: 5}\n",
        "EducationField = 'Other' #@param['Human Resources', 'Life Sciences', 'Marketing', 'Medical', 'Other', 'Technical Degree']\n",
        "EnvironmentSatisfaction = 4 #@param{type: \"slider\", min: 1, max: 4}\n",
        "Gender = 'Female' #@param['Female', 'Male']\n",
        "HourlyRate = 92 #@param{type: \"slider\", min: 30, max: 100}\n",
        "JobInvolvement = 3 #@param{type: \"slider\", min: 1, max: 4}\n",
        "JobLevel = 4 #@param{type: \"slider\", min: 1, max: 5}\n",
        "JobRole = 'Manager' #@param['Healthcare Representative', 'Human Resources', 'Laboratory Technician', 'Manager', 'Manufacturing Director', 'Research Director', 'Research Scientist', 'Sales Executive', 'Sales Representative']\n",
        "JobSatisfaction = 4 #@param{type: \"slider\", min: 1, max: 4}\n",
        "MaritalStatus = 'Married' #@param['Divorced', 'Married', 'Single']\n",
        "MonthlyIncome = 19833 #@param{type: \"slider\", min: 1000, max: 20000}\n",
        "MonthlyRate = 30000 #@param{type: \"slider\", min: 2000, max: 30000}\n",
        "NumCompaniesWorked = 9 #@param{type: \"slider\", min: 0, max: 9}\n",
        "OverTime = 'No' #@param['No', 'Yes']\n",
        "PercentSalaryHike = 28 #@param{type: \"slider\", min: 10, max: 30}\n",
        "PerformanceRating = 4 #@param{type: \"slider\", min: 1, max: 4}\n",
        "RelationshipSatisfaction = 4 #@param{type: \"slider\", min: 1, max: 4}\n",
        "StockOptionLevel = 2 #@param{type: \"slider\", min: 0, max: 3}\n",
        "TotalWorkingYears = 31 #@param{type: \"slider\", min: 0, max: 40}\n",
        "TrainingTimesLastYear = 5 #@param{type: \"slider\", min: 0, max: 6}\n",
        "WorkLifeBalance = 4 #@param{type: \"slider\", min: 1, max: 4}\n",
        "YearsAtCompany = 36 #@param{type: \"slider\", min: 0, max: 40}\n",
        "YearsInCurrentRole = 16 #@param{type: \"slider\", min: 0, max: 20}\n",
        "YearsSinceLastPromotion = 15 #@param{type: \"slider\", min: 0, max: 20}\n",
        "YearsWithCurrManager = 16 #@param{type: \"slider\", min: 0, max: 20}\n",
        "\n",
        "custom_input = pd.DataFrame([dict(\n",
        "    Age=Age,\n",
        "    BusinessTravel=BusinessTravel,\n",
        "    DailyRate=DailyRate,\n",
        "    Department=Department,\n",
        "    DistanceFromHome=DistanceFromHome,\n",
        "    Education=Education,\n",
        "    EducationField=EducationField,\n",
        "    EnvironmentSatisfaction=EnvironmentSatisfaction,\n",
        "    Gender=Gender,\n",
        "    HourlyRate=HourlyRate,\n",
        "    JobInvolvement=JobInvolvement,\n",
        "    JobLevel=JobLevel,\n",
        "    JobRole=JobRole,\n",
        "    JobSatisfaction=JobSatisfaction,\n",
        "    MaritalStatus=MaritalStatus,\n",
        "    MonthlyIncome=MonthlyIncome,\n",
        "    MonthlyRate=MonthlyRate,\n",
        "    NumCompaniesWorked=NumCompaniesWorked,\n",
        "    OverTime=OverTime,\n",
        "    PercentSalaryHike=PercentSalaryHike,\n",
        "    PerformanceRating=PerformanceRating,\n",
        "    RelationshipSatisfaction=RelationshipSatisfaction,\n",
        "    StockOptionLevel=StockOptionLevel,\n",
        "    TotalWorkingYears=TotalWorkingYears,\n",
        "    TrainingTimesLastYear=TrainingTimesLastYear,\n",
        "    WorkLifeBalance=WorkLifeBalance,\n",
        "    YearsAtCompany=YearsAtCompany,\n",
        "    YearsInCurrentRole=YearsInCurrentRole,\n",
        "    YearsSinceLastPromotion=YearsSinceLastPromotion,\n",
        "    YearsWithCurrManager=YearsWithCurrManager,\n",
        ")])\n",
        "\n",
        "X_input = pd.get_dummies(\n",
        "    pd.concat([df_.drop('Attrition', axis=1),custom_input],\n",
        "              ignore_index=True),\n",
        "    columns=df_.dtypes[df_.dtypes == 'object'].index,\n",
        "    drop_first=True).iloc[[-1]]\n",
        "X_input = scaler.transform(X_input)\n",
        "\n",
        "# voting_model # 훈련했던 모델\n",
        "pred = voting_model.predict(X_input)[0]\n",
        "# 0 또는 1 -> False, True -> 삼항연산자 사용\n",
        "print(f'이 사람은 퇴사 {\"한다\" if pred else \"안 한다\"}')\n",
        "\n",
        "proba = voting_model.predict_proba(X_input)[0]\n",
        "print(f'퇴사 확률 : {proba[1]*100:.4f}%')\n",
        "\n",
        "fig = px.pie(values=proba, names=['안 퇴사', '퇴사'])\n",
        "fig.show()"
      ],
      "metadata": {
        "colab": {
          "base_uri": "https://localhost:8080/",
          "height": 716
        },
        "id": "nUebi2IdNkp3",
        "outputId": "43993ef9-dfd2-46ab-dff7-178fee6d7faa"
      },
      "execution_count": null,
      "outputs": [
        {
          "output_type": "stream",
          "name": "stderr",
          "text": [
            "/usr/local/lib/python3.10/dist-packages/sklearn/base.py:439: UserWarning:\n",
            "\n",
            "X does not have valid feature names, but KNeighborsClassifier was fitted with feature names\n",
            "\n",
            "/usr/local/lib/python3.10/dist-packages/sklearn/base.py:439: UserWarning:\n",
            "\n",
            "X does not have valid feature names, but KNeighborsClassifier was fitted with feature names\n",
            "\n"
          ]
        },
        {
          "output_type": "stream",
          "name": "stdout",
          "text": [
            "이 사람은 퇴사 한다\n",
            "퇴사 확률 : 70.2952%\n"
          ]
        },
        {
          "output_type": "display_data",
          "data": {
            "text/html": [
              "<html>\n",
              "<head><meta charset=\"utf-8\" /></head>\n",
              "<body>\n",
              "    <div>            <script src=\"https://cdnjs.cloudflare.com/ajax/libs/mathjax/2.7.5/MathJax.js?config=TeX-AMS-MML_SVG\"></script><script type=\"text/javascript\">if (window.MathJax && window.MathJax.Hub && window.MathJax.Hub.Config) {window.MathJax.Hub.Config({SVG: {font: \"STIX-Web\"}});}</script>                <script type=\"text/javascript\">window.PlotlyConfig = {MathJaxConfig: 'local'};</script>\n",
              "        <script charset=\"utf-8\" src=\"https://cdn.plot.ly/plotly-2.24.1.min.js\"></script>                <div id=\"8843972a-f9d7-449d-9d06-4e504e0756de\" class=\"plotly-graph-div\" style=\"height:525px; width:100%;\"></div>            <script type=\"text/javascript\">                                    window.PLOTLYENV=window.PLOTLYENV || {};                                    if (document.getElementById(\"8843972a-f9d7-449d-9d06-4e504e0756de\")) {                    Plotly.newPlot(                        \"8843972a-f9d7-449d-9d06-4e504e0756de\",                        [{\"domain\":{\"x\":[0.0,1.0],\"y\":[0.0,1.0]},\"hovertemplate\":\"label=%{label}\\u003cbr\\u003evalue=%{value}\\u003cextra\\u003e\\u003c\\u002fextra\\u003e\",\"labels\":[\"\\uc548 \\ud1f4\\uc0ac\",\"\\ud1f4\\uc0ac\"],\"legendgroup\":\"\",\"name\":\"\",\"showlegend\":true,\"values\":[0.2970478807863287,0.7029521192136712],\"type\":\"pie\"}],                        {\"template\":{\"data\":{\"histogram2dcontour\":[{\"type\":\"histogram2dcontour\",\"colorbar\":{\"outlinewidth\":0,\"ticks\":\"\"},\"colorscale\":[[0.0,\"#0d0887\"],[0.1111111111111111,\"#46039f\"],[0.2222222222222222,\"#7201a8\"],[0.3333333333333333,\"#9c179e\"],[0.4444444444444444,\"#bd3786\"],[0.5555555555555556,\"#d8576b\"],[0.6666666666666666,\"#ed7953\"],[0.7777777777777778,\"#fb9f3a\"],[0.8888888888888888,\"#fdca26\"],[1.0,\"#f0f921\"]]}],\"choropleth\":[{\"type\":\"choropleth\",\"colorbar\":{\"outlinewidth\":0,\"ticks\":\"\"}}],\"histogram2d\":[{\"type\":\"histogram2d\",\"colorbar\":{\"outlinewidth\":0,\"ticks\":\"\"},\"colorscale\":[[0.0,\"#0d0887\"],[0.1111111111111111,\"#46039f\"],[0.2222222222222222,\"#7201a8\"],[0.3333333333333333,\"#9c179e\"],[0.4444444444444444,\"#bd3786\"],[0.5555555555555556,\"#d8576b\"],[0.6666666666666666,\"#ed7953\"],[0.7777777777777778,\"#fb9f3a\"],[0.8888888888888888,\"#fdca26\"],[1.0,\"#f0f921\"]]}],\"heatmap\":[{\"type\":\"heatmap\",\"colorbar\":{\"outlinewidth\":0,\"ticks\":\"\"},\"colorscale\":[[0.0,\"#0d0887\"],[0.1111111111111111,\"#46039f\"],[0.2222222222222222,\"#7201a8\"],[0.3333333333333333,\"#9c179e\"],[0.4444444444444444,\"#bd3786\"],[0.5555555555555556,\"#d8576b\"],[0.6666666666666666,\"#ed7953\"],[0.7777777777777778,\"#fb9f3a\"],[0.8888888888888888,\"#fdca26\"],[1.0,\"#f0f921\"]]}],\"heatmapgl\":[{\"type\":\"heatmapgl\",\"colorbar\":{\"outlinewidth\":0,\"ticks\":\"\"},\"colorscale\":[[0.0,\"#0d0887\"],[0.1111111111111111,\"#46039f\"],[0.2222222222222222,\"#7201a8\"],[0.3333333333333333,\"#9c179e\"],[0.4444444444444444,\"#bd3786\"],[0.5555555555555556,\"#d8576b\"],[0.6666666666666666,\"#ed7953\"],[0.7777777777777778,\"#fb9f3a\"],[0.8888888888888888,\"#fdca26\"],[1.0,\"#f0f921\"]]}],\"contourcarpet\":[{\"type\":\"contourcarpet\",\"colorbar\":{\"outlinewidth\":0,\"ticks\":\"\"}}],\"contour\":[{\"type\":\"contour\",\"colorbar\":{\"outlinewidth\":0,\"ticks\":\"\"},\"colorscale\":[[0.0,\"#0d0887\"],[0.1111111111111111,\"#46039f\"],[0.2222222222222222,\"#7201a8\"],[0.3333333333333333,\"#9c179e\"],[0.4444444444444444,\"#bd3786\"],[0.5555555555555556,\"#d8576b\"],[0.6666666666666666,\"#ed7953\"],[0.7777777777777778,\"#fb9f3a\"],[0.8888888888888888,\"#fdca26\"],[1.0,\"#f0f921\"]]}],\"surface\":[{\"type\":\"surface\",\"colorbar\":{\"outlinewidth\":0,\"ticks\":\"\"},\"colorscale\":[[0.0,\"#0d0887\"],[0.1111111111111111,\"#46039f\"],[0.2222222222222222,\"#7201a8\"],[0.3333333333333333,\"#9c179e\"],[0.4444444444444444,\"#bd3786\"],[0.5555555555555556,\"#d8576b\"],[0.6666666666666666,\"#ed7953\"],[0.7777777777777778,\"#fb9f3a\"],[0.8888888888888888,\"#fdca26\"],[1.0,\"#f0f921\"]]}],\"mesh3d\":[{\"type\":\"mesh3d\",\"colorbar\":{\"outlinewidth\":0,\"ticks\":\"\"}}],\"scatter\":[{\"fillpattern\":{\"fillmode\":\"overlay\",\"size\":10,\"solidity\":0.2},\"type\":\"scatter\"}],\"parcoords\":[{\"type\":\"parcoords\",\"line\":{\"colorbar\":{\"outlinewidth\":0,\"ticks\":\"\"}}}],\"scatterpolargl\":[{\"type\":\"scatterpolargl\",\"marker\":{\"colorbar\":{\"outlinewidth\":0,\"ticks\":\"\"}}}],\"bar\":[{\"error_x\":{\"color\":\"#2a3f5f\"},\"error_y\":{\"color\":\"#2a3f5f\"},\"marker\":{\"line\":{\"color\":\"#E5ECF6\",\"width\":0.5},\"pattern\":{\"fillmode\":\"overlay\",\"size\":10,\"solidity\":0.2}},\"type\":\"bar\"}],\"scattergeo\":[{\"type\":\"scattergeo\",\"marker\":{\"colorbar\":{\"outlinewidth\":0,\"ticks\":\"\"}}}],\"scatterpolar\":[{\"type\":\"scatterpolar\",\"marker\":{\"colorbar\":{\"outlinewidth\":0,\"ticks\":\"\"}}}],\"histogram\":[{\"marker\":{\"pattern\":{\"fillmode\":\"overlay\",\"size\":10,\"solidity\":0.2}},\"type\":\"histogram\"}],\"scattergl\":[{\"type\":\"scattergl\",\"marker\":{\"colorbar\":{\"outlinewidth\":0,\"ticks\":\"\"}}}],\"scatter3d\":[{\"type\":\"scatter3d\",\"line\":{\"colorbar\":{\"outlinewidth\":0,\"ticks\":\"\"}},\"marker\":{\"colorbar\":{\"outlinewidth\":0,\"ticks\":\"\"}}}],\"scattermapbox\":[{\"type\":\"scattermapbox\",\"marker\":{\"colorbar\":{\"outlinewidth\":0,\"ticks\":\"\"}}}],\"scatterternary\":[{\"type\":\"scatterternary\",\"marker\":{\"colorbar\":{\"outlinewidth\":0,\"ticks\":\"\"}}}],\"scattercarpet\":[{\"type\":\"scattercarpet\",\"marker\":{\"colorbar\":{\"outlinewidth\":0,\"ticks\":\"\"}}}],\"carpet\":[{\"aaxis\":{\"endlinecolor\":\"#2a3f5f\",\"gridcolor\":\"white\",\"linecolor\":\"white\",\"minorgridcolor\":\"white\",\"startlinecolor\":\"#2a3f5f\"},\"baxis\":{\"endlinecolor\":\"#2a3f5f\",\"gridcolor\":\"white\",\"linecolor\":\"white\",\"minorgridcolor\":\"white\",\"startlinecolor\":\"#2a3f5f\"},\"type\":\"carpet\"}],\"table\":[{\"cells\":{\"fill\":{\"color\":\"#EBF0F8\"},\"line\":{\"color\":\"white\"}},\"header\":{\"fill\":{\"color\":\"#C8D4E3\"},\"line\":{\"color\":\"white\"}},\"type\":\"table\"}],\"barpolar\":[{\"marker\":{\"line\":{\"color\":\"#E5ECF6\",\"width\":0.5},\"pattern\":{\"fillmode\":\"overlay\",\"size\":10,\"solidity\":0.2}},\"type\":\"barpolar\"}],\"pie\":[{\"automargin\":true,\"type\":\"pie\"}]},\"layout\":{\"autotypenumbers\":\"strict\",\"colorway\":[\"#636efa\",\"#EF553B\",\"#00cc96\",\"#ab63fa\",\"#FFA15A\",\"#19d3f3\",\"#FF6692\",\"#B6E880\",\"#FF97FF\",\"#FECB52\"],\"font\":{\"color\":\"#2a3f5f\"},\"hovermode\":\"closest\",\"hoverlabel\":{\"align\":\"left\"},\"paper_bgcolor\":\"white\",\"plot_bgcolor\":\"#E5ECF6\",\"polar\":{\"bgcolor\":\"#E5ECF6\",\"angularaxis\":{\"gridcolor\":\"white\",\"linecolor\":\"white\",\"ticks\":\"\"},\"radialaxis\":{\"gridcolor\":\"white\",\"linecolor\":\"white\",\"ticks\":\"\"}},\"ternary\":{\"bgcolor\":\"#E5ECF6\",\"aaxis\":{\"gridcolor\":\"white\",\"linecolor\":\"white\",\"ticks\":\"\"},\"baxis\":{\"gridcolor\":\"white\",\"linecolor\":\"white\",\"ticks\":\"\"},\"caxis\":{\"gridcolor\":\"white\",\"linecolor\":\"white\",\"ticks\":\"\"}},\"coloraxis\":{\"colorbar\":{\"outlinewidth\":0,\"ticks\":\"\"}},\"colorscale\":{\"sequential\":[[0.0,\"#0d0887\"],[0.1111111111111111,\"#46039f\"],[0.2222222222222222,\"#7201a8\"],[0.3333333333333333,\"#9c179e\"],[0.4444444444444444,\"#bd3786\"],[0.5555555555555556,\"#d8576b\"],[0.6666666666666666,\"#ed7953\"],[0.7777777777777778,\"#fb9f3a\"],[0.8888888888888888,\"#fdca26\"],[1.0,\"#f0f921\"]],\"sequentialminus\":[[0.0,\"#0d0887\"],[0.1111111111111111,\"#46039f\"],[0.2222222222222222,\"#7201a8\"],[0.3333333333333333,\"#9c179e\"],[0.4444444444444444,\"#bd3786\"],[0.5555555555555556,\"#d8576b\"],[0.6666666666666666,\"#ed7953\"],[0.7777777777777778,\"#fb9f3a\"],[0.8888888888888888,\"#fdca26\"],[1.0,\"#f0f921\"]],\"diverging\":[[0,\"#8e0152\"],[0.1,\"#c51b7d\"],[0.2,\"#de77ae\"],[0.3,\"#f1b6da\"],[0.4,\"#fde0ef\"],[0.5,\"#f7f7f7\"],[0.6,\"#e6f5d0\"],[0.7,\"#b8e186\"],[0.8,\"#7fbc41\"],[0.9,\"#4d9221\"],[1,\"#276419\"]]},\"xaxis\":{\"gridcolor\":\"white\",\"linecolor\":\"white\",\"ticks\":\"\",\"title\":{\"standoff\":15},\"zerolinecolor\":\"white\",\"automargin\":true,\"zerolinewidth\":2},\"yaxis\":{\"gridcolor\":\"white\",\"linecolor\":\"white\",\"ticks\":\"\",\"title\":{\"standoff\":15},\"zerolinecolor\":\"white\",\"automargin\":true,\"zerolinewidth\":2},\"scene\":{\"xaxis\":{\"backgroundcolor\":\"#E5ECF6\",\"gridcolor\":\"white\",\"linecolor\":\"white\",\"showbackground\":true,\"ticks\":\"\",\"zerolinecolor\":\"white\",\"gridwidth\":2},\"yaxis\":{\"backgroundcolor\":\"#E5ECF6\",\"gridcolor\":\"white\",\"linecolor\":\"white\",\"showbackground\":true,\"ticks\":\"\",\"zerolinecolor\":\"white\",\"gridwidth\":2},\"zaxis\":{\"backgroundcolor\":\"#E5ECF6\",\"gridcolor\":\"white\",\"linecolor\":\"white\",\"showbackground\":true,\"ticks\":\"\",\"zerolinecolor\":\"white\",\"gridwidth\":2}},\"shapedefaults\":{\"line\":{\"color\":\"#2a3f5f\"}},\"annotationdefaults\":{\"arrowcolor\":\"#2a3f5f\",\"arrowhead\":0,\"arrowwidth\":1},\"geo\":{\"bgcolor\":\"white\",\"landcolor\":\"#E5ECF6\",\"subunitcolor\":\"white\",\"showland\":true,\"showlakes\":true,\"lakecolor\":\"white\"},\"title\":{\"x\":0.05},\"mapbox\":{\"style\":\"light\"}}},\"legend\":{\"tracegroupgap\":0},\"margin\":{\"t\":60}},                        {\"responsive\": true}                    ).then(function(){\n",
              "                            \n",
              "var gd = document.getElementById('8843972a-f9d7-449d-9d06-4e504e0756de');\n",
              "var x = new MutationObserver(function (mutations, observer) {{\n",
              "        var display = window.getComputedStyle(gd).display;\n",
              "        if (!display || display === 'none') {{\n",
              "            console.log([gd, 'removed!']);\n",
              "            Plotly.purge(gd);\n",
              "            observer.disconnect();\n",
              "        }}\n",
              "}});\n",
              "\n",
              "// Listen for the removal of the full notebook cells\n",
              "var notebookContainer = gd.closest('#notebook-container');\n",
              "if (notebookContainer) {{\n",
              "    x.observe(notebookContainer, {childList: true});\n",
              "}}\n",
              "\n",
              "// Listen for the clearing of the current output cell\n",
              "var outputEl = gd.closest('.output');\n",
              "if (outputEl) {{\n",
              "    x.observe(outputEl, {childList: true});\n",
              "}}\n",
              "\n",
              "                        })                };                            </script>        </div>\n",
              "</body>\n",
              "</html>"
            ]
          },
          "metadata": {}
        }
      ]
    },
    {
      "cell_type": "code",
      "source": [
        "from google.colab import files\n",
        "\n",
        "# files.download() <- 예시 csv 파일을 입력하게 하고...\n",
        "# files.upload() <- csv 파일을 업로드 받아서...."
      ],
      "metadata": {
        "id": "4NQJvXbhs9a3"
      },
      "execution_count": null,
      "outputs": []
    }
  ]
}