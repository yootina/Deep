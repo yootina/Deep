{
  "nbformat": 4,
  "nbformat_minor": 0,
  "metadata": {
    "colab": {
      "provenance": [],
      "include_colab_link": true
    },
    "kernelspec": {
      "name": "python3",
      "display_name": "Python 3"
    },
    "language_info": {
      "name": "python"
    }
  },
  "cells": [
    {
      "cell_type": "markdown",
      "metadata": {
        "id": "view-in-github",
        "colab_type": "text"
      },
      "source": [
        "<a href=\"https://colab.research.google.com/github/yootina/Deep/blob/master/231219_Data_Analysis_Example_ipynb%EC%9D%98_%EC%82%AC%EB%B3%B8.ipynb\" target=\"_parent\"><img src=\"https://colab.research.google.com/assets/colab-badge.svg\" alt=\"Open In Colab\"/></a>"
      ]
    },
    {
      "cell_type": "markdown",
      "source": [
        "### Preprocessing"
      ],
      "metadata": {
        "id": "IE8tfD_B869G"
      }
    },
    {
      "cell_type": "code",
      "source": [
        "from google.colab import drive"
      ],
      "metadata": {
        "id": "FKbRQ2_ZVa5F"
      },
      "execution_count": null,
      "outputs": []
    },
    {
      "cell_type": "code",
      "source": [
        "drive.mount('/content/drive')"
      ],
      "metadata": {
        "colab": {
          "base_uri": "https://localhost:8080/"
        },
        "id": "CnQuM8m6VcZD",
        "outputId": "7958ab6f-0ae2-49a1-e7cf-2b7f1f24e76d"
      },
      "execution_count": null,
      "outputs": [
        {
          "output_type": "stream",
          "name": "stdout",
          "text": [
            "Mounted at /content/drive\n"
          ]
        }
      ]
    },
    {
      "cell_type": "code",
      "source": [
        "import pandas as pd\n",
        "from sklearn.model_selection import train_test_split\n",
        "from sklearn.preprocessing import MinMaxScaler\n",
        "from sklearn.metrics import accuracy_score"
      ],
      "metadata": {
        "id": "mtP1dIEujBAW"
      },
      "execution_count": null,
      "outputs": []
    },
    {
      "cell_type": "code",
      "execution_count": null,
      "metadata": {
        "colab": {
          "base_uri": "https://localhost:8080/",
          "height": 490
        },
        "id": "Vv8n6BLOidF0",
        "outputId": "13572342-5403-4fa2-a04f-b6524c28807e"
      },
      "outputs": [
        {
          "output_type": "execute_result",
          "data": {
            "text/plain": [
              "      행정동_코드     당월_매출_금액      업종구분_기타     업종구분_미용     업종구분_쇼핑     업종구분_오락  \\\n",
              "분기                                                                           \n",
              "1   11110515  16279289573   7957270622   151892026   661176442           0   \n",
              "1   11110530  51046545373   8051636700   508702777  4686058163   881808575   \n",
              "1   11110540  20775867634    748282665           0  7931923765           0   \n",
              "1   11110550   2805749974    653598448    77289390   175244182           0   \n",
              "1   11110560   6459931554   2329370775   152511405    81348024    17883485   \n",
              "..       ...          ...          ...         ...         ...         ...   \n",
              "4   11740640  24165044757   9547675159   189227730  2828996206  1006240313   \n",
              "4   11740650  24711611732   9801557983   557325473  1136973165   836471217   \n",
              "4   11740660  43103894439  18011611117   905328582  8190056435   567331857   \n",
              "4   11740685  65366978333  32956309424  1262497990  3455783251  1643841358   \n",
              "4   11740700  15734230248   5313144212   322670519  1187803207   562079594   \n",
              "\n",
              "       업종구분_음식점  업종구분_제과_카페     업종구분_호프    총_유동인구_수  20_30유동인구 비율  \\\n",
              "분기                                                                  \n",
              "1    4726687444  2672728479   109534560   2242741.0      0.286198   \n",
              "1   28598084267  7288258992  1031995899   4160962.0      0.335312   \n",
              "1    7901046060  4051835729   142779415    341878.0      0.332885   \n",
              "1    1148271975   733364518    17981461   1066838.0      0.230987   \n",
              "1    2807989540   958236770   112591555    518211.0      0.216589   \n",
              "..          ...         ...         ...         ...           ...   \n",
              "4    8924049859  1230388434   438467056   4070147.0      0.282801   \n",
              "4   10091841826  1178134133  1109307935   7156185.0      0.303431   \n",
              "4   11913187871  2601350490   915028087   5728212.0      0.285928   \n",
              "4   20649547970  3587781960  1811216380  13826524.0      0.289543   \n",
              "4    7366001138   809188828   173342750   5063191.0      0.262224   \n",
              "\n",
              "    2030매출비율_기타  2030매출비율_미용  2030매출비율_쇼핑  2030매출비율_오락  2030매출비율_음식점  \\\n",
              "분기                                                                     \n",
              "1      0.286819     0.411206     0.197685     0.000000      0.520960   \n",
              "1      0.326803     0.386879     0.350078     0.472955      0.354206   \n",
              "1      0.233961     0.000000     0.637019     0.000000      0.497991   \n",
              "1      0.428948     0.241511     0.455697     0.000000      0.313628   \n",
              "1      0.147299     0.027382     0.693809     0.048298      0.197497   \n",
              "..          ...          ...          ...          ...           ...   \n",
              "4      0.237067     0.306807     0.229304     0.410025      0.333990   \n",
              "4      0.294717     0.378606     0.222530     0.568746      0.509921   \n",
              "4      0.216755     0.433834     0.197805     0.389968      0.349311   \n",
              "4      0.364808     0.588021     0.158599     0.579379      0.332601   \n",
              "4      0.254137     0.152998     0.084169     0.502080      0.283677   \n",
              "\n",
              "    2030매출비율_제과_카페  2030매출비율_호프  \n",
              "분기                               \n",
              "1         0.563569     0.667124  \n",
              "1         0.434287     0.516301  \n",
              "1         0.463850     0.838784  \n",
              "1         0.508579     0.669007  \n",
              "1         0.286801     0.119143  \n",
              "..             ...          ...  \n",
              "4         0.438859     0.243442  \n",
              "4         0.489722     0.581454  \n",
              "4         0.448366     0.347920  \n",
              "4         0.420679     0.366345  \n",
              "4         0.396526     0.185506  \n",
              "\n",
              "[1596 rows x 18 columns]"
            ],
            "text/html": [
              "\n",
              "  <div id=\"df-b5e08739-ee2c-4665-83ff-8f765bf452de\" class=\"colab-df-container\">\n",
              "    <div>\n",
              "<style scoped>\n",
              "    .dataframe tbody tr th:only-of-type {\n",
              "        vertical-align: middle;\n",
              "    }\n",
              "\n",
              "    .dataframe tbody tr th {\n",
              "        vertical-align: top;\n",
              "    }\n",
              "\n",
              "    .dataframe thead th {\n",
              "        text-align: right;\n",
              "    }\n",
              "</style>\n",
              "<table border=\"1\" class=\"dataframe\">\n",
              "  <thead>\n",
              "    <tr style=\"text-align: right;\">\n",
              "      <th></th>\n",
              "      <th>행정동_코드</th>\n",
              "      <th>당월_매출_금액</th>\n",
              "      <th>업종구분_기타</th>\n",
              "      <th>업종구분_미용</th>\n",
              "      <th>업종구분_쇼핑</th>\n",
              "      <th>업종구분_오락</th>\n",
              "      <th>업종구분_음식점</th>\n",
              "      <th>업종구분_제과_카페</th>\n",
              "      <th>업종구분_호프</th>\n",
              "      <th>총_유동인구_수</th>\n",
              "      <th>20_30유동인구 비율</th>\n",
              "      <th>2030매출비율_기타</th>\n",
              "      <th>2030매출비율_미용</th>\n",
              "      <th>2030매출비율_쇼핑</th>\n",
              "      <th>2030매출비율_오락</th>\n",
              "      <th>2030매출비율_음식점</th>\n",
              "      <th>2030매출비율_제과_카페</th>\n",
              "      <th>2030매출비율_호프</th>\n",
              "    </tr>\n",
              "    <tr>\n",
              "      <th>분기</th>\n",
              "      <th></th>\n",
              "      <th></th>\n",
              "      <th></th>\n",
              "      <th></th>\n",
              "      <th></th>\n",
              "      <th></th>\n",
              "      <th></th>\n",
              "      <th></th>\n",
              "      <th></th>\n",
              "      <th></th>\n",
              "      <th></th>\n",
              "      <th></th>\n",
              "      <th></th>\n",
              "      <th></th>\n",
              "      <th></th>\n",
              "      <th></th>\n",
              "      <th></th>\n",
              "      <th></th>\n",
              "    </tr>\n",
              "  </thead>\n",
              "  <tbody>\n",
              "    <tr>\n",
              "      <th>1</th>\n",
              "      <td>11110515</td>\n",
              "      <td>16279289573</td>\n",
              "      <td>7957270622</td>\n",
              "      <td>151892026</td>\n",
              "      <td>661176442</td>\n",
              "      <td>0</td>\n",
              "      <td>4726687444</td>\n",
              "      <td>2672728479</td>\n",
              "      <td>109534560</td>\n",
              "      <td>2242741.0</td>\n",
              "      <td>0.286198</td>\n",
              "      <td>0.286819</td>\n",
              "      <td>0.411206</td>\n",
              "      <td>0.197685</td>\n",
              "      <td>0.000000</td>\n",
              "      <td>0.520960</td>\n",
              "      <td>0.563569</td>\n",
              "      <td>0.667124</td>\n",
              "    </tr>\n",
              "    <tr>\n",
              "      <th>1</th>\n",
              "      <td>11110530</td>\n",
              "      <td>51046545373</td>\n",
              "      <td>8051636700</td>\n",
              "      <td>508702777</td>\n",
              "      <td>4686058163</td>\n",
              "      <td>881808575</td>\n",
              "      <td>28598084267</td>\n",
              "      <td>7288258992</td>\n",
              "      <td>1031995899</td>\n",
              "      <td>4160962.0</td>\n",
              "      <td>0.335312</td>\n",
              "      <td>0.326803</td>\n",
              "      <td>0.386879</td>\n",
              "      <td>0.350078</td>\n",
              "      <td>0.472955</td>\n",
              "      <td>0.354206</td>\n",
              "      <td>0.434287</td>\n",
              "      <td>0.516301</td>\n",
              "    </tr>\n",
              "    <tr>\n",
              "      <th>1</th>\n",
              "      <td>11110540</td>\n",
              "      <td>20775867634</td>\n",
              "      <td>748282665</td>\n",
              "      <td>0</td>\n",
              "      <td>7931923765</td>\n",
              "      <td>0</td>\n",
              "      <td>7901046060</td>\n",
              "      <td>4051835729</td>\n",
              "      <td>142779415</td>\n",
              "      <td>341878.0</td>\n",
              "      <td>0.332885</td>\n",
              "      <td>0.233961</td>\n",
              "      <td>0.000000</td>\n",
              "      <td>0.637019</td>\n",
              "      <td>0.000000</td>\n",
              "      <td>0.497991</td>\n",
              "      <td>0.463850</td>\n",
              "      <td>0.838784</td>\n",
              "    </tr>\n",
              "    <tr>\n",
              "      <th>1</th>\n",
              "      <td>11110550</td>\n",
              "      <td>2805749974</td>\n",
              "      <td>653598448</td>\n",
              "      <td>77289390</td>\n",
              "      <td>175244182</td>\n",
              "      <td>0</td>\n",
              "      <td>1148271975</td>\n",
              "      <td>733364518</td>\n",
              "      <td>17981461</td>\n",
              "      <td>1066838.0</td>\n",
              "      <td>0.230987</td>\n",
              "      <td>0.428948</td>\n",
              "      <td>0.241511</td>\n",
              "      <td>0.455697</td>\n",
              "      <td>0.000000</td>\n",
              "      <td>0.313628</td>\n",
              "      <td>0.508579</td>\n",
              "      <td>0.669007</td>\n",
              "    </tr>\n",
              "    <tr>\n",
              "      <th>1</th>\n",
              "      <td>11110560</td>\n",
              "      <td>6459931554</td>\n",
              "      <td>2329370775</td>\n",
              "      <td>152511405</td>\n",
              "      <td>81348024</td>\n",
              "      <td>17883485</td>\n",
              "      <td>2807989540</td>\n",
              "      <td>958236770</td>\n",
              "      <td>112591555</td>\n",
              "      <td>518211.0</td>\n",
              "      <td>0.216589</td>\n",
              "      <td>0.147299</td>\n",
              "      <td>0.027382</td>\n",
              "      <td>0.693809</td>\n",
              "      <td>0.048298</td>\n",
              "      <td>0.197497</td>\n",
              "      <td>0.286801</td>\n",
              "      <td>0.119143</td>\n",
              "    </tr>\n",
              "    <tr>\n",
              "      <th>...</th>\n",
              "      <td>...</td>\n",
              "      <td>...</td>\n",
              "      <td>...</td>\n",
              "      <td>...</td>\n",
              "      <td>...</td>\n",
              "      <td>...</td>\n",
              "      <td>...</td>\n",
              "      <td>...</td>\n",
              "      <td>...</td>\n",
              "      <td>...</td>\n",
              "      <td>...</td>\n",
              "      <td>...</td>\n",
              "      <td>...</td>\n",
              "      <td>...</td>\n",
              "      <td>...</td>\n",
              "      <td>...</td>\n",
              "      <td>...</td>\n",
              "      <td>...</td>\n",
              "    </tr>\n",
              "    <tr>\n",
              "      <th>4</th>\n",
              "      <td>11740640</td>\n",
              "      <td>24165044757</td>\n",
              "      <td>9547675159</td>\n",
              "      <td>189227730</td>\n",
              "      <td>2828996206</td>\n",
              "      <td>1006240313</td>\n",
              "      <td>8924049859</td>\n",
              "      <td>1230388434</td>\n",
              "      <td>438467056</td>\n",
              "      <td>4070147.0</td>\n",
              "      <td>0.282801</td>\n",
              "      <td>0.237067</td>\n",
              "      <td>0.306807</td>\n",
              "      <td>0.229304</td>\n",
              "      <td>0.410025</td>\n",
              "      <td>0.333990</td>\n",
              "      <td>0.438859</td>\n",
              "      <td>0.243442</td>\n",
              "    </tr>\n",
              "    <tr>\n",
              "      <th>4</th>\n",
              "      <td>11740650</td>\n",
              "      <td>24711611732</td>\n",
              "      <td>9801557983</td>\n",
              "      <td>557325473</td>\n",
              "      <td>1136973165</td>\n",
              "      <td>836471217</td>\n",
              "      <td>10091841826</td>\n",
              "      <td>1178134133</td>\n",
              "      <td>1109307935</td>\n",
              "      <td>7156185.0</td>\n",
              "      <td>0.303431</td>\n",
              "      <td>0.294717</td>\n",
              "      <td>0.378606</td>\n",
              "      <td>0.222530</td>\n",
              "      <td>0.568746</td>\n",
              "      <td>0.509921</td>\n",
              "      <td>0.489722</td>\n",
              "      <td>0.581454</td>\n",
              "    </tr>\n",
              "    <tr>\n",
              "      <th>4</th>\n",
              "      <td>11740660</td>\n",
              "      <td>43103894439</td>\n",
              "      <td>18011611117</td>\n",
              "      <td>905328582</td>\n",
              "      <td>8190056435</td>\n",
              "      <td>567331857</td>\n",
              "      <td>11913187871</td>\n",
              "      <td>2601350490</td>\n",
              "      <td>915028087</td>\n",
              "      <td>5728212.0</td>\n",
              "      <td>0.285928</td>\n",
              "      <td>0.216755</td>\n",
              "      <td>0.433834</td>\n",
              "      <td>0.197805</td>\n",
              "      <td>0.389968</td>\n",
              "      <td>0.349311</td>\n",
              "      <td>0.448366</td>\n",
              "      <td>0.347920</td>\n",
              "    </tr>\n",
              "    <tr>\n",
              "      <th>4</th>\n",
              "      <td>11740685</td>\n",
              "      <td>65366978333</td>\n",
              "      <td>32956309424</td>\n",
              "      <td>1262497990</td>\n",
              "      <td>3455783251</td>\n",
              "      <td>1643841358</td>\n",
              "      <td>20649547970</td>\n",
              "      <td>3587781960</td>\n",
              "      <td>1811216380</td>\n",
              "      <td>13826524.0</td>\n",
              "      <td>0.289543</td>\n",
              "      <td>0.364808</td>\n",
              "      <td>0.588021</td>\n",
              "      <td>0.158599</td>\n",
              "      <td>0.579379</td>\n",
              "      <td>0.332601</td>\n",
              "      <td>0.420679</td>\n",
              "      <td>0.366345</td>\n",
              "    </tr>\n",
              "    <tr>\n",
              "      <th>4</th>\n",
              "      <td>11740700</td>\n",
              "      <td>15734230248</td>\n",
              "      <td>5313144212</td>\n",
              "      <td>322670519</td>\n",
              "      <td>1187803207</td>\n",
              "      <td>562079594</td>\n",
              "      <td>7366001138</td>\n",
              "      <td>809188828</td>\n",
              "      <td>173342750</td>\n",
              "      <td>5063191.0</td>\n",
              "      <td>0.262224</td>\n",
              "      <td>0.254137</td>\n",
              "      <td>0.152998</td>\n",
              "      <td>0.084169</td>\n",
              "      <td>0.502080</td>\n",
              "      <td>0.283677</td>\n",
              "      <td>0.396526</td>\n",
              "      <td>0.185506</td>\n",
              "    </tr>\n",
              "  </tbody>\n",
              "</table>\n",
              "<p>1596 rows × 18 columns</p>\n",
              "</div>\n",
              "    <div class=\"colab-df-buttons\">\n",
              "\n",
              "  <div class=\"colab-df-container\">\n",
              "    <button class=\"colab-df-convert\" onclick=\"convertToInteractive('df-b5e08739-ee2c-4665-83ff-8f765bf452de')\"\n",
              "            title=\"Convert this dataframe to an interactive table.\"\n",
              "            style=\"display:none;\">\n",
              "\n",
              "  <svg xmlns=\"http://www.w3.org/2000/svg\" height=\"24px\" viewBox=\"0 -960 960 960\">\n",
              "    <path d=\"M120-120v-720h720v720H120Zm60-500h600v-160H180v160Zm220 220h160v-160H400v160Zm0 220h160v-160H400v160ZM180-400h160v-160H180v160Zm440 0h160v-160H620v160ZM180-180h160v-160H180v160Zm440 0h160v-160H620v160Z\"/>\n",
              "  </svg>\n",
              "    </button>\n",
              "\n",
              "  <style>\n",
              "    .colab-df-container {\n",
              "      display:flex;\n",
              "      gap: 12px;\n",
              "    }\n",
              "\n",
              "    .colab-df-convert {\n",
              "      background-color: #E8F0FE;\n",
              "      border: none;\n",
              "      border-radius: 50%;\n",
              "      cursor: pointer;\n",
              "      display: none;\n",
              "      fill: #1967D2;\n",
              "      height: 32px;\n",
              "      padding: 0 0 0 0;\n",
              "      width: 32px;\n",
              "    }\n",
              "\n",
              "    .colab-df-convert:hover {\n",
              "      background-color: #E2EBFA;\n",
              "      box-shadow: 0px 1px 2px rgba(60, 64, 67, 0.3), 0px 1px 3px 1px rgba(60, 64, 67, 0.15);\n",
              "      fill: #174EA6;\n",
              "    }\n",
              "\n",
              "    .colab-df-buttons div {\n",
              "      margin-bottom: 4px;\n",
              "    }\n",
              "\n",
              "    [theme=dark] .colab-df-convert {\n",
              "      background-color: #3B4455;\n",
              "      fill: #D2E3FC;\n",
              "    }\n",
              "\n",
              "    [theme=dark] .colab-df-convert:hover {\n",
              "      background-color: #434B5C;\n",
              "      box-shadow: 0px 1px 3px 1px rgba(0, 0, 0, 0.15);\n",
              "      filter: drop-shadow(0px 1px 2px rgba(0, 0, 0, 0.3));\n",
              "      fill: #FFFFFF;\n",
              "    }\n",
              "  </style>\n",
              "\n",
              "    <script>\n",
              "      const buttonEl =\n",
              "        document.querySelector('#df-b5e08739-ee2c-4665-83ff-8f765bf452de button.colab-df-convert');\n",
              "      buttonEl.style.display =\n",
              "        google.colab.kernel.accessAllowed ? 'block' : 'none';\n",
              "\n",
              "      async function convertToInteractive(key) {\n",
              "        const element = document.querySelector('#df-b5e08739-ee2c-4665-83ff-8f765bf452de');\n",
              "        const dataTable =\n",
              "          await google.colab.kernel.invokeFunction('convertToInteractive',\n",
              "                                                    [key], {});\n",
              "        if (!dataTable) return;\n",
              "\n",
              "        const docLinkHtml = 'Like what you see? Visit the ' +\n",
              "          '<a target=\"_blank\" href=https://colab.research.google.com/notebooks/data_table.ipynb>data table notebook</a>'\n",
              "          + ' to learn more about interactive tables.';\n",
              "        element.innerHTML = '';\n",
              "        dataTable['output_type'] = 'display_data';\n",
              "        await google.colab.output.renderOutput(dataTable, element);\n",
              "        const docLink = document.createElement('div');\n",
              "        docLink.innerHTML = docLinkHtml;\n",
              "        element.appendChild(docLink);\n",
              "      }\n",
              "    </script>\n",
              "  </div>\n",
              "\n",
              "\n",
              "<div id=\"df-9e218489-05a9-47fa-9843-a2b6986120f7\">\n",
              "  <button class=\"colab-df-quickchart\" onclick=\"quickchart('df-9e218489-05a9-47fa-9843-a2b6986120f7')\"\n",
              "            title=\"Suggest charts\"\n",
              "            style=\"display:none;\">\n",
              "\n",
              "<svg xmlns=\"http://www.w3.org/2000/svg\" height=\"24px\"viewBox=\"0 0 24 24\"\n",
              "     width=\"24px\">\n",
              "    <g>\n",
              "        <path d=\"M19 3H5c-1.1 0-2 .9-2 2v14c0 1.1.9 2 2 2h14c1.1 0 2-.9 2-2V5c0-1.1-.9-2-2-2zM9 17H7v-7h2v7zm4 0h-2V7h2v10zm4 0h-2v-4h2v4z\"/>\n",
              "    </g>\n",
              "</svg>\n",
              "  </button>\n",
              "\n",
              "<style>\n",
              "  .colab-df-quickchart {\n",
              "      --bg-color: #E8F0FE;\n",
              "      --fill-color: #1967D2;\n",
              "      --hover-bg-color: #E2EBFA;\n",
              "      --hover-fill-color: #174EA6;\n",
              "      --disabled-fill-color: #AAA;\n",
              "      --disabled-bg-color: #DDD;\n",
              "  }\n",
              "\n",
              "  [theme=dark] .colab-df-quickchart {\n",
              "      --bg-color: #3B4455;\n",
              "      --fill-color: #D2E3FC;\n",
              "      --hover-bg-color: #434B5C;\n",
              "      --hover-fill-color: #FFFFFF;\n",
              "      --disabled-bg-color: #3B4455;\n",
              "      --disabled-fill-color: #666;\n",
              "  }\n",
              "\n",
              "  .colab-df-quickchart {\n",
              "    background-color: var(--bg-color);\n",
              "    border: none;\n",
              "    border-radius: 50%;\n",
              "    cursor: pointer;\n",
              "    display: none;\n",
              "    fill: var(--fill-color);\n",
              "    height: 32px;\n",
              "    padding: 0;\n",
              "    width: 32px;\n",
              "  }\n",
              "\n",
              "  .colab-df-quickchart:hover {\n",
              "    background-color: var(--hover-bg-color);\n",
              "    box-shadow: 0 1px 2px rgba(60, 64, 67, 0.3), 0 1px 3px 1px rgba(60, 64, 67, 0.15);\n",
              "    fill: var(--button-hover-fill-color);\n",
              "  }\n",
              "\n",
              "  .colab-df-quickchart-complete:disabled,\n",
              "  .colab-df-quickchart-complete:disabled:hover {\n",
              "    background-color: var(--disabled-bg-color);\n",
              "    fill: var(--disabled-fill-color);\n",
              "    box-shadow: none;\n",
              "  }\n",
              "\n",
              "  .colab-df-spinner {\n",
              "    border: 2px solid var(--fill-color);\n",
              "    border-color: transparent;\n",
              "    border-bottom-color: var(--fill-color);\n",
              "    animation:\n",
              "      spin 1s steps(1) infinite;\n",
              "  }\n",
              "\n",
              "  @keyframes spin {\n",
              "    0% {\n",
              "      border-color: transparent;\n",
              "      border-bottom-color: var(--fill-color);\n",
              "      border-left-color: var(--fill-color);\n",
              "    }\n",
              "    20% {\n",
              "      border-color: transparent;\n",
              "      border-left-color: var(--fill-color);\n",
              "      border-top-color: var(--fill-color);\n",
              "    }\n",
              "    30% {\n",
              "      border-color: transparent;\n",
              "      border-left-color: var(--fill-color);\n",
              "      border-top-color: var(--fill-color);\n",
              "      border-right-color: var(--fill-color);\n",
              "    }\n",
              "    40% {\n",
              "      border-color: transparent;\n",
              "      border-right-color: var(--fill-color);\n",
              "      border-top-color: var(--fill-color);\n",
              "    }\n",
              "    60% {\n",
              "      border-color: transparent;\n",
              "      border-right-color: var(--fill-color);\n",
              "    }\n",
              "    80% {\n",
              "      border-color: transparent;\n",
              "      border-right-color: var(--fill-color);\n",
              "      border-bottom-color: var(--fill-color);\n",
              "    }\n",
              "    90% {\n",
              "      border-color: transparent;\n",
              "      border-bottom-color: var(--fill-color);\n",
              "    }\n",
              "  }\n",
              "</style>\n",
              "\n",
              "  <script>\n",
              "    async function quickchart(key) {\n",
              "      const quickchartButtonEl =\n",
              "        document.querySelector('#' + key + ' button');\n",
              "      quickchartButtonEl.disabled = true;  // To prevent multiple clicks.\n",
              "      quickchartButtonEl.classList.add('colab-df-spinner');\n",
              "      try {\n",
              "        const charts = await google.colab.kernel.invokeFunction(\n",
              "            'suggestCharts', [key], {});\n",
              "      } catch (error) {\n",
              "        console.error('Error during call to suggestCharts:', error);\n",
              "      }\n",
              "      quickchartButtonEl.classList.remove('colab-df-spinner');\n",
              "      quickchartButtonEl.classList.add('colab-df-quickchart-complete');\n",
              "    }\n",
              "    (() => {\n",
              "      let quickchartButtonEl =\n",
              "        document.querySelector('#df-9e218489-05a9-47fa-9843-a2b6986120f7 button');\n",
              "      quickchartButtonEl.style.display =\n",
              "        google.colab.kernel.accessAllowed ? 'block' : 'none';\n",
              "    })();\n",
              "  </script>\n",
              "</div>\n",
              "\n",
              "  <div id=\"id_e173191a-d5ac-4f87-baac-3f2c53f95b9c\">\n",
              "    <style>\n",
              "      .colab-df-generate {\n",
              "        background-color: #E8F0FE;\n",
              "        border: none;\n",
              "        border-radius: 50%;\n",
              "        cursor: pointer;\n",
              "        display: none;\n",
              "        fill: #1967D2;\n",
              "        height: 32px;\n",
              "        padding: 0 0 0 0;\n",
              "        width: 32px;\n",
              "      }\n",
              "\n",
              "      .colab-df-generate:hover {\n",
              "        background-color: #E2EBFA;\n",
              "        box-shadow: 0px 1px 2px rgba(60, 64, 67, 0.3), 0px 1px 3px 1px rgba(60, 64, 67, 0.15);\n",
              "        fill: #174EA6;\n",
              "      }\n",
              "\n",
              "      [theme=dark] .colab-df-generate {\n",
              "        background-color: #3B4455;\n",
              "        fill: #D2E3FC;\n",
              "      }\n",
              "\n",
              "      [theme=dark] .colab-df-generate:hover {\n",
              "        background-color: #434B5C;\n",
              "        box-shadow: 0px 1px 3px 1px rgba(0, 0, 0, 0.15);\n",
              "        filter: drop-shadow(0px 1px 2px rgba(0, 0, 0, 0.3));\n",
              "        fill: #FFFFFF;\n",
              "      }\n",
              "    </style>\n",
              "    <button class=\"colab-df-generate\" onclick=\"generateWithVariable('df1')\"\n",
              "            title=\"Generate code using this dataframe.\"\n",
              "            style=\"display:none;\">\n",
              "\n",
              "  <svg xmlns=\"http://www.w3.org/2000/svg\" height=\"24px\"viewBox=\"0 0 24 24\"\n",
              "       width=\"24px\">\n",
              "    <path d=\"M7,19H8.4L18.45,9,17,7.55,7,17.6ZM5,21V16.75L18.45,3.32a2,2,0,0,1,2.83,0l1.4,1.43a1.91,1.91,0,0,1,.58,1.4,1.91,1.91,0,0,1-.58,1.4L9.25,21ZM18.45,9,17,7.55Zm-12,3A5.31,5.31,0,0,0,4.9,8.1,5.31,5.31,0,0,0,1,6.5,5.31,5.31,0,0,0,4.9,4.9,5.31,5.31,0,0,0,6.5,1,5.31,5.31,0,0,0,8.1,4.9,5.31,5.31,0,0,0,12,6.5,5.46,5.46,0,0,0,6.5,12Z\"/>\n",
              "  </svg>\n",
              "    </button>\n",
              "    <script>\n",
              "      (() => {\n",
              "      const buttonEl =\n",
              "        document.querySelector('#id_e173191a-d5ac-4f87-baac-3f2c53f95b9c button.colab-df-generate');\n",
              "      buttonEl.style.display =\n",
              "        google.colab.kernel.accessAllowed ? 'block' : 'none';\n",
              "\n",
              "      buttonEl.onclick = () => {\n",
              "        google.colab.notebook.generateWithVariable('df1');\n",
              "      }\n",
              "      })();\n",
              "    </script>\n",
              "  </div>\n",
              "\n",
              "    </div>\n",
              "  </div>\n"
            ]
          },
          "metadata": {},
          "execution_count": 6
        }
      ],
      "source": [
        "df1 = pd.read_csv('/content/drive/MyDrive/★ 3조 (펜타코어)/데이터/data/2021상권데이터/2021_행정동별_점포매출_유동인구_통합.csv', encoding='cp949', index_col=0)\n",
        "df1"
      ]
    },
    {
      "cell_type": "code",
      "source": [
        "df1.info()"
      ],
      "metadata": {
        "colab": {
          "base_uri": "https://localhost:8080/"
        },
        "id": "3NemgTi9ty9X",
        "outputId": "53011341-2bbe-4740-c9f1-2e402bfb785a"
      },
      "execution_count": null,
      "outputs": [
        {
          "output_type": "stream",
          "name": "stdout",
          "text": [
            "<class 'pandas.core.frame.DataFrame'>\n",
            "Int64Index: 1596 entries, 1 to 4\n",
            "Data columns (total 18 columns):\n",
            " #   Column          Non-Null Count  Dtype  \n",
            "---  ------          --------------  -----  \n",
            " 0   행정동_코드          1596 non-null   int64  \n",
            " 1   당월_매출_금액        1596 non-null   int64  \n",
            " 2   업종구분_기타         1596 non-null   int64  \n",
            " 3   업종구분_미용         1596 non-null   int64  \n",
            " 4   업종구분_쇼핑         1596 non-null   int64  \n",
            " 5   업종구분_오락         1596 non-null   int64  \n",
            " 6   업종구분_음식점        1596 non-null   int64  \n",
            " 7   업종구분_제과_카페      1596 non-null   int64  \n",
            " 8   업종구분_호프         1596 non-null   int64  \n",
            " 9   총_유동인구_수        1596 non-null   float64\n",
            " 10  20_30유동인구 비율    1596 non-null   float64\n",
            " 11  2030매출비율_기타     1596 non-null   float64\n",
            " 12  2030매출비율_미용     1596 non-null   float64\n",
            " 13  2030매출비율_쇼핑     1596 non-null   float64\n",
            " 14  2030매출비율_오락     1596 non-null   float64\n",
            " 15  2030매출비율_음식점    1596 non-null   float64\n",
            " 16  2030매출비율_제과_카페  1596 non-null   float64\n",
            " 17  2030매출비율_호프     1596 non-null   float64\n",
            "dtypes: float64(9), int64(9)\n",
            "memory usage: 236.9 KB\n"
          ]
        }
      ]
    },
    {
      "cell_type": "code",
      "source": [
        "df1.nunique()"
      ],
      "metadata": {
        "colab": {
          "base_uri": "https://localhost:8080/"
        },
        "id": "PxaodTbx2gk9",
        "outputId": "c2705eb4-f6b3-4ab6-f4b2-ca9ea78e3301"
      },
      "execution_count": null,
      "outputs": [
        {
          "output_type": "execute_result",
          "data": {
            "text/plain": [
              "행정동_코드             399\n",
              "당월_매출_금액          1596\n",
              "업종구분_기타           1593\n",
              "업종구분_미용           1585\n",
              "업종구분_쇼핑           1568\n",
              "업종구분_오락           1481\n",
              "업종구분_음식점          1596\n",
              "업종구분_제과_카페        1574\n",
              "업종구분_호프           1456\n",
              "총_유동인구_수          1596\n",
              "20_30유동인구 비율      1596\n",
              "2030매출비율_기타       1593\n",
              "2030매출비율_미용       1585\n",
              "2030매출비율_쇼핑       1528\n",
              "2030매출비율_오락       1472\n",
              "2030매출비율_음식점      1593\n",
              "2030매출비율_제과_카페    1577\n",
              "2030매출비율_호프       1439\n",
              "dtype: int64"
            ]
          },
          "metadata": {},
          "execution_count": 8
        }
      ]
    },
    {
      "cell_type": "code",
      "source": [
        "# 데이터프레임(df)에서 각 열의 고유한 값의 개수를 계산합니다.\n",
        "unique_value_counts = df1.nunique()\n",
        "\n",
        "# 고유한 값의 개수가 1 이하인 열을 필터링합니다.\n",
        "# Over18, StandardHours\n",
        "# 이때, True 또는 False로 구성된 불리언 시리즈가 생성됩니다.\n",
        "columns_to_drop = unique_value_counts[unique_value_counts <= 1]\n",
        "\n",
        "# 고유한 값의 개수가 1 이하인 열의 인덱스를 리스트로 추출합니다.\n",
        "columns_to_drop_indices = columns_to_drop.index.to_list()\n",
        "\n",
        "# 추출한 열의 인덱스를 사용하여 해당 열들을 데이터프레임에서 제거합니다.\n",
        "# axis=1은 열 방향을 의미합니다.\n",
        "# inplace=True를 사용하여 원본 데이터프레임을 수정합니다.\n",
        "df1.drop(columns=columns_to_drop_indices, axis=1, inplace=True)"
      ],
      "metadata": {
        "id": "wMtiWHNG2qPL"
      },
      "execution_count": null,
      "outputs": []
    },
    {
      "cell_type": "code",
      "source": [
        "df1.drop('EmployeeNumber', axis=1, inplace=True)"
      ],
      "metadata": {
        "id": "FbtE2Ox02xnN"
      },
      "execution_count": null,
      "outputs": []
    },
    {
      "cell_type": "code",
      "source": [
        "df1['Attrition'] = df1['Attrition'].eq('Yes')"
      ],
      "metadata": {
        "id": "W062dMDz3KFK"
      },
      "execution_count": null,
      "outputs": []
    },
    {
      "cell_type": "code",
      "source": [
        "df1['당월_매출_금액'].mean()"
      ],
      "metadata": {
        "colab": {
          "base_uri": "https://localhost:8080/"
        },
        "id": "y6gvSyyy-bQY",
        "outputId": "06f22008-42bf-4ea3-8796-506a009b0762"
      },
      "execution_count": null,
      "outputs": [
        {
          "output_type": "execute_result",
          "data": {
            "text/plain": [
              "33336618578.852757"
            ]
          },
          "metadata": {},
          "execution_count": 11
        }
      ]
    },
    {
      "cell_type": "code",
      "source": [
        "df_ = df1.copy()"
      ],
      "metadata": {
        "id": "ISuUXdLI1lF9"
      },
      "execution_count": null,
      "outputs": []
    },
    {
      "cell_type": "code",
      "source": [
        "df_.columns"
      ],
      "metadata": {
        "colab": {
          "base_uri": "https://localhost:8080/"
        },
        "id": "inVzIOcH1nRB",
        "outputId": "79ec4525-2cba-48ca-cd12-752b2e01f597"
      },
      "execution_count": null,
      "outputs": [
        {
          "output_type": "execute_result",
          "data": {
            "text/plain": [
              "Index(['행정동_코드', '당월_매출_금액', '업종구분_기타', '업종구분_미용', '업종구분_쇼핑', '업종구분_오락',\n",
              "       '업종구분_음식점', '업종구분_제과_카페', '업종구분_호프', '총_유동인구_수', '20_30유동인구 비율',\n",
              "       '2030매출비율_기타', '2030매출비율_미용', '2030매출비율_쇼핑', '2030매출비율_오락',\n",
              "       '2030매출비율_음식점', '2030매출비율_제과_카페', '2030매출비율_호프'],\n",
              "      dtype='object')"
            ]
          },
          "metadata": {},
          "execution_count": 13
        }
      ]
    },
    {
      "cell_type": "code",
      "source": [
        "df = pd.get_dummies(\n",
        "    df1,\n",
        "    columns=df1.dtypes[df1.dtypes == 'object'].index,\n",
        "    drop_first=True)"
      ],
      "metadata": {
        "id": "m-JJyG4c23Rr"
      },
      "execution_count": null,
      "outputs": []
    },
    {
      "cell_type": "code",
      "source": [
        "scaler = MinMaxScaler()\n",
        "scaler.fit(df)\n",
        "scaled = pd.DataFrame(scaler.transform(df), columns=df.columns)"
      ],
      "metadata": {
        "id": "xBGlr8wq3l-m"
      },
      "execution_count": null,
      "outputs": []
    },
    {
      "cell_type": "markdown",
      "source": [
        "### Correlation"
      ],
      "metadata": {
        "id": "UjC_rqV48OX7"
      }
    },
    {
      "cell_type": "code",
      "source": [
        "import seaborn as sns\n",
        "import matplotlib.pyplot as plt\n",
        "\n",
        "corr = scaled.corr()\n",
        "\n",
        "sns.heatmap(corr, cmap='RdBu')"
      ],
      "metadata": {
        "colab": {
          "base_uri": "https://localhost:8080/",
          "height": 1000
        },
        "id": "_u7YIdY9yd7t",
        "outputId": "17f7bbb2-3116-4fb5-e052-7ce9f2c4bbb6"
      },
      "execution_count": null,
      "outputs": [
        {
          "output_type": "stream",
          "name": "stderr",
          "text": [
            "/usr/local/lib/python3.10/dist-packages/seaborn/utils.py:80: UserWarning: Glyph 54665 (\\N{HANGUL SYLLABLE HAENG}) missing from current font.\n",
            "  fig.canvas.draw()\n",
            "/usr/local/lib/python3.10/dist-packages/seaborn/utils.py:80: UserWarning: Glyph 51221 (\\N{HANGUL SYLLABLE JEONG}) missing from current font.\n",
            "  fig.canvas.draw()\n",
            "/usr/local/lib/python3.10/dist-packages/seaborn/utils.py:80: UserWarning: Glyph 46041 (\\N{HANGUL SYLLABLE DONG}) missing from current font.\n",
            "  fig.canvas.draw()\n",
            "/usr/local/lib/python3.10/dist-packages/seaborn/utils.py:80: UserWarning: Glyph 53076 (\\N{HANGUL SYLLABLE KO}) missing from current font.\n",
            "  fig.canvas.draw()\n",
            "/usr/local/lib/python3.10/dist-packages/seaborn/utils.py:80: UserWarning: Glyph 46300 (\\N{HANGUL SYLLABLE DEU}) missing from current font.\n",
            "  fig.canvas.draw()\n",
            "/usr/local/lib/python3.10/dist-packages/seaborn/utils.py:80: UserWarning: Glyph 45817 (\\N{HANGUL SYLLABLE DANG}) missing from current font.\n",
            "  fig.canvas.draw()\n",
            "/usr/local/lib/python3.10/dist-packages/seaborn/utils.py:80: UserWarning: Glyph 50900 (\\N{HANGUL SYLLABLE WEOL}) missing from current font.\n",
            "  fig.canvas.draw()\n",
            "/usr/local/lib/python3.10/dist-packages/seaborn/utils.py:80: UserWarning: Glyph 47588 (\\N{HANGUL SYLLABLE MAE}) missing from current font.\n",
            "  fig.canvas.draw()\n",
            "/usr/local/lib/python3.10/dist-packages/seaborn/utils.py:80: UserWarning: Glyph 52636 (\\N{HANGUL SYLLABLE CUL}) missing from current font.\n",
            "  fig.canvas.draw()\n",
            "/usr/local/lib/python3.10/dist-packages/seaborn/utils.py:80: UserWarning: Glyph 44552 (\\N{HANGUL SYLLABLE GEUM}) missing from current font.\n",
            "  fig.canvas.draw()\n",
            "/usr/local/lib/python3.10/dist-packages/seaborn/utils.py:80: UserWarning: Glyph 50529 (\\N{HANGUL SYLLABLE AEG}) missing from current font.\n",
            "  fig.canvas.draw()\n",
            "/usr/local/lib/python3.10/dist-packages/seaborn/utils.py:80: UserWarning: Glyph 50629 (\\N{HANGUL SYLLABLE EOB}) missing from current font.\n",
            "  fig.canvas.draw()\n",
            "/usr/local/lib/python3.10/dist-packages/seaborn/utils.py:80: UserWarning: Glyph 51333 (\\N{HANGUL SYLLABLE JONG}) missing from current font.\n",
            "  fig.canvas.draw()\n",
            "/usr/local/lib/python3.10/dist-packages/seaborn/utils.py:80: UserWarning: Glyph 44396 (\\N{HANGUL SYLLABLE GU}) missing from current font.\n",
            "  fig.canvas.draw()\n",
            "/usr/local/lib/python3.10/dist-packages/seaborn/utils.py:80: UserWarning: Glyph 48516 (\\N{HANGUL SYLLABLE BUN}) missing from current font.\n",
            "  fig.canvas.draw()\n",
            "/usr/local/lib/python3.10/dist-packages/seaborn/utils.py:80: UserWarning: Glyph 44592 (\\N{HANGUL SYLLABLE GI}) missing from current font.\n",
            "  fig.canvas.draw()\n",
            "/usr/local/lib/python3.10/dist-packages/seaborn/utils.py:80: UserWarning: Glyph 53440 (\\N{HANGUL SYLLABLE TA}) missing from current font.\n",
            "  fig.canvas.draw()\n",
            "/usr/local/lib/python3.10/dist-packages/seaborn/utils.py:80: UserWarning: Glyph 48120 (\\N{HANGUL SYLLABLE MI}) missing from current font.\n",
            "  fig.canvas.draw()\n",
            "/usr/local/lib/python3.10/dist-packages/seaborn/utils.py:80: UserWarning: Glyph 50857 (\\N{HANGUL SYLLABLE YONG}) missing from current font.\n",
            "  fig.canvas.draw()\n",
            "/usr/local/lib/python3.10/dist-packages/seaborn/utils.py:80: UserWarning: Glyph 49660 (\\N{HANGUL SYLLABLE SYO}) missing from current font.\n",
            "  fig.canvas.draw()\n",
            "/usr/local/lib/python3.10/dist-packages/seaborn/utils.py:80: UserWarning: Glyph 54609 (\\N{HANGUL SYLLABLE PING}) missing from current font.\n",
            "  fig.canvas.draw()\n",
            "/usr/local/lib/python3.10/dist-packages/seaborn/utils.py:80: UserWarning: Glyph 50724 (\\N{HANGUL SYLLABLE O}) missing from current font.\n",
            "  fig.canvas.draw()\n",
            "/usr/local/lib/python3.10/dist-packages/seaborn/utils.py:80: UserWarning: Glyph 46973 (\\N{HANGUL SYLLABLE RAG}) missing from current font.\n",
            "  fig.canvas.draw()\n",
            "/usr/local/lib/python3.10/dist-packages/seaborn/utils.py:80: UserWarning: Glyph 51020 (\\N{HANGUL SYLLABLE EUM}) missing from current font.\n",
            "  fig.canvas.draw()\n",
            "/usr/local/lib/python3.10/dist-packages/seaborn/utils.py:80: UserWarning: Glyph 49885 (\\N{HANGUL SYLLABLE SIG}) missing from current font.\n",
            "  fig.canvas.draw()\n",
            "/usr/local/lib/python3.10/dist-packages/seaborn/utils.py:80: UserWarning: Glyph 51216 (\\N{HANGUL SYLLABLE JEOM}) missing from current font.\n",
            "  fig.canvas.draw()\n",
            "/usr/local/lib/python3.10/dist-packages/seaborn/utils.py:80: UserWarning: Glyph 51228 (\\N{HANGUL SYLLABLE JE}) missing from current font.\n",
            "  fig.canvas.draw()\n",
            "/usr/local/lib/python3.10/dist-packages/seaborn/utils.py:80: UserWarning: Glyph 44284 (\\N{HANGUL SYLLABLE GWA}) missing from current font.\n",
            "  fig.canvas.draw()\n",
            "/usr/local/lib/python3.10/dist-packages/seaborn/utils.py:80: UserWarning: Glyph 52852 (\\N{HANGUL SYLLABLE KA}) missing from current font.\n",
            "  fig.canvas.draw()\n",
            "/usr/local/lib/python3.10/dist-packages/seaborn/utils.py:80: UserWarning: Glyph 54168 (\\N{HANGUL SYLLABLE PE}) missing from current font.\n",
            "  fig.canvas.draw()\n",
            "/usr/local/lib/python3.10/dist-packages/seaborn/utils.py:80: UserWarning: Glyph 54840 (\\N{HANGUL SYLLABLE HO}) missing from current font.\n",
            "  fig.canvas.draw()\n",
            "/usr/local/lib/python3.10/dist-packages/seaborn/utils.py:80: UserWarning: Glyph 54532 (\\N{HANGUL SYLLABLE PEU}) missing from current font.\n",
            "  fig.canvas.draw()\n",
            "/usr/local/lib/python3.10/dist-packages/seaborn/utils.py:80: UserWarning: Glyph 52509 (\\N{HANGUL SYLLABLE CONG}) missing from current font.\n",
            "  fig.canvas.draw()\n",
            "/usr/local/lib/python3.10/dist-packages/seaborn/utils.py:80: UserWarning: Glyph 50976 (\\N{HANGUL SYLLABLE YU}) missing from current font.\n",
            "  fig.canvas.draw()\n",
            "/usr/local/lib/python3.10/dist-packages/seaborn/utils.py:80: UserWarning: Glyph 51064 (\\N{HANGUL SYLLABLE IN}) missing from current font.\n",
            "  fig.canvas.draw()\n",
            "/usr/local/lib/python3.10/dist-packages/seaborn/utils.py:80: UserWarning: Glyph 49688 (\\N{HANGUL SYLLABLE SU}) missing from current font.\n",
            "  fig.canvas.draw()\n",
            "/usr/local/lib/python3.10/dist-packages/seaborn/utils.py:80: UserWarning: Glyph 48708 (\\N{HANGUL SYLLABLE BI}) missing from current font.\n",
            "  fig.canvas.draw()\n",
            "/usr/local/lib/python3.10/dist-packages/seaborn/utils.py:80: UserWarning: Glyph 50984 (\\N{HANGUL SYLLABLE YUL}) missing from current font.\n",
            "  fig.canvas.draw()\n"
          ]
        },
        {
          "output_type": "execute_result",
          "data": {
            "text/plain": [
              "<Axes: >"
            ]
          },
          "metadata": {},
          "execution_count": 16
        },
        {
          "output_type": "stream",
          "name": "stderr",
          "text": [
            "/usr/local/lib/python3.10/dist-packages/IPython/core/events.py:89: UserWarning: Glyph 54665 (\\N{HANGUL SYLLABLE HAENG}) missing from current font.\n",
            "  func(*args, **kwargs)\n",
            "/usr/local/lib/python3.10/dist-packages/IPython/core/events.py:89: UserWarning: Glyph 51221 (\\N{HANGUL SYLLABLE JEONG}) missing from current font.\n",
            "  func(*args, **kwargs)\n",
            "/usr/local/lib/python3.10/dist-packages/IPython/core/events.py:89: UserWarning: Glyph 46041 (\\N{HANGUL SYLLABLE DONG}) missing from current font.\n",
            "  func(*args, **kwargs)\n",
            "/usr/local/lib/python3.10/dist-packages/IPython/core/events.py:89: UserWarning: Glyph 53076 (\\N{HANGUL SYLLABLE KO}) missing from current font.\n",
            "  func(*args, **kwargs)\n",
            "/usr/local/lib/python3.10/dist-packages/IPython/core/events.py:89: UserWarning: Glyph 46300 (\\N{HANGUL SYLLABLE DEU}) missing from current font.\n",
            "  func(*args, **kwargs)\n",
            "/usr/local/lib/python3.10/dist-packages/IPython/core/events.py:89: UserWarning: Glyph 45817 (\\N{HANGUL SYLLABLE DANG}) missing from current font.\n",
            "  func(*args, **kwargs)\n",
            "/usr/local/lib/python3.10/dist-packages/IPython/core/events.py:89: UserWarning: Glyph 50900 (\\N{HANGUL SYLLABLE WEOL}) missing from current font.\n",
            "  func(*args, **kwargs)\n",
            "/usr/local/lib/python3.10/dist-packages/IPython/core/events.py:89: UserWarning: Glyph 47588 (\\N{HANGUL SYLLABLE MAE}) missing from current font.\n",
            "  func(*args, **kwargs)\n",
            "/usr/local/lib/python3.10/dist-packages/IPython/core/events.py:89: UserWarning: Glyph 52636 (\\N{HANGUL SYLLABLE CUL}) missing from current font.\n",
            "  func(*args, **kwargs)\n",
            "/usr/local/lib/python3.10/dist-packages/IPython/core/events.py:89: UserWarning: Glyph 44552 (\\N{HANGUL SYLLABLE GEUM}) missing from current font.\n",
            "  func(*args, **kwargs)\n",
            "/usr/local/lib/python3.10/dist-packages/IPython/core/events.py:89: UserWarning: Glyph 50529 (\\N{HANGUL SYLLABLE AEG}) missing from current font.\n",
            "  func(*args, **kwargs)\n",
            "/usr/local/lib/python3.10/dist-packages/IPython/core/events.py:89: UserWarning: Glyph 50629 (\\N{HANGUL SYLLABLE EOB}) missing from current font.\n",
            "  func(*args, **kwargs)\n",
            "/usr/local/lib/python3.10/dist-packages/IPython/core/events.py:89: UserWarning: Glyph 51333 (\\N{HANGUL SYLLABLE JONG}) missing from current font.\n",
            "  func(*args, **kwargs)\n",
            "/usr/local/lib/python3.10/dist-packages/IPython/core/events.py:89: UserWarning: Glyph 44396 (\\N{HANGUL SYLLABLE GU}) missing from current font.\n",
            "  func(*args, **kwargs)\n",
            "/usr/local/lib/python3.10/dist-packages/IPython/core/events.py:89: UserWarning: Glyph 48516 (\\N{HANGUL SYLLABLE BUN}) missing from current font.\n",
            "  func(*args, **kwargs)\n",
            "/usr/local/lib/python3.10/dist-packages/IPython/core/events.py:89: UserWarning: Glyph 44592 (\\N{HANGUL SYLLABLE GI}) missing from current font.\n",
            "  func(*args, **kwargs)\n",
            "/usr/local/lib/python3.10/dist-packages/IPython/core/events.py:89: UserWarning: Glyph 53440 (\\N{HANGUL SYLLABLE TA}) missing from current font.\n",
            "  func(*args, **kwargs)\n",
            "/usr/local/lib/python3.10/dist-packages/IPython/core/events.py:89: UserWarning: Glyph 48120 (\\N{HANGUL SYLLABLE MI}) missing from current font.\n",
            "  func(*args, **kwargs)\n",
            "/usr/local/lib/python3.10/dist-packages/IPython/core/events.py:89: UserWarning: Glyph 50857 (\\N{HANGUL SYLLABLE YONG}) missing from current font.\n",
            "  func(*args, **kwargs)\n",
            "/usr/local/lib/python3.10/dist-packages/IPython/core/events.py:89: UserWarning: Glyph 49660 (\\N{HANGUL SYLLABLE SYO}) missing from current font.\n",
            "  func(*args, **kwargs)\n",
            "/usr/local/lib/python3.10/dist-packages/IPython/core/events.py:89: UserWarning: Glyph 54609 (\\N{HANGUL SYLLABLE PING}) missing from current font.\n",
            "  func(*args, **kwargs)\n",
            "/usr/local/lib/python3.10/dist-packages/IPython/core/events.py:89: UserWarning: Glyph 50724 (\\N{HANGUL SYLLABLE O}) missing from current font.\n",
            "  func(*args, **kwargs)\n",
            "/usr/local/lib/python3.10/dist-packages/IPython/core/events.py:89: UserWarning: Glyph 46973 (\\N{HANGUL SYLLABLE RAG}) missing from current font.\n",
            "  func(*args, **kwargs)\n",
            "/usr/local/lib/python3.10/dist-packages/IPython/core/events.py:89: UserWarning: Glyph 51020 (\\N{HANGUL SYLLABLE EUM}) missing from current font.\n",
            "  func(*args, **kwargs)\n",
            "/usr/local/lib/python3.10/dist-packages/IPython/core/events.py:89: UserWarning: Glyph 49885 (\\N{HANGUL SYLLABLE SIG}) missing from current font.\n",
            "  func(*args, **kwargs)\n",
            "/usr/local/lib/python3.10/dist-packages/IPython/core/events.py:89: UserWarning: Glyph 51216 (\\N{HANGUL SYLLABLE JEOM}) missing from current font.\n",
            "  func(*args, **kwargs)\n",
            "/usr/local/lib/python3.10/dist-packages/IPython/core/events.py:89: UserWarning: Glyph 51228 (\\N{HANGUL SYLLABLE JE}) missing from current font.\n",
            "  func(*args, **kwargs)\n",
            "/usr/local/lib/python3.10/dist-packages/IPython/core/events.py:89: UserWarning: Glyph 44284 (\\N{HANGUL SYLLABLE GWA}) missing from current font.\n",
            "  func(*args, **kwargs)\n",
            "/usr/local/lib/python3.10/dist-packages/IPython/core/events.py:89: UserWarning: Glyph 52852 (\\N{HANGUL SYLLABLE KA}) missing from current font.\n",
            "  func(*args, **kwargs)\n",
            "/usr/local/lib/python3.10/dist-packages/IPython/core/events.py:89: UserWarning: Glyph 54168 (\\N{HANGUL SYLLABLE PE}) missing from current font.\n",
            "  func(*args, **kwargs)\n",
            "/usr/local/lib/python3.10/dist-packages/IPython/core/events.py:89: UserWarning: Glyph 54840 (\\N{HANGUL SYLLABLE HO}) missing from current font.\n",
            "  func(*args, **kwargs)\n",
            "/usr/local/lib/python3.10/dist-packages/IPython/core/events.py:89: UserWarning: Glyph 54532 (\\N{HANGUL SYLLABLE PEU}) missing from current font.\n",
            "  func(*args, **kwargs)\n",
            "/usr/local/lib/python3.10/dist-packages/IPython/core/events.py:89: UserWarning: Glyph 52509 (\\N{HANGUL SYLLABLE CONG}) missing from current font.\n",
            "  func(*args, **kwargs)\n",
            "/usr/local/lib/python3.10/dist-packages/IPython/core/events.py:89: UserWarning: Glyph 50976 (\\N{HANGUL SYLLABLE YU}) missing from current font.\n",
            "  func(*args, **kwargs)\n",
            "/usr/local/lib/python3.10/dist-packages/IPython/core/events.py:89: UserWarning: Glyph 51064 (\\N{HANGUL SYLLABLE IN}) missing from current font.\n",
            "  func(*args, **kwargs)\n",
            "/usr/local/lib/python3.10/dist-packages/IPython/core/events.py:89: UserWarning: Glyph 49688 (\\N{HANGUL SYLLABLE SU}) missing from current font.\n",
            "  func(*args, **kwargs)\n",
            "/usr/local/lib/python3.10/dist-packages/IPython/core/events.py:89: UserWarning: Glyph 48708 (\\N{HANGUL SYLLABLE BI}) missing from current font.\n",
            "  func(*args, **kwargs)\n",
            "/usr/local/lib/python3.10/dist-packages/IPython/core/events.py:89: UserWarning: Glyph 50984 (\\N{HANGUL SYLLABLE YUL}) missing from current font.\n",
            "  func(*args, **kwargs)\n",
            "/usr/local/lib/python3.10/dist-packages/IPython/core/pylabtools.py:151: UserWarning: Glyph 54665 (\\N{HANGUL SYLLABLE HAENG}) missing from current font.\n",
            "  fig.canvas.print_figure(bytes_io, **kw)\n",
            "/usr/local/lib/python3.10/dist-packages/IPython/core/pylabtools.py:151: UserWarning: Glyph 51221 (\\N{HANGUL SYLLABLE JEONG}) missing from current font.\n",
            "  fig.canvas.print_figure(bytes_io, **kw)\n",
            "/usr/local/lib/python3.10/dist-packages/IPython/core/pylabtools.py:151: UserWarning: Glyph 46041 (\\N{HANGUL SYLLABLE DONG}) missing from current font.\n",
            "  fig.canvas.print_figure(bytes_io, **kw)\n",
            "/usr/local/lib/python3.10/dist-packages/IPython/core/pylabtools.py:151: UserWarning: Glyph 53076 (\\N{HANGUL SYLLABLE KO}) missing from current font.\n",
            "  fig.canvas.print_figure(bytes_io, **kw)\n",
            "/usr/local/lib/python3.10/dist-packages/IPython/core/pylabtools.py:151: UserWarning: Glyph 46300 (\\N{HANGUL SYLLABLE DEU}) missing from current font.\n",
            "  fig.canvas.print_figure(bytes_io, **kw)\n",
            "/usr/local/lib/python3.10/dist-packages/IPython/core/pylabtools.py:151: UserWarning: Glyph 45817 (\\N{HANGUL SYLLABLE DANG}) missing from current font.\n",
            "  fig.canvas.print_figure(bytes_io, **kw)\n",
            "/usr/local/lib/python3.10/dist-packages/IPython/core/pylabtools.py:151: UserWarning: Glyph 50900 (\\N{HANGUL SYLLABLE WEOL}) missing from current font.\n",
            "  fig.canvas.print_figure(bytes_io, **kw)\n",
            "/usr/local/lib/python3.10/dist-packages/IPython/core/pylabtools.py:151: UserWarning: Glyph 47588 (\\N{HANGUL SYLLABLE MAE}) missing from current font.\n",
            "  fig.canvas.print_figure(bytes_io, **kw)\n",
            "/usr/local/lib/python3.10/dist-packages/IPython/core/pylabtools.py:151: UserWarning: Glyph 52636 (\\N{HANGUL SYLLABLE CUL}) missing from current font.\n",
            "  fig.canvas.print_figure(bytes_io, **kw)\n",
            "/usr/local/lib/python3.10/dist-packages/IPython/core/pylabtools.py:151: UserWarning: Glyph 44552 (\\N{HANGUL SYLLABLE GEUM}) missing from current font.\n",
            "  fig.canvas.print_figure(bytes_io, **kw)\n",
            "/usr/local/lib/python3.10/dist-packages/IPython/core/pylabtools.py:151: UserWarning: Glyph 50529 (\\N{HANGUL SYLLABLE AEG}) missing from current font.\n",
            "  fig.canvas.print_figure(bytes_io, **kw)\n",
            "/usr/local/lib/python3.10/dist-packages/IPython/core/pylabtools.py:151: UserWarning: Glyph 50629 (\\N{HANGUL SYLLABLE EOB}) missing from current font.\n",
            "  fig.canvas.print_figure(bytes_io, **kw)\n",
            "/usr/local/lib/python3.10/dist-packages/IPython/core/pylabtools.py:151: UserWarning: Glyph 51333 (\\N{HANGUL SYLLABLE JONG}) missing from current font.\n",
            "  fig.canvas.print_figure(bytes_io, **kw)\n",
            "/usr/local/lib/python3.10/dist-packages/IPython/core/pylabtools.py:151: UserWarning: Glyph 44396 (\\N{HANGUL SYLLABLE GU}) missing from current font.\n",
            "  fig.canvas.print_figure(bytes_io, **kw)\n",
            "/usr/local/lib/python3.10/dist-packages/IPython/core/pylabtools.py:151: UserWarning: Glyph 48516 (\\N{HANGUL SYLLABLE BUN}) missing from current font.\n",
            "  fig.canvas.print_figure(bytes_io, **kw)\n",
            "/usr/local/lib/python3.10/dist-packages/IPython/core/pylabtools.py:151: UserWarning: Glyph 44592 (\\N{HANGUL SYLLABLE GI}) missing from current font.\n",
            "  fig.canvas.print_figure(bytes_io, **kw)\n",
            "/usr/local/lib/python3.10/dist-packages/IPython/core/pylabtools.py:151: UserWarning: Glyph 53440 (\\N{HANGUL SYLLABLE TA}) missing from current font.\n",
            "  fig.canvas.print_figure(bytes_io, **kw)\n",
            "/usr/local/lib/python3.10/dist-packages/IPython/core/pylabtools.py:151: UserWarning: Glyph 48120 (\\N{HANGUL SYLLABLE MI}) missing from current font.\n",
            "  fig.canvas.print_figure(bytes_io, **kw)\n",
            "/usr/local/lib/python3.10/dist-packages/IPython/core/pylabtools.py:151: UserWarning: Glyph 50857 (\\N{HANGUL SYLLABLE YONG}) missing from current font.\n",
            "  fig.canvas.print_figure(bytes_io, **kw)\n",
            "/usr/local/lib/python3.10/dist-packages/IPython/core/pylabtools.py:151: UserWarning: Glyph 49660 (\\N{HANGUL SYLLABLE SYO}) missing from current font.\n",
            "  fig.canvas.print_figure(bytes_io, **kw)\n",
            "/usr/local/lib/python3.10/dist-packages/IPython/core/pylabtools.py:151: UserWarning: Glyph 54609 (\\N{HANGUL SYLLABLE PING}) missing from current font.\n",
            "  fig.canvas.print_figure(bytes_io, **kw)\n",
            "/usr/local/lib/python3.10/dist-packages/IPython/core/pylabtools.py:151: UserWarning: Glyph 50724 (\\N{HANGUL SYLLABLE O}) missing from current font.\n",
            "  fig.canvas.print_figure(bytes_io, **kw)\n",
            "/usr/local/lib/python3.10/dist-packages/IPython/core/pylabtools.py:151: UserWarning: Glyph 46973 (\\N{HANGUL SYLLABLE RAG}) missing from current font.\n",
            "  fig.canvas.print_figure(bytes_io, **kw)\n",
            "/usr/local/lib/python3.10/dist-packages/IPython/core/pylabtools.py:151: UserWarning: Glyph 51020 (\\N{HANGUL SYLLABLE EUM}) missing from current font.\n",
            "  fig.canvas.print_figure(bytes_io, **kw)\n",
            "/usr/local/lib/python3.10/dist-packages/IPython/core/pylabtools.py:151: UserWarning: Glyph 49885 (\\N{HANGUL SYLLABLE SIG}) missing from current font.\n",
            "  fig.canvas.print_figure(bytes_io, **kw)\n",
            "/usr/local/lib/python3.10/dist-packages/IPython/core/pylabtools.py:151: UserWarning: Glyph 51216 (\\N{HANGUL SYLLABLE JEOM}) missing from current font.\n",
            "  fig.canvas.print_figure(bytes_io, **kw)\n",
            "/usr/local/lib/python3.10/dist-packages/IPython/core/pylabtools.py:151: UserWarning: Glyph 51228 (\\N{HANGUL SYLLABLE JE}) missing from current font.\n",
            "  fig.canvas.print_figure(bytes_io, **kw)\n",
            "/usr/local/lib/python3.10/dist-packages/IPython/core/pylabtools.py:151: UserWarning: Glyph 44284 (\\N{HANGUL SYLLABLE GWA}) missing from current font.\n",
            "  fig.canvas.print_figure(bytes_io, **kw)\n",
            "/usr/local/lib/python3.10/dist-packages/IPython/core/pylabtools.py:151: UserWarning: Glyph 52852 (\\N{HANGUL SYLLABLE KA}) missing from current font.\n",
            "  fig.canvas.print_figure(bytes_io, **kw)\n",
            "/usr/local/lib/python3.10/dist-packages/IPython/core/pylabtools.py:151: UserWarning: Glyph 54168 (\\N{HANGUL SYLLABLE PE}) missing from current font.\n",
            "  fig.canvas.print_figure(bytes_io, **kw)\n",
            "/usr/local/lib/python3.10/dist-packages/IPython/core/pylabtools.py:151: UserWarning: Glyph 54840 (\\N{HANGUL SYLLABLE HO}) missing from current font.\n",
            "  fig.canvas.print_figure(bytes_io, **kw)\n",
            "/usr/local/lib/python3.10/dist-packages/IPython/core/pylabtools.py:151: UserWarning: Glyph 54532 (\\N{HANGUL SYLLABLE PEU}) missing from current font.\n",
            "  fig.canvas.print_figure(bytes_io, **kw)\n",
            "/usr/local/lib/python3.10/dist-packages/IPython/core/pylabtools.py:151: UserWarning: Glyph 52509 (\\N{HANGUL SYLLABLE CONG}) missing from current font.\n",
            "  fig.canvas.print_figure(bytes_io, **kw)\n",
            "/usr/local/lib/python3.10/dist-packages/IPython/core/pylabtools.py:151: UserWarning: Glyph 50976 (\\N{HANGUL SYLLABLE YU}) missing from current font.\n",
            "  fig.canvas.print_figure(bytes_io, **kw)\n",
            "/usr/local/lib/python3.10/dist-packages/IPython/core/pylabtools.py:151: UserWarning: Glyph 51064 (\\N{HANGUL SYLLABLE IN}) missing from current font.\n",
            "  fig.canvas.print_figure(bytes_io, **kw)\n",
            "/usr/local/lib/python3.10/dist-packages/IPython/core/pylabtools.py:151: UserWarning: Glyph 49688 (\\N{HANGUL SYLLABLE SU}) missing from current font.\n",
            "  fig.canvas.print_figure(bytes_io, **kw)\n",
            "/usr/local/lib/python3.10/dist-packages/IPython/core/pylabtools.py:151: UserWarning: Glyph 48708 (\\N{HANGUL SYLLABLE BI}) missing from current font.\n",
            "  fig.canvas.print_figure(bytes_io, **kw)\n",
            "/usr/local/lib/python3.10/dist-packages/IPython/core/pylabtools.py:151: UserWarning: Glyph 50984 (\\N{HANGUL SYLLABLE YUL}) missing from current font.\n",
            "  fig.canvas.print_figure(bytes_io, **kw)\n"
          ]
        },
        {
          "output_type": "display_data",
          "data": {
            "text/plain": [
              "<Figure size 640x480 with 2 Axes>"
            ],
            "image/png": "[encoded data removed]"
          },
          "metadata": {}
        }
      ]
    },
    {
      "cell_type": "code",
      "source": [
        "corr.당월_매출_금액.sort_values(ascending=False)[1:]"
      ],
      "metadata": {
        "colab": {
          "base_uri": "https://localhost:8080/"
        },
        "id": "NQfUrzeu3VSl",
        "outputId": "8210ea16-be37-4d01-db04-2887e69d19b4"
      },
      "execution_count": null,
      "outputs": [
        {
          "output_type": "execute_result",
          "data": {
            "text/plain": [
              "업종구분_쇼핑           0.864812\n",
              "업종구분_음식점          0.811893\n",
              "업종구분_제과_카페        0.797980\n",
              "업종구분_기타           0.751781\n",
              "업종구분_호프           0.632329\n",
              "업종구분_오락           0.594777\n",
              "업종구분_미용           0.563781\n",
              "총_유동인구_수          0.415990\n",
              "20_30유동인구 비율      0.388929\n",
              "2030매출비율_쇼핑       0.324552\n",
              "2030매출비율_미용       0.296698\n",
              "2030매출비율_음식점      0.238793\n",
              "2030매출비율_호프       0.230364\n",
              "2030매출비율_오락       0.225609\n",
              "2030매출비율_기타       0.214197\n",
              "2030매출비율_제과_카페    0.161093\n",
              "행정동_코드            0.139641\n",
              "Name: 당월_매출_금액, dtype: float64"
            ]
          },
          "metadata": {},
          "execution_count": 17
        }
      ]
    },
    {
      "cell_type": "code",
      "source": [
        "abs_attrition_corr = corr.Attrition.apply(abs).sort_values(ascending=False)[1:]\n",
        "abs_attrition_corr.head(10)"
      ],
      "metadata": {
        "colab": {
          "base_uri": "https://localhost:8080/"
        },
        "id": "9Dov22gI_9LJ",
        "outputId": "1be8051f-b56f-46f8-980f-f88335c8a92d"
      },
      "execution_count": null,
      "outputs": [
        {
          "output_type": "execute_result",
          "data": {
            "text/plain": [
              "OverTime_Yes                    0.246118\n",
              "MaritalStatus_Single            0.175419\n",
              "TotalWorkingYears               0.171063\n",
              "JobLevel                        0.169105\n",
              "YearsInCurrentRole              0.160545\n",
              "MonthlyIncome                   0.159840\n",
              "Age                             0.159205\n",
              "JobRole_Sales Representative    0.157234\n",
              "YearsWithCurrManager            0.156199\n",
              "StockOptionLevel                0.137145\n",
              "Name: Attrition, dtype: float64"
            ]
          },
          "metadata": {},
          "execution_count": 81
        }
      ]
    },
    {
      "cell_type": "code",
      "source": [
        "abs_attrition_corr_top10 = abs_attrition_corr.head(10)\n",
        "plt.bar(abs_attrition_corr_top10.index,\n",
        "        abs_attrition_corr_top10.values)\n",
        "plt.xlabel('Features')\n",
        "plt.ylabel('Correlation')\n",
        "plt.title('Correlation between features and attrition')\n",
        "plt.xticks(rotation=45)\n",
        "plt.show()"
      ],
      "metadata": {
        "colab": {
          "base_uri": "https://localhost:8080/",
          "height": 612
        },
        "id": "5VAdAuiJ0FfP",
        "outputId": "66ad6efb-20b2-45e1-8841-adad3ea89d71"
      },
      "execution_count": null,
      "outputs": [
        {
          "output_type": "display_data",
          "data": {
            "text/plain": [
              "<Figure size 640x480 with 1 Axes>"
            ],
            "image/png": "[encoded data removed]"
          },
          "metadata": {}
        }
      ]
    },
    {
      "cell_type": "code",
      "source": [
        "sns.barplot(x=abs_attrition_corr_top10.index,\n",
        "            y=abs_attrition_corr_top10.values)\n",
        "plt.xlabel('Features')\n",
        "plt.ylabel('Correlation')\n",
        "plt.title('Correlation between features and attrition')\n",
        "plt.xticks(rotation=45)\n",
        "plt.show()"
      ],
      "metadata": {
        "colab": {
          "base_uri": "https://localhost:8080/",
          "height": 612
        },
        "id": "8dT2Npap06nv",
        "outputId": "a6b1d838-0fd0-49be-af8c-731b865244c7"
      },
      "execution_count": null,
      "outputs": [
        {
          "output_type": "display_data",
          "data": {
            "text/plain": [
              "<Figure size 640x480 with 1 Axes>"
            ],
            "image/png": "[encoded data removed]"
          },
          "metadata": {}
        }
      ]
    },
    {
      "cell_type": "code",
      "source": [
        "import plotly.express as px\n",
        "\n",
        "fig = px.bar(abs_attrition_corr_top10,\n",
        "             x=abs_attrition_corr_top10.index,\n",
        "             y=abs_attrition_corr_top10.values)\n",
        "fig.show()"
      ],
      "metadata": {
        "colab": {
          "base_uri": "https://localhost:8080/",
          "height": 542
        },
        "id": "eMc_TX4p0GO9",
        "outputId": "87c89aff-3df7-40c5-94a7-66927c5576dd"
      },
      "execution_count": null,
      "outputs": [
        {
          "output_type": "display_data",
          "data": {
            "text/html": [
              "<html>\n",
              "<head><meta charset=\"utf-8\" /></head>\n",
              "<body>\n",
              "    <div>            <script src=\"https://cdnjs.cloudflare.com/ajax/libs/mathjax/2.7.5/MathJax.js?config=TeX-AMS-MML_SVG\"></script><script type=\"text/javascript\">if (window.MathJax && window.MathJax.Hub && window.MathJax.Hub.Config) {window.MathJax.Hub.Config({SVG: {font: \"STIX-Web\"}});}</script>                <script type=\"text/javascript\">window.PlotlyConfig = {MathJaxConfig: 'local'};</script>\n",
              "        <script charset=\"utf-8\" src=\"https://cdn.plot.ly/plotly-2.24.1.min.js\"></script>                <div id=\"e930b656-650e-45f9-8904-b40a6b480e99\" class=\"plotly-graph-div\" style=\"height:525px; width:100%;\"></div>            <script type=\"text/javascript\">                                    window.PLOTLYENV=window.PLOTLYENV || {};                                    if (document.getElementById(\"e930b656-650e-45f9-8904-b40a6b480e99\")) {                    Plotly.newPlot(                        \"e930b656-650e-45f9-8904-b40a6b480e99\",                        [{\"alignmentgroup\":\"True\",\"hovertemplate\":\"index=%{x}\\u003cbr\\u003ey=%{y}\\u003cextra\\u003e\\u003c\\u002fextra\\u003e\",\"legendgroup\":\"\",\"marker\":{\"color\":\"#636efa\",\"pattern\":{\"shape\":\"\"}},\"name\":\"\",\"offsetgroup\":\"\",\"orientation\":\"v\",\"showlegend\":false,\"textposition\":\"auto\",\"x\":[\"OverTime_Yes\",\"MaritalStatus_Single\",\"TotalWorkingYears\",\"JobLevel\",\"YearsInCurrentRole\",\"MonthlyIncome\",\"Age\",\"JobRole_Sales Representative\",\"YearsWithCurrManager\",\"StockOptionLevel\"],\"xaxis\":\"x\",\"y\":[0.24611799424580436,0.17541855360921932,0.17106324613622637,0.16910475093102753,0.16054500426770069,0.1598395823849888,0.15920500686578,0.15723427011479307,0.1561993159016286,0.1371449189333257],\"yaxis\":\"y\",\"type\":\"bar\"}],                        {\"template\":{\"data\":{\"histogram2dcontour\":[{\"type\":\"histogram2dcontour\",\"colorbar\":{\"outlinewidth\":0,\"ticks\":\"\"},\"colorscale\":[[0.0,\"#0d0887\"],[0.1111111111111111,\"#46039f\"],[0.2222222222222222,\"#7201a8\"],[0.3333333333333333,\"#9c179e\"],[0.4444444444444444,\"#bd3786\"],[0.5555555555555556,\"#d8576b\"],[0.6666666666666666,\"#ed7953\"],[0.7777777777777778,\"#fb9f3a\"],[0.8888888888888888,\"#fdca26\"],[1.0,\"#f0f921\"]]}],\"choropleth\":[{\"type\":\"choropleth\",\"colorbar\":{\"outlinewidth\":0,\"ticks\":\"\"}}],\"histogram2d\":[{\"type\":\"histogram2d\",\"colorbar\":{\"outlinewidth\":0,\"ticks\":\"\"},\"colorscale\":[[0.0,\"#0d0887\"],[0.1111111111111111,\"#46039f\"],[0.2222222222222222,\"#7201a8\"],[0.3333333333333333,\"#9c179e\"],[0.4444444444444444,\"#bd3786\"],[0.5555555555555556,\"#d8576b\"],[0.6666666666666666,\"#ed7953\"],[0.7777777777777778,\"#fb9f3a\"],[0.8888888888888888,\"#fdca26\"],[1.0,\"#f0f921\"]]}],\"heatmap\":[{\"type\":\"heatmap\",\"colorbar\":{\"outlinewidth\":0,\"ticks\":\"\"},\"colorscale\":[[0.0,\"#0d0887\"],[0.1111111111111111,\"#46039f\"],[0.2222222222222222,\"#7201a8\"],[0.3333333333333333,\"#9c179e\"],[0.4444444444444444,\"#bd3786\"],[0.5555555555555556,\"#d8576b\"],[0.6666666666666666,\"#ed7953\"],[0.7777777777777778,\"#fb9f3a\"],[0.8888888888888888,\"#fdca26\"],[1.0,\"#f0f921\"]]}],\"heatmapgl\":[{\"type\":\"heatmapgl\",\"colorbar\":{\"outlinewidth\":0,\"ticks\":\"\"},\"colorscale\":[[0.0,\"#0d0887\"],[0.1111111111111111,\"#46039f\"],[0.2222222222222222,\"#7201a8\"],[0.3333333333333333,\"#9c179e\"],[0.4444444444444444,\"#bd3786\"],[0.5555555555555556,\"#d8576b\"],[0.6666666666666666,\"#ed7953\"],[0.7777777777777778,\"#fb9f3a\"],[0.8888888888888888,\"#fdca26\"],[1.0,\"#f0f921\"]]}],\"contourcarpet\":[{\"type\":\"contourcarpet\",\"colorbar\":{\"outlinewidth\":0,\"ticks\":\"\"}}],\"contour\":[{\"type\":\"contour\",\"colorbar\":{\"outlinewidth\":0,\"ticks\":\"\"},\"colorscale\":[[0.0,\"#0d0887\"],[0.1111111111111111,\"#46039f\"],[0.2222222222222222,\"#7201a8\"],[0.3333333333333333,\"#9c179e\"],[0.4444444444444444,\"#bd3786\"],[0.5555555555555556,\"#d8576b\"],[0.6666666666666666,\"#ed7953\"],[0.7777777777777778,\"#fb9f3a\"],[0.8888888888888888,\"#fdca26\"],[1.0,\"#f0f921\"]]}],\"surface\":[{\"type\":\"surface\",\"colorbar\":{\"outlinewidth\":0,\"ticks\":\"\"},\"colorscale\":[[0.0,\"#0d0887\"],[0.1111111111111111,\"#46039f\"],[0.2222222222222222,\"#7201a8\"],[0.3333333333333333,\"#9c179e\"],[0.4444444444444444,\"#bd3786\"],[0.5555555555555556,\"#d8576b\"],[0.6666666666666666,\"#ed7953\"],[0.7777777777777778,\"#fb9f3a\"],[0.8888888888888888,\"#fdca26\"],[1.0,\"#f0f921\"]]}],\"mesh3d\":[{\"type\":\"mesh3d\",\"colorbar\":{\"outlinewidth\":0,\"ticks\":\"\"}}],\"scatter\":[{\"fillpattern\":{\"fillmode\":\"overlay\",\"size\":10,\"solidity\":0.2},\"type\":\"scatter\"}],\"parcoords\":[{\"type\":\"parcoords\",\"line\":{\"colorbar\":{\"outlinewidth\":0,\"ticks\":\"\"}}}],\"scatterpolargl\":[{\"type\":\"scatterpolargl\",\"marker\":{\"colorbar\":{\"outlinewidth\":0,\"ticks\":\"\"}}}],\"bar\":[{\"error_x\":{\"color\":\"#2a3f5f\"},\"error_y\":{\"color\":\"#2a3f5f\"},\"marker\":{\"line\":{\"color\":\"#E5ECF6\",\"width\":0.5},\"pattern\":{\"fillmode\":\"overlay\",\"size\":10,\"solidity\":0.2}},\"type\":\"bar\"}],\"scattergeo\":[{\"type\":\"scattergeo\",\"marker\":{\"colorbar\":{\"outlinewidth\":0,\"ticks\":\"\"}}}],\"scatterpolar\":[{\"type\":\"scatterpolar\",\"marker\":{\"colorbar\":{\"outlinewidth\":0,\"ticks\":\"\"}}}],\"histogram\":[{\"marker\":{\"pattern\":{\"fillmode\":\"overlay\",\"size\":10,\"solidity\":0.2}},\"type\":\"histogram\"}],\"scattergl\":[{\"type\":\"scattergl\",\"marker\":{\"colorbar\":{\"outlinewidth\":0,\"ticks\":\"\"}}}],\"scatter3d\":[{\"type\":\"scatter3d\",\"line\":{\"colorbar\":{\"outlinewidth\":0,\"ticks\":\"\"}},\"marker\":{\"colorbar\":{\"outlinewidth\":0,\"ticks\":\"\"}}}],\"scattermapbox\":[{\"type\":\"scattermapbox\",\"marker\":{\"colorbar\":{\"outlinewidth\":0,\"ticks\":\"\"}}}],\"scatterternary\":[{\"type\":\"scatterternary\",\"marker\":{\"colorbar\":{\"outlinewidth\":0,\"ticks\":\"\"}}}],\"scattercarpet\":[{\"type\":\"scattercarpet\",\"marker\":{\"colorbar\":{\"outlinewidth\":0,\"ticks\":\"\"}}}],\"carpet\":[{\"aaxis\":{\"endlinecolor\":\"#2a3f5f\",\"gridcolor\":\"white\",\"linecolor\":\"white\",\"minorgridcolor\":\"white\",\"startlinecolor\":\"#2a3f5f\"},\"baxis\":{\"endlinecolor\":\"#2a3f5f\",\"gridcolor\":\"white\",\"linecolor\":\"white\",\"minorgridcolor\":\"white\",\"startlinecolor\":\"#2a3f5f\"},\"type\":\"carpet\"}],\"table\":[{\"cells\":{\"fill\":{\"color\":\"#EBF0F8\"},\"line\":{\"color\":\"white\"}},\"header\":{\"fill\":{\"color\":\"#C8D4E3\"},\"line\":{\"color\":\"white\"}},\"type\":\"table\"}],\"barpolar\":[{\"marker\":{\"line\":{\"color\":\"#E5ECF6\",\"width\":0.5},\"pattern\":{\"fillmode\":\"overlay\",\"size\":10,\"solidity\":0.2}},\"type\":\"barpolar\"}],\"pie\":[{\"automargin\":true,\"type\":\"pie\"}]},\"layout\":{\"autotypenumbers\":\"strict\",\"colorway\":[\"#636efa\",\"#EF553B\",\"#00cc96\",\"#ab63fa\",\"#FFA15A\",\"#19d3f3\",\"#FF6692\",\"#B6E880\",\"#FF97FF\",\"#FECB52\"],\"font\":{\"color\":\"#2a3f5f\"},\"hovermode\":\"closest\",\"hoverlabel\":{\"align\":\"left\"},\"paper_bgcolor\":\"white\",\"plot_bgcolor\":\"#E5ECF6\",\"polar\":{\"bgcolor\":\"#E5ECF6\",\"angularaxis\":{\"gridcolor\":\"white\",\"linecolor\":\"white\",\"ticks\":\"\"},\"radialaxis\":{\"gridcolor\":\"white\",\"linecolor\":\"white\",\"ticks\":\"\"}},\"ternary\":{\"bgcolor\":\"#E5ECF6\",\"aaxis\":{\"gridcolor\":\"white\",\"linecolor\":\"white\",\"ticks\":\"\"},\"baxis\":{\"gridcolor\":\"white\",\"linecolor\":\"white\",\"ticks\":\"\"},\"caxis\":{\"gridcolor\":\"white\",\"linecolor\":\"white\",\"ticks\":\"\"}},\"coloraxis\":{\"colorbar\":{\"outlinewidth\":0,\"ticks\":\"\"}},\"colorscale\":{\"sequential\":[[0.0,\"#0d0887\"],[0.1111111111111111,\"#46039f\"],[0.2222222222222222,\"#7201a8\"],[0.3333333333333333,\"#9c179e\"],[0.4444444444444444,\"#bd3786\"],[0.5555555555555556,\"#d8576b\"],[0.6666666666666666,\"#ed7953\"],[0.7777777777777778,\"#fb9f3a\"],[0.8888888888888888,\"#fdca26\"],[1.0,\"#f0f921\"]],\"sequentialminus\":[[0.0,\"#0d0887\"],[0.1111111111111111,\"#46039f\"],[0.2222222222222222,\"#7201a8\"],[0.3333333333333333,\"#9c179e\"],[0.4444444444444444,\"#bd3786\"],[0.5555555555555556,\"#d8576b\"],[0.6666666666666666,\"#ed7953\"],[0.7777777777777778,\"#fb9f3a\"],[0.8888888888888888,\"#fdca26\"],[1.0,\"#f0f921\"]],\"diverging\":[[0,\"#8e0152\"],[0.1,\"#c51b7d\"],[0.2,\"#de77ae\"],[0.3,\"#f1b6da\"],[0.4,\"#fde0ef\"],[0.5,\"#f7f7f7\"],[0.6,\"#e6f5d0\"],[0.7,\"#b8e186\"],[0.8,\"#7fbc41\"],[0.9,\"#4d9221\"],[1,\"#276419\"]]},\"xaxis\":{\"gridcolor\":\"white\",\"linecolor\":\"white\",\"ticks\":\"\",\"title\":{\"standoff\":15},\"zerolinecolor\":\"white\",\"automargin\":true,\"zerolinewidth\":2},\"yaxis\":{\"gridcolor\":\"white\",\"linecolor\":\"white\",\"ticks\":\"\",\"title\":{\"standoff\":15},\"zerolinecolor\":\"white\",\"automargin\":true,\"zerolinewidth\":2},\"scene\":{\"xaxis\":{\"backgroundcolor\":\"#E5ECF6\",\"gridcolor\":\"white\",\"linecolor\":\"white\",\"showbackground\":true,\"ticks\":\"\",\"zerolinecolor\":\"white\",\"gridwidth\":2},\"yaxis\":{\"backgroundcolor\":\"#E5ECF6\",\"gridcolor\":\"white\",\"linecolor\":\"white\",\"showbackground\":true,\"ticks\":\"\",\"zerolinecolor\":\"white\",\"gridwidth\":2},\"zaxis\":{\"backgroundcolor\":\"#E5ECF6\",\"gridcolor\":\"white\",\"linecolor\":\"white\",\"showbackground\":true,\"ticks\":\"\",\"zerolinecolor\":\"white\",\"gridwidth\":2}},\"shapedefaults\":{\"line\":{\"color\":\"#2a3f5f\"}},\"annotationdefaults\":{\"arrowcolor\":\"#2a3f5f\",\"arrowhead\":0,\"arrowwidth\":1},\"geo\":{\"bgcolor\":\"white\",\"landcolor\":\"#E5ECF6\",\"subunitcolor\":\"white\",\"showland\":true,\"showlakes\":true,\"lakecolor\":\"white\"},\"title\":{\"x\":0.05},\"mapbox\":{\"style\":\"light\"}}},\"xaxis\":{\"anchor\":\"y\",\"domain\":[0.0,1.0],\"title\":{\"text\":\"index\"}},\"yaxis\":{\"anchor\":\"x\",\"domain\":[0.0,1.0],\"title\":{\"text\":\"y\"}},\"legend\":{\"tracegroupgap\":0},\"margin\":{\"t\":60},\"barmode\":\"relative\"},                        {\"responsive\": true}                    ).then(function(){\n",
              "                            \n",
              "var gd = document.getElementById('e930b656-650e-45f9-8904-b40a6b480e99');\n",
              "var x = new MutationObserver(function (mutations, observer) {{\n",
              "        var display = window.getComputedStyle(gd).display;\n",
              "        if (!display || display === 'none') {{\n",
              "            console.log([gd, 'removed!']);\n",
              "            Plotly.purge(gd);\n",
              "            observer.disconnect();\n",
              "        }}\n",
              "}});\n",
              "\n",
              "// Listen for the removal of the full notebook cells\n",
              "var notebookContainer = gd.closest('#notebook-container');\n",
              "if (notebookContainer) {{\n",
              "    x.observe(notebookContainer, {childList: true});\n",
              "}}\n",
              "\n",
              "// Listen for the clearing of the current output cell\n",
              "var outputEl = gd.closest('.output');\n",
              "if (outputEl) {{\n",
              "    x.observe(outputEl, {childList: true});\n",
              "}}\n",
              "\n",
              "                        })                };                            </script>        </div>\n",
              "</body>\n",
              "</html>"
            ]
          },
          "metadata": {}
        }
      ]
    },
    {
      "cell_type": "code",
      "source": [
        "X = scaled.drop('당월_매출_금액', axis=1)\n",
        "y = scaled.당월_매출_금액\n",
        "X_train, X_test, y_train, y_test = train_test_split(X, y)"
      ],
      "metadata": {
        "id": "9SVOEV4J40NU"
      },
      "execution_count": null,
      "outputs": []
    },
    {
      "cell_type": "markdown",
      "source": [
        "### Feautre Importances"
      ],
      "metadata": {
        "id": "czUfRMh780tT"
      }
    },
    {
      "cell_type": "code",
      "source": [
        "# RandomForest -> 트리모델의 경우에는 무슨 열(데이터)가 분류에 영향을 끼치는지를 확인.\n",
        "from sklearn.ensemble import RandomForestClassifier\n",
        "# rfc 자체를 예측모델로 안쓰더라도 중요한 feature 찾기 위해 탐색용으로도 사용 가능.\n",
        "# Classifier : 분류할 때\n",
        "# Regressor : 회귀(수치형 변수 예측)할 때\n",
        "\n",
        "rf = RandomForestClassifier()\n",
        "rf.fit(X_train, y_train)\n",
        "# predict, 평가 X"
      ],
      "metadata": {
        "colab": {
          "base_uri": "https://localhost:8080/",
          "height": 396
        },
        "id": "IyCXY8uK4nVF",
        "outputId": "fed84b51-062a-4a0a-e955-d44d20f47716"
      },
      "execution_count": null,
      "outputs": [
        {
          "output_type": "error",
          "ename": "ValueError",
          "evalue": "ignored",
          "traceback": [
            "\u001b[0;31m---------------------------------------------------------------------------\u001b[0m",
            "\u001b[0;31mValueError\u001b[0m                                Traceback (most recent call last)",
            "\u001b[0;32m<ipython-input-24-70c0b85c6d5d>\u001b[0m in \u001b[0;36m<cell line: 8>\u001b[0;34m()\u001b[0m\n\u001b[1;32m      6\u001b[0m \u001b[0;34m\u001b[0m\u001b[0m\n\u001b[1;32m      7\u001b[0m \u001b[0mrf\u001b[0m \u001b[0;34m=\u001b[0m \u001b[0mRandomForestClassifier\u001b[0m\u001b[0;34m(\u001b[0m\u001b[0;34m)\u001b[0m\u001b[0;34m\u001b[0m\u001b[0;34m\u001b[0m\u001b[0m\n\u001b[0;32m----> 8\u001b[0;31m \u001b[0mrf\u001b[0m\u001b[0;34m.\u001b[0m\u001b[0mfit\u001b[0m\u001b[0;34m(\u001b[0m\u001b[0mX_train\u001b[0m\u001b[0;34m,\u001b[0m \u001b[0my_train\u001b[0m\u001b[0;34m)\u001b[0m\u001b[0;34m\u001b[0m\u001b[0;34m\u001b[0m\u001b[0m\n\u001b[0m\u001b[1;32m      9\u001b[0m \u001b[0;31m# predict, 평가 X\u001b[0m\u001b[0;34m\u001b[0m\u001b[0;34m\u001b[0m\u001b[0m\n",
            "\u001b[0;32m/usr/local/lib/python3.10/dist-packages/sklearn/ensemble/_forest.py\u001b[0m in \u001b[0;36mfit\u001b[0;34m(self, X, y, sample_weight)\u001b[0m\n\u001b[1;32m    383\u001b[0m         \u001b[0mself\u001b[0m\u001b[0;34m.\u001b[0m\u001b[0mn_outputs_\u001b[0m \u001b[0;34m=\u001b[0m \u001b[0my\u001b[0m\u001b[0;34m.\u001b[0m\u001b[0mshape\u001b[0m\u001b[0;34m[\u001b[0m\u001b[0;36m1\u001b[0m\u001b[0;34m]\u001b[0m\u001b[0;34m\u001b[0m\u001b[0;34m\u001b[0m\u001b[0m\n\u001b[1;32m    384\u001b[0m \u001b[0;34m\u001b[0m\u001b[0m\n\u001b[0;32m--> 385\u001b[0;31m         \u001b[0my\u001b[0m\u001b[0;34m,\u001b[0m \u001b[0mexpanded_class_weight\u001b[0m \u001b[0;34m=\u001b[0m \u001b[0mself\u001b[0m\u001b[0;34m.\u001b[0m\u001b[0m_validate_y_class_weight\u001b[0m\u001b[0;34m(\u001b[0m\u001b[0my\u001b[0m\u001b[0;34m)\u001b[0m\u001b[0;34m\u001b[0m\u001b[0;34m\u001b[0m\u001b[0m\n\u001b[0m\u001b[1;32m    386\u001b[0m \u001b[0;34m\u001b[0m\u001b[0m\n\u001b[1;32m    387\u001b[0m         \u001b[0;32mif\u001b[0m \u001b[0mgetattr\u001b[0m\u001b[0;34m(\u001b[0m\u001b[0my\u001b[0m\u001b[0;34m,\u001b[0m \u001b[0;34m\"dtype\"\u001b[0m\u001b[0;34m,\u001b[0m \u001b[0;32mNone\u001b[0m\u001b[0;34m)\u001b[0m \u001b[0;34m!=\u001b[0m \u001b[0mDOUBLE\u001b[0m \u001b[0;32mor\u001b[0m \u001b[0;32mnot\u001b[0m \u001b[0my\u001b[0m\u001b[0;34m.\u001b[0m\u001b[0mflags\u001b[0m\u001b[0;34m.\u001b[0m\u001b[0mcontiguous\u001b[0m\u001b[0;34m:\u001b[0m\u001b[0;34m\u001b[0m\u001b[0;34m\u001b[0m\u001b[0m\n",
            "\u001b[0;32m/usr/local/lib/python3.10/dist-packages/sklearn/ensemble/_forest.py\u001b[0m in \u001b[0;36m_validate_y_class_weight\u001b[0;34m(self, y)\u001b[0m\n\u001b[1;32m    744\u001b[0m \u001b[0;34m\u001b[0m\u001b[0m\n\u001b[1;32m    745\u001b[0m     \u001b[0;32mdef\u001b[0m \u001b[0m_validate_y_class_weight\u001b[0m\u001b[0;34m(\u001b[0m\u001b[0mself\u001b[0m\u001b[0;34m,\u001b[0m \u001b[0my\u001b[0m\u001b[0;34m)\u001b[0m\u001b[0;34m:\u001b[0m\u001b[0;34m\u001b[0m\u001b[0;34m\u001b[0m\u001b[0m\n\u001b[0;32m--> 746\u001b[0;31m         \u001b[0mcheck_classification_targets\u001b[0m\u001b[0;34m(\u001b[0m\u001b[0my\u001b[0m\u001b[0;34m)\u001b[0m\u001b[0;34m\u001b[0m\u001b[0;34m\u001b[0m\u001b[0m\n\u001b[0m\u001b[1;32m    747\u001b[0m \u001b[0;34m\u001b[0m\u001b[0m\n\u001b[1;32m    748\u001b[0m         \u001b[0my\u001b[0m \u001b[0;34m=\u001b[0m \u001b[0mnp\u001b[0m\u001b[0;34m.\u001b[0m\u001b[0mcopy\u001b[0m\u001b[0;34m(\u001b[0m\u001b[0my\u001b[0m\u001b[0;34m)\u001b[0m\u001b[0;34m\u001b[0m\u001b[0;34m\u001b[0m\u001b[0m\n",
            "\u001b[0;32m/usr/local/lib/python3.10/dist-packages/sklearn/utils/multiclass.py\u001b[0m in \u001b[0;36mcheck_classification_targets\u001b[0;34m(y)\u001b[0m\n\u001b[1;32m    216\u001b[0m         \u001b[0;34m\"multilabel-sequences\"\u001b[0m\u001b[0;34m,\u001b[0m\u001b[0;34m\u001b[0m\u001b[0;34m\u001b[0m\u001b[0m\n\u001b[1;32m    217\u001b[0m     ]:\n\u001b[0;32m--> 218\u001b[0;31m         \u001b[0;32mraise\u001b[0m \u001b[0mValueError\u001b[0m\u001b[0;34m(\u001b[0m\u001b[0;34m\"Unknown label type: %r\"\u001b[0m \u001b[0;34m%\u001b[0m \u001b[0my_type\u001b[0m\u001b[0;34m)\u001b[0m\u001b[0;34m\u001b[0m\u001b[0;34m\u001b[0m\u001b[0m\n\u001b[0m\u001b[1;32m    219\u001b[0m \u001b[0;34m\u001b[0m\u001b[0m\n\u001b[1;32m    220\u001b[0m \u001b[0;34m\u001b[0m\u001b[0m\n",
            "\u001b[0;31mValueError\u001b[0m: Unknown label type: 'continuous'"
          ]
        }
      ]
    },
    {
      "cell_type": "code",
      "source": [
        "ft = pd.Series(rf.feature_importances_,\n",
        "          index=rf.feature_names_in_)\\\n",
        "    .sort_values(ascending=False)\n",
        "ft"
      ],
      "metadata": {
        "colab": {
          "base_uri": "https://localhost:8080/"
        },
        "id": "E5-FaVy25CKW",
        "outputId": "76b460da-3e99-4bd7-e5a8-161aae2c2e41"
      },
      "execution_count": null,
      "outputs": [
        {
          "output_type": "execute_result",
          "data": {
            "text/plain": [
              "MonthlyIncome                        0.077769\n",
              "Age                                  0.061215\n",
              "DailyRate                            0.054553\n",
              "TotalWorkingYears                    0.051881\n",
              "MonthlyRate                          0.050001\n",
              "OverTime_Yes                         0.047914\n",
              "HourlyRate                           0.044667\n",
              "YearsAtCompany                       0.042506\n",
              "DistanceFromHome                     0.040401\n",
              "PercentSalaryHike                    0.034742\n",
              "NumCompaniesWorked                   0.034211\n",
              "EnvironmentSatisfaction              0.030776\n",
              "StockOptionLevel                     0.028089\n",
              "WorkLifeBalance                      0.026954\n",
              "JobInvolvement                       0.026495\n",
              "JobSatisfaction                      0.025013\n",
              "YearsWithCurrManager                 0.024913\n",
              "YearsInCurrentRole                   0.024247\n",
              "TrainingTimesLastYear                0.023614\n",
              "JobLevel                             0.023563\n",
              "YearsSinceLastPromotion              0.022521\n",
              "RelationshipSatisfaction             0.020977\n",
              "Education                            0.019852\n",
              "MaritalStatus_Single                 0.019288\n",
              "BusinessTravel_Travel_Frequently     0.016299\n",
              "JobRole_Sales Representative         0.011771\n",
              "Gender_Male                          0.010726\n",
              "JobRole_Laboratory Technician        0.009283\n",
              "MaritalStatus_Married                0.008861\n",
              "BusinessTravel_Travel_Rarely         0.008859\n",
              "Department_Sales                     0.008772\n",
              "Department_Research & Development    0.008640\n",
              "EducationField_Medical               0.008200\n",
              "EducationField_Life Sciences         0.007118\n",
              "EducationField_Marketing             0.006927\n",
              "JobRole_Research Scientist           0.006890\n",
              "JobRole_Sales Executive              0.006767\n",
              "EducationField_Technical Degree      0.006092\n",
              "PerformanceRating                    0.005865\n",
              "JobRole_Human Resources              0.003589\n",
              "EducationField_Other                 0.003488\n",
              "JobRole_Manufacturing Director       0.002809\n",
              "JobRole_Manager                      0.001946\n",
              "JobRole_Research Director            0.000932\n",
              "dtype: float64"
            ]
          },
          "metadata": {},
          "execution_count": 87
        }
      ]
    },
    {
      "cell_type": "code",
      "source": [
        "len(scaled.columns)"
      ],
      "metadata": {
        "colab": {
          "base_uri": "https://localhost:8080/"
        },
        "id": "e232PK9UNZ9a",
        "outputId": "b27d8727-265d-4477-f525-02f8f4838a55"
      },
      "execution_count": null,
      "outputs": [
        {
          "output_type": "execute_result",
          "data": {
            "text/plain": [
              "45"
            ]
          },
          "metadata": {},
          "execution_count": 88
        }
      ]
    },
    {
      "cell_type": "code",
      "source": [
        "X = df1.drop('', axis=1)\n",
        "y = df['Attrition']\n",
        "X_train, X_test, y_train, y_test = train_test_split(X, y)\n",
        "scaler = MinMaxScaler()\n",
        "X_train_ = scaler.fit_transform(X_train)\n",
        "X_test_ = scaler.transform(X_test)"
      ],
      "metadata": {
        "id": "RcNbTwxpMpKR"
      },
      "execution_count": null,
      "outputs": []
    },
    {
      "cell_type": "markdown",
      "source": [
        "### AutoML"
      ],
      "metadata": {
        "id": "isZSbFQZ9A1J"
      }
    },
    {
      "cell_type": "code",
      "source": [
        "!pip install flaml[notebook] -q"
      ],
      "metadata": {
        "id": "mCsVsyZtlZX5",
        "colab": {
          "base_uri": "https://localhost:8080/"
        },
        "outputId": "13bb07a2-f2cb-4ec1-de7d-2dd9fa3ca0df"
      },
      "execution_count": null,
      "outputs": [
        {
          "output_type": "stream",
          "name": "stdout",
          "text": [
            "\u001b[2K     \u001b[90m━━━━━━━━━━━━━━━━━━━━━━━━━━━━━━━━━━━━━━━━\u001b[0m \u001b[32m295.2/295.2 kB\u001b[0m \u001b[31m2.3 MB/s\u001b[0m eta \u001b[36m0:00:00\u001b[0m\n",
            "\u001b[2K     \u001b[90m━━━━━━━━━━━━━━━━━━━━━━━━━━━━━━━━━━━━━━━━\u001b[0m \u001b[32m123.4/123.4 kB\u001b[0m \u001b[31m12.3 MB/s\u001b[0m eta \u001b[36m0:00:00\u001b[0m\n",
            "\u001b[2K     \u001b[90m━━━━━━━━━━━━━━━━━━━━━━━━━━━━━━━━━━━━━━━━\u001b[0m \u001b[32m93.5/93.5 kB\u001b[0m \u001b[31m11.6 MB/s\u001b[0m eta \u001b[36m0:00:00\u001b[0m\n",
            "\u001b[2K     \u001b[90m━━━━━━━━━━━━━━━━━━━━━━━━━━━━━━━━━━━━━━━━\u001b[0m \u001b[32m1.6/1.6 MB\u001b[0m \u001b[31m15.3 MB/s\u001b[0m eta \u001b[36m0:00:00\u001b[0m\n",
            "\u001b[?25h"
          ]
        }
      ]
    },
    {
      "cell_type": "code",
      "source": [
        "!pip install catboost -q"
      ],
      "metadata": {
        "id": "OSJz2nHWDC-Q",
        "colab": {
          "base_uri": "https://localhost:8080/"
        },
        "outputId": "63498597-263d-4099-9bf7-9aea040d061a"
      },
      "execution_count": null,
      "outputs": [
        {
          "output_type": "stream",
          "name": "stdout",
          "text": [
            "\u001b[2K     \u001b[90m━━━━━━━━━━━━━━━━━━━━━━━━━━━━━━━━━━━━━━━━\u001b[0m \u001b[32m98.7/98.7 MB\u001b[0m \u001b[31m5.8 MB/s\u001b[0m eta \u001b[36m0:00:00\u001b[0m\n",
            "\u001b[?25h"
          ]
        }
      ]
    },
    {
      "cell_type": "code",
      "source": [
        "# FLAML 라이브러리에서 AutoML을 가져옵니다.\n",
        "from flaml import AutoML\n",
        "\n",
        "# 최적의 추정기(estimator) 목록을 저장할 빈 리스트를 생성합니다.\n",
        "best_estimators = []\n",
        "\n",
        "# AutoML을 실행할 추정기(estimator) 목록을 정의합니다.\n",
        "# https://microsoft.github.io/FLAML/docs/Use-Cases/Task-Oriented-AutoML#estimator\n",
        "estimators = ['xgboost', 'lgbm', 'catboost', 'xgb_limitdepth', 'kneighbor']\n",
        "\n",
        "# 각 추정기에 대한 AutoML을 실행합니다.\n",
        "for e in estimators:\n",
        "    print(e)\n",
        "\n",
        "    # AutoML 객체를 생성하고, 사용할 추정기(estimator)를 지정합니다.\n",
        "    automl = AutoML(estimator_list=[e])\n",
        "\n",
        "    # AutoML 모델을 학습합니다.\n",
        "    automl.fit(\n",
        "        X_train=X_train_,  # 학습 데이터 (X_train_)를 지정합니다.\n",
        "        y_train=y_train,    # 학습 레이블 (y_train)를 지정합니다.\n",
        "        task='classification',  # 분류(classification) 작업을 수행합니다.\n",
        "        time_budget=60,       # 총 시간 예산을 1분으로 설정합니다.\n",
        "        verbose=False          # 자세한 로그를 출력하지 않습니다.\n",
        "    )\n",
        "\n",
        "    # 최적의 하이퍼파라미터 구성을 출력합니다.\n",
        "    print('Best hyperparameter config:', automl.best_config)\n",
        "\n",
        "    # 검증 데이터에 대한 최적의 정확도를 출력합니다.\n",
        "    print('Best accuracy on validation data: {0:.4g}'.format(1-automl.best_loss))\n",
        "\n",
        "    # 테스트 데이터에 대한 정확도를 계산하고 출력합니다.\n",
        "    acc = accuracy_score(automl.model.predict(X_test_), y_test)\n",
        "    print('Test accuracy : {0:.4g} '.format(acc))\n",
        "\n",
        "    # 최적의 추정기와 모델을 저장합니다.\n",
        "    best_estimators.append((e, automl.model))\n",
        "\n",
        "# 최적의 추정기 목록을 반환합니다.\n",
        "best_estimators"
      ],
      "metadata": {
        "colab": {
          "base_uri": "https://localhost:8080/"
        },
        "id": "ZCEZhYe6nlPd",
        "outputId": "cfd17c38-d002-4f45-c4d5-cc343945d2c8"
      },
      "execution_count": null,
      "outputs": [
        {
          "output_type": "stream",
          "name": "stdout",
          "text": [
            "xgboost\n",
            "Best hyperparameter config: {'n_estimators': 166, 'max_leaves': 33, 'min_child_weight': 10.197799264188433, 'learning_rate': 0.027669982437157674, 'subsample': 0.893379582429785, 'colsample_bylevel': 1.0, 'colsample_bytree': 0.8701745757057389, 'reg_alpha': 0.021756625193894385, 'reg_lambda': 3.2453650164626975}\n",
            "Best accuracy on validation data: 0.8279\n",
            "Test accuracy : 0.8614 \n",
            "lgbm\n",
            "Best hyperparameter config: {'n_estimators': 432, 'num_leaves': 18, 'min_child_samples': 49, 'learning_rate': 0.04067856721258896, 'log_max_bin': 10, 'colsample_bytree': 0.6395255711853273, 'reg_alpha': 0.0018633999877243066, 'reg_lambda': 0.0009765625}\n",
            "Best accuracy on validation data: 0.8399\n",
            "Test accuracy : 0.8505 \n",
            "catboost\n",
            "Best hyperparameter config: {'early_stopping_rounds': 16, 'learning_rate': 0.06264522148395278, 'n_estimators': 38}\n",
            "Best accuracy on validation data: 0.8399\n",
            "Test accuracy : 0.8587 \n",
            "xgb_limitdepth\n",
            "Best hyperparameter config: {'n_estimators': 124, 'max_depth': 5, 'min_child_weight': 4.176367484754261, 'learning_rate': 0.036713106871293616, 'subsample': 0.6413878606085636, 'colsample_bylevel': 0.7721071225672838, 'colsample_bytree': 0.9060479776967536, 'reg_alpha': 0.5524043342987269, 'reg_lambda': 2.8881184155296387}\n",
            "Best accuracy on validation data: 0.8395\n",
            "Test accuracy : 0.8533 \n",
            "kneighbor\n",
            "Best hyperparameter config: {'n_neighbors': 511}\n",
            "Best accuracy on validation data: 0.7949\n",
            "Test accuracy : 0.837 \n"
          ]
        },
        {
          "output_type": "execute_result",
          "data": {
            "text/plain": [
              "[('xgboost', <flaml.automl.model.XGBoostSklearnEstimator at 0x7cd0966334f0>),\n",
              " ('lgbm', <flaml.automl.model.LGBMEstimator at 0x7cd096617c10>),\n",
              " ('catboost', <flaml.automl.model.CatBoostEstimator at 0x7cd094bc81c0>),\n",
              " ('xgb_limitdepth',\n",
              "  <flaml.automl.model.XGBoostLimitDepthEstimator at 0x7cd094fdf640>),\n",
              " ('kneighbor', <flaml.automl.model.KNeighborsEstimator at 0x7cd07e368100>)]"
            ]
          },
          "metadata": {},
          "execution_count": 92
        }
      ]
    },
    {
      "cell_type": "code",
      "source": [
        "from sklearn.ensemble import VotingClassifier"
      ],
      "metadata": {
        "id": "rrEtmpU1Ei5V"
      },
      "execution_count": null,
      "outputs": []
    },
    {
      "cell_type": "code",
      "source": [
        "# VotingClassifier를 생성합니다.\n",
        "# `estimators`에는 이전에 학습한 최적의 추정기와 모델들을 사용합니다.\n",
        "# `voting`은 하드 보팅(hard voting)을 지정합니다.\n",
        "voting_clf_hard = VotingClassifier(\n",
        "    estimators=best_estimators, voting='hard')\n",
        "\n",
        "# VotingClassifier를 학습합니다.\n",
        "voting_clf_hard.fit(X_train, y_train)\n",
        "\n",
        "# VotingClassifier 모델을 사용하여 테스트 데이터에 대한 정확도를 계산합니다.\n",
        "acc = accuracy_score(voting_clf_hard.predict(X_test), y_test)\n",
        "\n",
        "# 테스트 데이터에 대한 정확도를 출력합니다.\n",
        "print('Voting (Hard) Test accuracy : {0:.4g} '.format(acc))"
      ],
      "metadata": {
        "colab": {
          "base_uri": "https://localhost:8080/"
        },
        "id": "NPrS3qxjD9WN",
        "outputId": "826f73f5-94d3-4b4d-fc50-27987ad33be0"
      },
      "execution_count": null,
      "outputs": [
        {
          "output_type": "stream",
          "name": "stdout",
          "text": [
            "Voting (Hard) Test accuracy : 0.8533 \n"
          ]
        }
      ]
    },
    {
      "cell_type": "code",
      "source": [
        "# VotingClassifier를 생성합니다.\n",
        "# `estimators`에는 이전에 학습한 최적의 추정기와 모델들을 사용합니다.\n",
        "# `voting`은 소프트 보팅(soft voting)을 지정합니다.\n",
        "voting_clf_soft = VotingClassifier(\n",
        "    estimators=best_estimators, voting='soft')\n",
        "\n",
        "# VotingClassifier를 학습합니다.\n",
        "voting_clf_soft.fit(X_train, y_train)\n",
        "\n",
        "# VotingClassifier 모델을 사용하여 테스트 데이터에 대한 정확도를 계산합니다.\n",
        "acc = accuracy_score(voting_clf_soft.predict(X_test), y_test)\n",
        "\n",
        "# 테스트 데이터에 대한 정확도를 출력합니다.\n",
        "print('Voting (Soft) Test accuracy : {0:.4g} '.format(acc))"
      ],
      "metadata": {
        "colab": {
          "base_uri": "https://localhost:8080/"
        },
        "id": "VajL13eTUwCq",
        "outputId": "c697263a-3969-4383-a63c-275e3c759d43"
      },
      "execution_count": null,
      "outputs": [
        {
          "output_type": "stream",
          "name": "stdout",
          "text": [
            "Voting (Soft) Test accuracy : 0.8505 \n"
          ]
        }
      ]
    },
    {
      "cell_type": "code",
      "source": [
        "# VotingClassifier를 생성합니다.\n",
        "# `estimators`에는 이전에 학습한 최적의 추정기와 모델들 중에서 일부를 선택합니다.\n",
        "# 선택한 추정기들은 best_estimators 리스트의 인덱스를 사용하여 지정합니다.\n",
        "# `weights`를 통해 각 모델의 가중치를 지정합니다. (1, 2, 1)\n",
        "# `voting`은 소프트 보팅(soft voting)을 지정합니다.\n",
        "voting_clf_soft = VotingClassifier(\n",
        "    estimators=best_estimators[0:2]+best_estimators[3:4],\n",
        "    weights=[1, 2, 1], voting='soft')\n",
        "\n",
        "# VotingClassifier를 학습합니다.\n",
        "voting_clf_soft.fit(X_train, y_train)\n",
        "\n",
        "# VotingClassifier 모델을 사용하여 테스트 데이터에 대한 정확도를 계산합니다.\n",
        "acc = accuracy_score(voting_clf_soft.predict(X_test), y_test)\n",
        "\n",
        "# 테스트 데이터에 대한 정확도를 출력합니다.\n",
        "print('Voting (Soft) Test accuracy : {0:.4g} '.format(acc))"
      ],
      "metadata": {
        "colab": {
          "base_uri": "https://localhost:8080/"
        },
        "id": "9xP-JN6SYLFv",
        "outputId": "67b603e9-5dc1-458a-e9b7-e746c167f6d3"
      },
      "execution_count": null,
      "outputs": [
        {
          "output_type": "stream",
          "name": "stdout",
          "text": [
            "Voting (Soft) Test accuracy : 0.856 \n"
          ]
        }
      ]
    },
    {
      "cell_type": "code",
      "source": [
        "!pip install mlxtend -q"
      ],
      "metadata": {
        "id": "I3MQCtyLZk6H"
      },
      "execution_count": null,
      "outputs": []
    },
    {
      "cell_type": "code",
      "source": [
        "import joblib"
      ],
      "metadata": {
        "id": "GlVnhkkha50c"
      },
      "execution_count": null,
      "outputs": []
    },
    {
      "cell_type": "code",
      "source": [
        "joblib.dump(scaler, 'scaler.pkl')\n",
        "joblib.dump(voting_clf_soft, 'voting.pkl')"
      ],
      "metadata": {
        "colab": {
          "base_uri": "https://localhost:8080/"
        },
        "id": "AARXfvDxZm31",
        "outputId": "816f78d8-4121-46d6-aa1f-9be24750a5eb"
      },
      "execution_count": null,
      "outputs": [
        {
          "output_type": "execute_result",
          "data": {
            "text/plain": [
              "['voting.pkl']"
            ]
          },
          "metadata": {},
          "execution_count": 99
        }
      ]
    },
    {
      "cell_type": "code",
      "source": [
        "# !wget https://github.com/BigDeepData/2312_example/raw/main/model/voting.pkl\n",
        "# !wget https://github.com/BigDeepData/2312_example/raw/main/model/scaler.pkl\n",
        "\n",
        "voting_model = joblib.load('voting.pkl')\n",
        "scaler = joblib.load('scaler.pkl')"
      ],
      "metadata": {
        "id": "7W1kOrN8aJJn"
      },
      "execution_count": null,
      "outputs": []
    },
    {
      "cell_type": "markdown",
      "source": [
        "### Input"
      ],
      "metadata": {
        "id": "9VJ3Fsn42HQq"
      }
    },
    {
      "cell_type": "code",
      "source": [
        "for col in df_.drop('Attrition', axis=1).columns:\n",
        "    # if col in df_input:\n",
        "    #     continue\n",
        "    print(col)\n",
        "    print(sorted(df_.loc[:, col].unique()))\n",
        "    print(min(df_.loc[:, col].unique()))\n",
        "    print(max(df_.loc[:, col].unique()))"
      ],
      "metadata": {
        "colab": {
          "base_uri": "https://localhost:8080/"
        },
        "id": "Bpn4gr5mQSLw",
        "outputId": "eb5b7d6b-7ef8-48ec-e2b1-8c46ccf7c6ad"
      },
      "execution_count": null,
      "outputs": [
        {
          "output_type": "stream",
          "name": "stdout",
          "text": [
            "Age\n",
            "[18, 19, 20, 21, 22, 23, 24, 25, 26, 27, 28, 29, 30, 31, 32, 33, 34, 35, 36, 37, 38, 39, 40, 41, 42, 43, 44, 45, 46, 47, 48, 49, 50, 51, 52, 53, 54, 55, 56, 57, 58, 59, 60]\n",
            "18\n",
            "60\n",
            "BusinessTravel\n",
            "['Non-Travel', 'Travel_Frequently', 'Travel_Rarely']\n",
            "Non-Travel\n",
            "Travel_Rarely\n",
            "DailyRate\n",
            "[102, 103, 104, 105, 106, 107, 109, 111, 115, 116, 117, 118, 119, 120, 121, 124, 125, 128, 129, 130, 131, 132, 134, 135, 136, 138, 140, 141, 142, 143, 144, 145, 146, 147, 148, 150, 152, 153, 154, 155, 156, 157, 160, 161, 163, 164, 167, 168, 170, 172, 174, 176, 177, 179, 180, 181, 182, 185, 188, 189, 192, 193, 194, 195, 196, 199, 200, 201, 202, 203, 204, 205, 206, 207, 208, 210, 211, 213, 216, 217, 218, 219, 224, 228, 230, 231, 232, 234, 237, 238, 240, 241, 243, 244, 247, 248, 249, 251, 252, 253, 254, 256, 258, 261, 263, 264, 265, 266, 267, 268, 269, 271, 277, 279, 280, 282, 285, 286, 287, 288, 289, 290, 294, 296, 299, 300, 301, 302, 303, 304, 305, 306, 307, 309, 310, 311, 313, 314, 316, 317, 318, 319, 322, 325, 326, 328, 329, 330, 332, 333, 334, 335, 336, 337, 341, 342, 343, 345, 346, 350, 352, 355, 359, 360, 362, 363, 364, 365, 367, 369, 370, 371, 373, 374, 376, 377, 379, 381, 383, 384, 390, 391, 392, 394, 395, 397, 401, 404, 405, 406, 408, 410, 412, 413, 414, 415, 419, 422, 426, 427, 428, 429, 430, 431, 432, 433, 436, 437, 438, 439, 440, 441, 442, 443, 444, 446, 447, 448, 452, 457, 458, 459, 461, 462, 464, 465, 466, 467, 468, 469, 470, 471, 472, 474, 477, 478, 479, 480, 481, 482, 483, 486, 488, 489, 490, 492, 495, 496, 498, 499, 500, 501, 504, 505, 506, 507, 508, 509, 511, 515, 516, 523, 524, 525, 526, 527, 528, 529, 530, 531, 532, 534, 535, 536, 538, 541, 542, 543, 544, 546, 548, 549, 552, 553, 555, 556, 557, 558, 559, 560, 561, 562, 563, 566, 567, 570, 571, 572, 573, 574, 575, 580, 581, 582, 583, 584, 585, 586, 587, 588, 589, 590, 591, 592, 593, 594, 598, 599, 600, 601, 602, 603, 604, 605, 607, 608, 611, 613, 616, 617, 618, 619, 621, 622, 625, 626, 628, 629, 630, 632, 634, 635, 636, 638, 640, 641, 642, 644, 645, 646, 647, 648, 650, 652, 653, 654, 655, 657, 658, 660, 661, 662, 663, 664, 665, 666, 667, 669, 670, 671, 672, 673, 674, 675, 676, 678, 682, 683, 684, 685, 688, 689, 691, 692, 693, 694, 696, 697, 699, 702, 703, 704, 705, 706, 708, 711, 713, 715, 717, 718, 719, 720, 721, 722, 723, 725, 726, 727, 728, 734, 735, 736, 737, 738, 740, 741, 746, 748, 750, 754, 755, 756, 759, 760, 763, 766, 769, 770, 771, 772, 773, 775, 776, 781, 782, 783, 786, 788, 790, 791, 792, 793, 796, 797, 798, 799, 801, 802, 804, 805, 806, 807, 809, 810, 812, 813, 817, 818, 819, 821, 823, 824, 827, 828, 829, 830, 832, 833, 835, 836, 840, 841, 845, 848, 849, 852, 853, 854, 855, 857, 859, 862, 866, 867, 868, 869, 871, 874, 878, 879, 880, 881, 882, 883, 884, 885, 887, 888, 889, 890, 891, 894, 895, 896, 897, 898, 902, 903, 905, 906, 911, 913, 916, 917, 918, 920, 921, 922, 924, 926, 928, 929, 930, 931, 932, 933, 935, 937, 938, 939, 942, 943, 944, 945, 946, 949, 950, 953, 954, 955, 956, 957, 959, 964, 966, 967, 968, 969, 970, 971, 974, 975, 976, 977, 979, 981, 982, 983, 984, 986, 988, 989, 990, 991, 992, 994, 995, 996, 999, 1001, 1002, 1003, 1005, 1009, 1010, 1012, 1015, 1017, 1018, 1023, 1029, 1030, 1031, 1033, 1034, 1035, 1037, 1038, 1040, 1041, 1045, 1046, 1050, 1052, 1053, 1054, 1055, 1059, 1060, 1062, 1063, 1064, 1065, 1066, 1069, 1070, 1075, 1076, 1079, 1082, 1083, 1084, 1085, 1086, 1089, 1090, 1091, 1092, 1093, 1094, 1096, 1097, 1098, 1099, 1102, 1103, 1105, 1107, 1108, 1109, 1111, 1112, 1115, 1116, 1117, 1120, 1122, 1123, 1124, 1125, 1126, 1127, 1128, 1130, 1131, 1132, 1134, 1136, 1137, 1138, 1141, 1142, 1144, 1145, 1146, 1147, 1150, 1151, 1153, 1154, 1157, 1158, 1162, 1167, 1168, 1169, 1171, 1172, 1174, 1176, 1178, 1179, 1180, 1181, 1182, 1184, 1186, 1188, 1189, 1192, 1193, 1194, 1195, 1198, 1199, 1200, 1202, 1204, 1206, 1207, 1210, 1211, 1212, 1213, 1214, 1216, 1217, 1218, 1219, 1220, 1221, 1222, 1223, 1224, 1225, 1229, 1230, 1231, 1232, 1234, 1236, 1238, 1239, 1240, 1242, 1243, 1245, 1246, 1247, 1249, 1251, 1252, 1253, 1254, 1255, 1256, 1258, 1259, 1261, 1262, 1265, 1266, 1268, 1269, 1271, 1272, 1273, 1274, 1275, 1276, 1277, 1278, 1280, 1282, 1283, 1287, 1288, 1291, 1294, 1296, 1297, 1299, 1300, 1302, 1303, 1305, 1306, 1308, 1309, 1311, 1312, 1313, 1315, 1316, 1318, 1319, 1320, 1321, 1322, 1323, 1324, 1325, 1326, 1327, 1328, 1329, 1330, 1332, 1333, 1334, 1336, 1337, 1339, 1342, 1343, 1344, 1346, 1349, 1351, 1353, 1354, 1355, 1356, 1357, 1358, 1360, 1361, 1362, 1365, 1366, 1368, 1369, 1370, 1371, 1372, 1373, 1375, 1376, 1377, 1378, 1379, 1380, 1381, 1382, 1383, 1384, 1385, 1387, 1389, 1391, 1392, 1394, 1395, 1396, 1397, 1398, 1400, 1401, 1402, 1403, 1404, 1405, 1410, 1411, 1413, 1416, 1418, 1420, 1421, 1422, 1423, 1425, 1427, 1429, 1431, 1434, 1435, 1436, 1439, 1440, 1441, 1442, 1443, 1444, 1445, 1448, 1449, 1450, 1451, 1452, 1454, 1456, 1457, 1459, 1462, 1463, 1464, 1465, 1467, 1469, 1470, 1473, 1474, 1475, 1476, 1479, 1480, 1482, 1485, 1488, 1490, 1492, 1495, 1496, 1498, 1499]\n",
            "102\n",
            "1499\n",
            "Department\n",
            "['Human Resources', 'Research & Development', 'Sales']\n",
            "Human Resources\n",
            "Sales\n",
            "DistanceFromHome\n",
            "[1, 2, 3, 4, 5, 6, 7, 8, 9, 10, 11, 12, 13, 14, 15, 16, 17, 18, 19, 20, 21, 22, 23, 24, 25, 26, 27, 28, 29]\n",
            "1\n",
            "29\n",
            "Education\n",
            "[1, 2, 3, 4, 5]\n",
            "1\n",
            "5\n",
            "EducationField\n",
            "['Human Resources', 'Life Sciences', 'Marketing', 'Medical', 'Other', 'Technical Degree']\n",
            "Human Resources\n",
            "Technical Degree\n",
            "EnvironmentSatisfaction\n",
            "[1, 2, 3, 4]\n",
            "1\n",
            "4\n",
            "Gender\n",
            "['Female', 'Male']\n",
            "Female\n",
            "Male\n",
            "HourlyRate\n",
            "[30, 31, 32, 33, 34, 35, 36, 37, 38, 39, 40, 41, 42, 43, 44, 45, 46, 47, 48, 49, 50, 51, 52, 53, 54, 55, 56, 57, 58, 59, 60, 61, 62, 63, 64, 65, 66, 67, 68, 69, 70, 71, 72, 73, 74, 75, 76, 77, 78, 79, 80, 81, 82, 83, 84, 85, 86, 87, 88, 89, 90, 91, 92, 93, 94, 95, 96, 97, 98, 99, 100]\n",
            "30\n",
            "100\n",
            "JobInvolvement\n",
            "[1, 2, 3, 4]\n",
            "1\n",
            "4\n",
            "JobLevel\n",
            "[1, 2, 3, 4, 5]\n",
            "1\n",
            "5\n",
            "JobRole\n",
            "['Healthcare Representative', 'Human Resources', 'Laboratory Technician', 'Manager', 'Manufacturing Director', 'Research Director', 'Research Scientist', 'Sales Executive', 'Sales Representative']\n",
            "Healthcare Representative\n",
            "Sales Representative\n",
            "JobSatisfaction\n",
            "[1, 2, 3, 4]\n",
            "1\n",
            "4\n",
            "MaritalStatus\n",
            "['Divorced', 'Married', 'Single']\n",
            "Divorced\n",
            "Single\n",
            "MonthlyIncome\n",
            "[1009, 1051, 1052, 1081, 1091, 1102, 1118, 1129, 1200, 1223, 1232, 1261, 1274, 1281, 1359, 1393, 1416, 1420, 1483, 1514, 1555, 1563, 1569, 1601, 1611, 1675, 1702, 1706, 1790, 1859, 1878, 1904, 1951, 2001, 2007, 2008, 2011, 2013, 2014, 2018, 2022, 2024, 2028, 2029, 2033, 2042, 2044, 2045, 2058, 2061, 2062, 2064, 2066, 2070, 2073, 2074, 2075, 2080, 2083, 2086, 2088, 2089, 2090, 2093, 2096, 2097, 2099, 2105, 2107, 2109, 2115, 2119, 2121, 2127, 2132, 2133, 2141, 2143, 2144, 2145, 2148, 2153, 2154, 2157, 2166, 2168, 2174, 2176, 2177, 2180, 2187, 2194, 2201, 2206, 2207, 2210, 2213, 2216, 2218, 2220, 2226, 2231, 2232, 2235, 2238, 2244, 2258, 2259, 2267, 2269, 2270, 2272, 2274, 2275, 2277, 2279, 2285, 2288, 2289, 2290, 2293, 2296, 2297, 2302, 2305, 2306, 2307, 2308, 2311, 2313, 2314, 2318, 2319, 2321, 2322, 2323, 2325, 2326, 2328, 2329, 2332, 2335, 2339, 2340, 2341, 2342, 2345, 2348, 2351, 2356, 2362, 2366, 2367, 2368, 2370, 2372, 2373, 2376, 2377, 2379, 2380, 2387, 2389, 2394, 2398, 2400, 2404, 2406, 2408, 2413, 2422, 2426, 2430, 2432, 2436, 2437, 2438, 2439, 2440, 2450, 2451, 2455, 2461, 2468, 2472, 2476, 2478, 2479, 2496, 2500, 2501, 2506, 2514, 2515, 2517, 2519, 2523, 2532, 2534, 2539, 2543, 2544, 2546, 2552, 2553, 2559, 2561, 2564, 2566, 2570, 2571, 2572, 2576, 2579, 2580, 2585, 2587, 2592, 2593, 2596, 2600, 2610, 2613, 2619, 2622, 2625, 2632, 2642, 2644, 2645, 2647, 2654, 2655, 2657, 2659, 2660, 2661, 2662, 2670, 2678, 2679, 2683, 2684, 2686, 2690, 2691, 2693, 2694, 2695, 2696, 2700, 2703, 2705, 2706, 2707, 2713, 2716, 2718, 2720, 2723, 2725, 2728, 2741, 2742, 2743, 2756, 2759, 2760, 2766, 2768, 2773, 2774, 2778, 2781, 2782, 2783, 2785, 2789, 2791, 2793, 2794, 2795, 2799, 2800, 2804, 2809, 2810, 2811, 2814, 2818, 2819, 2821, 2827, 2835, 2836, 2837, 2838, 2844, 2851, 2853, 2856, 2858, 2859, 2862, 2863, 2867, 2871, 2875, 2886, 2889, 2897, 2899, 2904, 2909, 2911, 2926, 2929, 2932, 2933, 2935, 2936, 2942, 2950, 2956, 2960, 2966, 2972, 2973, 2974, 2976, 2977, 2979, 2983, 2991, 2994, 2996, 3022, 3033, 3034, 3038, 3041, 3055, 3057, 3058, 3065, 3067, 3068, 3069, 3072, 3102, 3117, 3131, 3140, 3143, 3149, 3161, 3162, 3172, 3180, 3195, 3196, 3201, 3202, 3204, 3210, 3211, 3212, 3221, 3229, 3230, 3280, 3291, 3294, 3295, 3298, 3306, 3310, 3312, 3319, 3339, 3346, 3348, 3375, 3376, 3377, 3388, 3407, 3408, 3419, 3420, 3423, 3424, 3433, 3441, 3445, 3447, 3448, 3452, 3464, 3468, 3477, 3479, 3482, 3485, 3491, 3500, 3505, 3506, 3517, 3537, 3539, 3540, 3544, 3564, 3578, 3579, 3580, 3591, 3597, 3600, 3617, 3622, 3629, 3633, 3646, 3660, 3669, 3673, 3681, 3688, 3690, 3691, 3692, 3697, 3702, 3708, 3722, 3730, 3737, 3743, 3748, 3755, 3760, 3761, 3780, 3785, 3812, 3815, 3816, 3833, 3838, 3867, 3875, 3886, 3894, 3902, 3904, 3907, 3917, 3919, 3920, 3929, 3931, 3936, 3944, 3955, 3968, 3975, 3977, 3978, 3983, 3986, 3989, 4000, 4001, 4011, 4014, 4025, 4028, 4031, 4033, 4035, 4037, 4051, 4066, 4069, 4071, 4078, 4081, 4084, 4087, 4089, 4103, 4105, 4107, 4108, 4115, 4127, 4148, 4152, 4157, 4162, 4163, 4171, 4187, 4189, 4193, 4194, 4197, 4198, 4200, 4213, 4221, 4227, 4230, 4233, 4240, 4244, 4249, 4256, 4257, 4258, 4260, 4262, 4272, 4284, 4285, 4286, 4294, 4298, 4302, 4306, 4312, 4317, 4319, 4320, 4323, 4325, 4327, 4332, 4335, 4342, 4345, 4364, 4373, 4374, 4377, 4381, 4382, 4385, 4393, 4400, 4401, 4403, 4404, 4420, 4422, 4424, 4425, 4434, 4440, 4444, 4447, 4448, 4449, 4450, 4465, 4477, 4478, 4485, 4487, 4490, 4502, 4505, 4507, 4508, 4522, 4523, 4534, 4537, 4538, 4539, 4541, 4553, 4554, 4556, 4558, 4559, 4568, 4577, 4581, 4591, 4599, 4601, 4614, 4615, 4617, 4621, 4627, 4639, 4647, 4648, 4649, 4661, 4663, 4668, 4678, 4680, 4682, 4684, 4695, 4707, 4717, 4721, 4723, 4724, 4728, 4735, 4736, 4739, 4741, 4759, 4765, 4766, 4768, 4771, 4774, 4775, 4777, 4779, 4787, 4788, 4789, 4805, 4809, 4810, 4821, 4834, 4841, 4850, 4851, 4855, 4859, 4869, 4876, 4877, 4878, 4883, 4898, 4900, 4907, 4908, 4930, 4936, 4941, 4950, 4960, 4963, 4968, 4969, 4978, 4998, 4999, 5003, 5006, 5010, 5021, 5033, 5042, 5055, 5056, 5063, 5067, 5070, 5071, 5079, 5087, 5093, 5094, 5098, 5121, 5126, 5130, 5131, 5147, 5151, 5154, 5155, 5160, 5163, 5171, 5175, 5204, 5206, 5207, 5208, 5209, 5210, 5220, 5228, 5231, 5237, 5238, 5249, 5253, 5257, 5258, 5265, 5294, 5295, 5296, 5301, 5304, 5309, 5321, 5324, 5326, 5329, 5332, 5337, 5343, 5346, 5347, 5363, 5368, 5373, 5376, 5377, 5380, 5381, 5390, 5396, 5399, 5405, 5406, 5410, 5415, 5429, 5433, 5440, 5441, 5454, 5460, 5467, 5468, 5470, 5472, 5473, 5476, 5482, 5484, 5485, 5486, 5487, 5488, 5505, 5507, 5538, 5561, 5562, 5577, 5582, 5593, 5605, 5617, 5647, 5660, 5661, 5666, 5673, 5674, 5675, 5677, 5679, 5689, 5714, 5715, 5731, 5736, 5743, 5744, 5745, 5747, 5762, 5765, 5768, 5769, 5770, 5772, 5775, 5810, 5811, 5813, 5828, 5855, 5869, 5878, 5902, 5906, 5914, 5915, 5916, 5933, 5940, 5957, 5968, 5974, 5980, 5985, 5993, 6029, 6032, 6062, 6074, 6077, 6091, 6118, 6120, 6125, 6132, 6134, 6142, 6146, 6151, 6162, 6172, 6179, 6180, 6201, 6209, 6214, 6220, 6230, 6232, 6244, 6261, 6272, 6274, 6288, 6294, 6306, 6322, 6323, 6334, 6347, 6349, 6377, 6380, 6384, 6385, 6388, 6389, 6392, 6397, 6410, 6430, 6434, 6439, 6447, 6465, 6472, 6474, 6499, 6500, 6502, 6513, 6516, 6524, 6538, 6540, 6545, 6549, 6553, 6567, 6577, 6578, 6582, 6583, 6586, 6623, 6632, 6644, 6646, 6651, 6652, 6653, 6667, 6673, 6674, 6687, 6694, 6696, 6712, 6725, 6728, 6735, 6755, 6781, 6782, 6796, 6799, 6804, 6811, 6812, 6815, 6825, 6833, 6834, 6842, 6852, 6854, 6861, 6870, 6877, 6883, 6893, 6929, 6931, 6932, 6949, 6962, 7005, 7082, 7083, 7094, 7104, 7119, 7140, 7143, 7260, 7264, 7295, 7314, 7336, 7351, 7379, 7403, 7406, 7412, 7428, 7441, 7446, 7457, 7484, 7491, 7510, 7525, 7547, 7553, 7587, 7596, 7625, 7632, 7637, 7639, 7642, 7644, 7654, 7655, 7725, 7756, 7779, 7823, 7847, 7861, 7879, 7880, 7898, 7918, 7945, 7969, 7978, 7988, 7991, 8008, 8020, 8095, 8103, 8120, 8161, 8189, 8224, 8237, 8268, 8321, 8346, 8376, 8380, 8381, 8392, 8396, 8412, 8446, 8463, 8474, 8500, 8564, 8578, 8606, 8620, 8621, 8628, 8633, 8639, 8686, 8722, 8726, 8740, 8789, 8793, 8823, 8834, 8837, 8847, 8853, 8858, 8865, 8926, 8938, 8943, 8966, 8998, 9069, 9071, 9094, 9204, 9208, 9241, 9250, 9278, 9355, 9362, 9380, 9396, 9419, 9434, 9439, 9525, 9526, 9547, 9582, 9602, 9610, 9613, 9619, 9637, 9667, 9679, 9699, 9705, 9713, 9714, 9715, 9724, 9725, 9738, 9756, 9824, 9852, 9854, 9884, 9888, 9907, 9924, 9936, 9950, 9957, 9980, 9981, 9985, 9991, 9998, 10008, 10048, 10096, 10124, 10169, 10209, 10221, 10231, 10239, 10248, 10252, 10266, 10274, 10306, 10312, 10322, 10325, 10333, 10368, 10377, 10388, 10400, 10422, 10435, 10445, 10447, 10448, 10453, 10466, 10475, 10482, 10496, 10502, 10512, 10527, 10552, 10596, 10609, 10648, 10650, 10673, 10685, 10686, 10725, 10739, 10748, 10761, 10793, 10798, 10820, 10845, 10851, 10854, 10855, 10880, 10883, 10903, 10920, 10932, 10934, 10938, 10965, 10976, 10999, 11031, 11103, 11159, 11244, 11245, 11416, 11510, 11557, 11631, 11691, 11713, 11836, 11849, 11878, 11904, 11916, 11935, 11957, 11994, 11996, 12031, 12061, 12169, 12185, 12490, 12504, 12742, 12808, 12936, 12965, 13116, 13120, 13142, 13191, 13194, 13206, 13212, 13225, 13237, 13245, 13247, 13269, 13320, 13341, 13348, 13402, 13458, 13464, 13496, 13499, 13503, 13525, 13549, 13570, 13577, 13582, 13591, 13603, 13610, 13664, 13675, 13695, 13726, 13734, 13744, 13757, 13758, 13770, 13826, 13872, 13964, 13966, 13973, 14026, 14118, 14275, 14336, 14411, 14732, 14756, 14814, 14852, 15202, 15379, 15402, 15427, 15787, 15972, 15992, 16015, 16032, 16064, 16124, 16184, 16291, 16307, 16328, 16413, 16422, 16437, 16555, 16595, 16598, 16606, 16627, 16659, 16704, 16752, 16756, 16792, 16799, 16823, 16835, 16856, 16872, 16880, 16885, 16959, 17007, 17046, 17048, 17068, 17099, 17123, 17159, 17169, 17174, 17181, 17328, 17399, 17426, 17444, 17465, 17567, 17584, 17603, 17639, 17650, 17665, 17779, 17856, 17861, 17875, 17924, 18041, 18061, 18172, 18200, 18213, 18265, 18300, 18303, 18430, 18606, 18665, 18711, 18722, 18740, 18789, 18824, 18844, 18880, 18947, 19033, 19038, 19045, 19049, 19068, 19081, 19094, 19141, 19144, 19161, 19187, 19189, 19190, 19197, 19202, 19232, 19237, 19246, 19272, 19328, 19331, 19392, 19406, 19419, 19431, 19436, 19502, 19513, 19517, 19537, 19545, 19566, 19586, 19613, 19626, 19627, 19636, 19658, 19665, 19701, 19717, 19740, 19833, 19845, 19847, 19859, 19926, 19943, 19973, 19999]\n",
            "1009\n",
            "19999\n",
            "MonthlyRate\n",
            "[2094, 2097, 2104, 2112, 2122, 2125, 2137, 2227, 2243, 2253, 2261, 2288, 2302, 2323, 2326, 2338, 2354, 2373, 2396, 2437, 2447, 2493, 2539, 2560, 2561, 2613, 2671, 2689, 2690, 2706, 2721, 2725, 2739, 2755, 2819, 2823, 2845, 2851, 2890, 2900, 2912, 2939, 2967, 2975, 2993, 2997, 3010, 3020, 3031, 3032, 3064, 3072, 3088, 3119, 3129, 3140, 3142, 3156, 3157, 3164, 3173, 3193, 3208, 3297, 3300, 3334, 3335, 3339, 3356, 3372, 3376, 3395, 3415, 3423, 3425, 3427, 3445, 3449, 3458, 3465, 3487, 3498, 3525, 3536, 3549, 3567, 3622, 3666, 3687, 3692, 3698, 3708, 3735, 3787, 3809, 3810, 3811, 3835, 3840, 3854, 3872, 3909, 3921, 3956, 3974, 3987, 3995, 4009, 4022, 4050, 4051, 4060, 4077, 4156, 4161, 4167, 4185, 4187, 4204, 4223, 4235, 4244, 4257, 4258, 4267, 4279, 4284, 4297, 4303, 4306, 4317, 4344, 4345, 4349, 4381, 4386, 4488, 4510, 4544, 4567, 4585, 4605, 4609, 4652, 4658, 4668, 4673, 4681, 4732, 4759, 4761, 4809, 4814, 4821, 4824, 4892, 4905, 4910, 4933, 4944, 4956, 4973, 4981, 4992, 5013, 5033, 5041, 5044, 5050, 5083, 5099, 5100, 5118, 5141, 5151, 5174, 5182, 5197, 5200, 5207, 5220, 5224, 5228, 5242, 5268, 5288, 5323, 5335, 5340, 5348, 5355, 5388, 5404, 5411, 5431, 5456, 5494, 5518, 5530, 5531, 5543, 5549, 5561, 5569, 5586, 5594, 5596, 5598, 5602, 5615, 5626, 5628, 5630, 5640, 5652, 5678, 5696, 5711, 5718, 5747, 5771, 5829, 5843, 5855, 5860, 5868, 5869, 5915, 5949, 5970, 5972, 5982, 6004, 6009, 6020, 6039, 6054, 6060, 6069, 6073, 6076, 6110, 6148, 6152, 6153, 6161, 6163, 6179, 6194, 6208, 6217, 6219, 6225, 6227, 6233, 6297, 6311, 6319, 6393, 6409, 6420, 6462, 6499, 6527, 6582, 6595, 6599, 6615, 6645, 6670, 6672, 6689, 6698, 6705, 6729, 6759, 6762, 6770, 6812, 6842, 6865, 6881, 6889, 6896, 6927, 6950, 6961, 6975, 6984, 6986, 6992, 7003, 7018, 7060, 7100, 7102, 7103, 7108, 7122, 7129, 7143, 7152, 7160, 7172, 7181, 7192, 7246, 7259, 7288, 7298, 7324, 7331, 7346, 7360, 7389, 7419, 7428, 7439, 7501, 7505, 7507, 7508, 7530, 7551, 7568, 7621, 7636, 7653, 7660, 7677, 7679, 7693, 7703, 7713, 7739, 7744, 7747, 7770, 7790, 7791, 7815, 7824, 7858, 7909, 7914, 7950, 7973, 7975, 7999, 8007, 8018, 8039, 8040, 8045, 8053, 8059, 8191, 8192, 8202, 8213, 8232, 8269, 8277, 8302, 8306, 8318, 8319, 8346, 8386, 8392, 8416, 8423, 8429, 8450, 8456, 8489, 8504, 8509, 8532, 8544, 8552, 8556, 8571, 8635, 8658, 8733, 8751, 8758, 8770, 8787, 8800, 8828, 8841, 8842, 8847, 8861, 8863, 8870, 8891, 8916, 8931, 8935, 8952, 8978, 8984, 8989, 9051, 9060, 9068, 9075, 9096, 9100, 9125, 9128, 9129, 9148, 9150, 9192, 9238, 9241, 9250, 9255, 9256, 9260, 9262, 9277, 9278, 9282, 9314, 9358, 9364, 9369, 9396, 9489, 9490, 9518, 9528, 9541, 9558, 9571, 9606, 9647, 9655, 9659, 9679, 9687, 9696, 9697, 9724, 9731, 9732, 9752, 9755, 9769, 9834, 9867, 9873, 9931, 9945, 9946, 9947, 9953, 9961, 9964, 9973, 9977, 9983, 10007, 10022, 10034, 10036, 10056, 10074, 10077, 10084, 10092, 10110, 10138, 10195, 10205, 10224, 10225, 10227, 10228, 10261, 10268, 10293, 10302, 10310, 10322, 10332, 10333, 10339, 10410, 10414, 10415, 10425, 10436, 10494, 10503, 10515, 10531, 10554, 10557, 10558, 10589, 10642, 10675, 10697, 10732, 10735, 10748, 10778, 10781, 10826, 10842, 10846, 10849, 10877, 10893, 10901, 10910, 10919, 10942, 10950, 11005, 11012, 11031, 11038, 11092, 11133, 11135, 11141, 11148, 11162, 11179, 11189, 11262, 11275, 11288, 11309, 11314, 11354, 11373, 11380, 11411, 11439, 11473, 11479, 11512, 11533, 11535, 11539, 11563, 11585, 11591, 11652, 11677, 11693, 11737, 11740, 11757, 11761, 11781, 11806, 11825, 11827, 11864, 11866, 11868, 11873, 11879, 11882, 11912, 11924, 11925, 11929, 11934, 11983, 11992, 12023, 12066, 12069, 12086, 12090, 12102, 12106, 12124, 12127, 12145, 12147, 12154, 12227, 12241, 12250, 12253, 12278, 12287, 12288, 12290, 12291, 12313, 12315, 12355, 12368, 12388, 12392, 12414, 12421, 12430, 12449, 12477, 12482, 12530, 12549, 12682, 12695, 12719, 12740, 12761, 12826, 12828, 12832, 12853, 12858, 12862, 12888, 12916, 12930, 12932, 12947, 12982, 12992, 13008, 13022, 13035, 13072, 13084, 13119, 13137, 13192, 13243, 13248, 13251, 13257, 13273, 13301, 13305, 13335, 13339, 13352, 13364, 13384, 13401, 13402, 13421, 13422, 13430, 13436, 13492, 13493, 13494, 13514, 13523, 13535, 13547, 13551, 13554, 13556, 13583, 13586, 13588, 13596, 13624, 13637, 13672, 13684, 13693, 13738, 13755, 13782, 13829, 13848, 13871, 13888, 13934, 13938, 13939, 13943, 13953, 13970, 13982, 13983, 14004, 14011, 14034, 14039, 14074, 14075, 14115, 14120, 14168, 14180, 14199, 14218, 14222, 14229, 14242, 14255, 14284, 14293, 14295, 14363, 14369, 14377, 14382, 14394, 14399, 14408, 14460, 14470, 14506, 14511, 14561, 14590, 14618, 14630, 14669, 14674, 14720, 14753, 14776, 14810, 14811, 14814, 14842, 14862, 14864, 14871, 14908, 14922, 14935, 14947, 14961, 14977, 15000, 15053, 15062, 15067, 15146, 15170, 15174, 15178, 15182, 15211, 15232, 15238, 15276, 15302, 15318, 15322, 15332, 15346, 15395, 15397, 15411, 15417, 15428, 15434, 15471, 15480, 15497, 15530, 15587, 15589, 15596, 15624, 15669, 15678, 15682, 15696, 15701, 15717, 15736, 15747, 15748, 15813, 15815, 15830, 15834, 15850, 15869, 15881, 15891, 15896, 15901, 15919, 15963, 15970, 15972, 15975, 15986, 15998, 15999, 16002, 16019, 16031, 16044, 16047, 16090, 16092, 16102, 16117, 16130, 16143, 16154, 16177, 16192, 16193, 16213, 16225, 16280, 16290, 16292, 16321, 16340, 16346, 16374, 16375, 16376, 16379, 16392, 16439, 16458, 16479, 16490, 16495, 16523, 16530, 16542, 16571, 16577, 16586, 16612, 16616, 16620, 16632, 16642, 16673, 16701, 16734, 16822, 16840, 16873, 16885, 16900, 16901, 16928, 16985, 16998, 17000, 17001, 17011, 17053, 17056, 17071, 17078, 17089, 17102, 17119, 17171, 17181, 17198, 17205, 17218, 17231, 17235, 17241, 17251, 17258, 17285, 17312, 17323, 17334, 17360, 17363, 17369, 17381, 17433, 17434, 17456, 17477, 17485, 17491, 17519, 17536, 17544, 17588, 17616, 17624, 17654, 17663, 17674, 17689, 17725, 17736, 17747, 17759, 17778, 17783, 17799, 17802, 17808, 17810, 17822, 17852, 17872, 17881, 17940, 17967, 17970, 17997, 18016, 18024, 18079, 18089, 18092, 18103, 18115, 18154, 18168, 18203, 18235, 18256, 18264, 18275, 18300, 18384, 18385, 18398, 18410, 18420, 18437, 18500, 18575, 18597, 18611, 18624, 18625, 18640, 18659, 18685, 18686, 18697, 18698, 18706, 18725, 18767, 18775, 18779, 18783, 18787, 18798, 18830, 18863, 18869, 18899, 18938, 18959, 18991, 19002, 19028, 19100, 19106, 19121, 19124, 19146, 19170, 19188, 19191, 19196, 19225, 19239, 19246, 19255, 19271, 19281, 19293, 19294, 19299, 19305, 19332, 19345, 19368, 19373, 19383, 19384, 19394, 19461, 19479, 19494, 19519, 19555, 19558, 19562, 19566, 19573, 19588, 19609, 19627, 19630, 19655, 19658, 19665, 19682, 19711, 19715, 19719, 19730, 19737, 19757, 19760, 19764, 19783, 19788, 19805, 19826, 19863, 19877, 19899, 19905, 19911, 19920, 19921, 19944, 19948, 19982, 19989, 20002, 20003, 20006, 20100, 20115, 20156, 20161, 20165, 20206, 20232, 20234, 20251, 20260, 20284, 20293, 20308, 20317, 20328, 20335, 20338, 20364, 20366, 20392, 20420, 20431, 20439, 20445, 20460, 20462, 20467, 20471, 20489, 20490, 20497, 20520, 20586, 20619, 20623, 20652, 20682, 20689, 20715, 20739, 20750, 20763, 20794, 20898, 20925, 20933, 20938, 20943, 20948, 20978, 20989, 20990, 21016, 21026, 21029, 21030, 21057, 21072, 21075, 21081, 21082, 21086, 21123, 21141, 21143, 21146, 21158, 21173, 21195, 21196, 21199, 21203, 21214, 21221, 21222, 21293, 21378, 21412, 21436, 21437, 21445, 21447, 21457, 21495, 21509, 21519, 21526, 21530, 21534, 21602, 21624, 21630, 21632, 21643, 21653, 21698, 21703, 21708, 21728, 21731, 21777, 21782, 21813, 21816, 21821, 21829, 21831, 21833, 21922, 21923, 21972, 21981, 22002, 22021, 22049, 22052, 22061, 22074, 22087, 22088, 22098, 22102, 22107, 22128, 22149, 22154, 22162, 22174, 22217, 22245, 22262, 22266, 22308, 22310, 22376, 22384, 22422, 22455, 22456, 22474, 22477, 22478, 22482, 22490, 22495, 22534, 22539, 22553, 22573, 22577, 22578, 22589, 22604, 22645, 22650, 22653, 22656, 22670, 22673, 22710, 22722, 22789, 22792, 22794, 22807, 22808, 22812, 22822, 22825, 22845, 22887, 22908, 22914, 22929, 22930, 22949, 22952, 22955, 22957, 22967, 22977, 22984, 23016, 23037, 23060, 23070, 23099, 23159, 23163, 23177, 23213, 23231, 23238, 23258, 23281, 23288, 23293, 23300, 23333, 23343, 23352, 23361, 23364, 23371, 23384, 23398, 23402, 23413, 23428, 23447, 23452, 23457, 23474, 23490, 23522, 23537, 23553, 23577, 23631, 23648, 23679, 23683, 23687, 23726, 23737, 23757, 23772, 23779, 23785, 23793, 23814, 23826, 23844, 23848, 23866, 23888, 23910, 23914, 23965, 23978, 24001, 24008, 24017, 24032, 24052, 24097, 24117, 24118, 24152, 24162, 24164, 24200, 24208, 24223, 24232, 24252, 24301, 24375, 24406, 24409, 24439, 24440, 24442, 24444, 24447, 24450, 24456, 24483, 24525, 24532, 24539, 24558, 24594, 24608, 24609, 24619, 24624, 24666, 24668, 24737, 24785, 24788, 24793, 24795, 24812, 24835, 24852, 24907, 24920, 24941, 24978, 25043, 25063, 25098, 25103, 25150, 25166, 25174, 25178, 25198, 25233, 25258, 25265, 25275, 25291, 25308, 25326, 25348, 25353, 25388, 25412, 25422, 25440, 25470, 25479, 25518, 25527, 25549, 25592, 25594, 25605, 25657, 25681, 25713, 25725, 25751, 25755, 25761, 25796, 25800, 25811, 25812, 25846, 25927, 25949, 25952, 25995, 26009, 26062, 26075, 26076, 26085, 26092, 26124, 26176, 26186, 26204, 26227, 26236, 26250, 26278, 26283, 26285, 26308, 26312, 26314, 26342, 26362, 26376, 26427, 26458, 26493, 26496, 26507, 26537, 26542, 26551, 26582, 26589, 26619, 26703, 26707, 26767, 26820, 26841, 26849, 26862, 26894, 26897, 26914, 26933, 26956, 26959, 26968, 26997, 26999]\n",
            "2094\n",
            "26999\n",
            "NumCompaniesWorked\n",
            "[0, 1, 2, 3, 4, 5, 6, 7, 8, 9]\n",
            "0\n",
            "9\n",
            "OverTime\n",
            "['No', 'Yes']\n",
            "No\n",
            "Yes\n",
            "PercentSalaryHike\n",
            "[11, 12, 13, 14, 15, 16, 17, 18, 19, 20, 21, 22, 23, 24, 25]\n",
            "11\n",
            "25\n",
            "PerformanceRating\n",
            "[3, 4]\n",
            "3\n",
            "4\n",
            "RelationshipSatisfaction\n",
            "[1, 2, 3, 4]\n",
            "1\n",
            "4\n",
            "StockOptionLevel\n",
            "[0, 1, 2, 3]\n",
            "0\n",
            "3\n",
            "TotalWorkingYears\n",
            "[0, 1, 2, 3, 4, 5, 6, 7, 8, 9, 10, 11, 12, 13, 14, 15, 16, 17, 18, 19, 20, 21, 22, 23, 24, 25, 26, 27, 28, 29, 30, 31, 32, 33, 34, 35, 36, 37, 38, 40]\n",
            "0\n",
            "40\n",
            "TrainingTimesLastYear\n",
            "[0, 1, 2, 3, 4, 5, 6]\n",
            "0\n",
            "6\n",
            "WorkLifeBalance\n",
            "[1, 2, 3, 4]\n",
            "1\n",
            "4\n",
            "YearsAtCompany\n",
            "[0, 1, 2, 3, 4, 5, 6, 7, 8, 9, 10, 11, 12, 13, 14, 15, 16, 17, 18, 19, 20, 21, 22, 23, 24, 25, 26, 27, 29, 30, 31, 32, 33, 34, 36, 37, 40]\n",
            "0\n",
            "40\n",
            "YearsInCurrentRole\n",
            "[0, 1, 2, 3, 4, 5, 6, 7, 8, 9, 10, 11, 12, 13, 14, 15, 16, 17, 18]\n",
            "0\n",
            "18\n",
            "YearsSinceLastPromotion\n",
            "[0, 1, 2, 3, 4, 5, 6, 7, 8, 9, 10, 11, 12, 13, 14, 15]\n",
            "0\n",
            "15\n",
            "YearsWithCurrManager\n",
            "[0, 1, 2, 3, 4, 5, 6, 7, 8, 9, 10, 11, 12, 13, 14, 15, 16, 17]\n",
            "0\n",
            "17\n"
          ]
        }
      ]
    },
    {
      "cell_type": "code",
      "source": [
        "Age = 60 #@param{type: \"slider\", min: 18, max: 60}\n",
        "BusinessTravel = 'Travel_Frequently' #@param['Non-Travel', 'Travel_Frequently', 'Travel_Rarely']\n",
        "DailyRate = 102 #@param{type: \"slider\", min: 102, max: 1499}\n",
        "Department = 'Sales' #@param['Human Resources', 'Research & Development', 'Sales']\n",
        "DistanceFromHome = 29 #@param{type: \"slider\", min: 1, max: 29}\n",
        "Education = 1 #@param{type: \"slider\", min: 1, max: 5}\n",
        "EducationField = 'Technical Degree' #@param['Human Resources', 'Life Sciences', 'Marketing', 'Medical', 'Other', 'Technical Degree']\n",
        "EnvironmentSatisfaction = 1 #@param{type: \"slider\", min: 1, max: 4}\n",
        "Gender = 'Male' #@param['Female', 'Male']\n",
        "HourlyRate = 30 #@param{type: \"slider\", min: 30, max: 100}\n",
        "JobInvolvement = 1 #@param{type: \"slider\", min: 1, max: 4}\n",
        "JobLevel = 1 #@param{type: \"slider\", min: 1, max: 5}\n",
        "JobRole = 'Human Resources' #@param['Healthcare Representative', 'Human Resources', 'Laboratory Technician', 'Manager', 'Manufacturing Director', 'Research Director', 'Research Scientist', 'Sales Executive', 'Sales Representative']\n",
        "JobSatisfaction = 1 #@param{type: \"slider\", min: 1, max: 4}\n",
        "MaritalStatus = 'Single' #@param['Divorced', 'Married', 'Single']\n",
        "MonthlyIncome = 1000 #@param{type: \"slider\", min: 1000, max: 20000}\n",
        "MonthlyRate = 30000 #@param{type: \"slider\", min: 2000, max: 30000}\n",
        "NumCompaniesWorked = 9 #@param{type: \"slider\", min: 0, max: 9}\n",
        "OverTime = 'Yes' #@param['No', 'Yes']\n",
        "PercentSalaryHike = 10 #@param{type: \"slider\", min: 10, max: 30}\n",
        "PerformanceRating = 4 #@param{type: \"slider\", min: 1, max: 4}\n",
        "RelationshipSatisfaction = 1 #@param{type: \"slider\", min: 1, max: 4}\n",
        "StockOptionLevel = 0 #@param{type: \"slider\", min: 0, max: 3}\n",
        "TotalWorkingYears = 0 #@param{type: \"slider\", min: 0, max: 40}\n",
        "TrainingTimesLastYear = 0 #@param{type: \"slider\", min: 0, max: 6}\n",
        "WorkLifeBalance = 1 #@param{type: \"slider\", min: 1, max: 4}\n",
        "YearsAtCompany = 0 #@param{type: \"slider\", min: 0, max: 40}\n",
        "YearsInCurrentRole = 0 #@param{type: \"slider\", min: 0, max: 20}\n",
        "YearsSinceLastPromotion = 0 #@param{type: \"slider\", min: 0, max: 20}\n",
        "YearsWithCurrManager = 0 #@param{type: \"slider\", min: 0, max: 20}\n",
        "\n",
        "custom_input = pd.DataFrame([dict(\n",
        "    Age=Age,\n",
        "    BusinessTravel=BusinessTravel,\n",
        "    DailyRate=DailyRate,\n",
        "    Department=Department,\n",
        "    DistanceFromHome=DistanceFromHome,\n",
        "    Education=Education,\n",
        "    EducationField=EducationField,\n",
        "    EnvironmentSatisfaction=EnvironmentSatisfaction,\n",
        "    Gender=Gender,\n",
        "    HourlyRate=HourlyRate,\n",
        "    JobInvolvement=JobInvolvement,\n",
        "    JobLevel=JobLevel,\n",
        "    JobRole=JobRole,\n",
        "    JobSatisfaction=JobSatisfaction,\n",
        "    MaritalStatus=MaritalStatus,\n",
        "    MonthlyIncome=MonthlyIncome,\n",
        "    MonthlyRate=MonthlyRate,\n",
        "    NumCompaniesWorked=NumCompaniesWorked,\n",
        "    OverTime=OverTime,\n",
        "    PercentSalaryHike=PercentSalaryHike,\n",
        "    PerformanceRating=PerformanceRating,\n",
        "    RelationshipSatisfaction=RelationshipSatisfaction,\n",
        "    StockOptionLevel=StockOptionLevel,\n",
        "    TotalWorkingYears=TotalWorkingYears,\n",
        "    TrainingTimesLastYear=TrainingTimesLastYear,\n",
        "    WorkLifeBalance=WorkLifeBalance,\n",
        "    YearsAtCompany=YearsAtCompany,\n",
        "    YearsInCurrentRole=YearsInCurrentRole,\n",
        "    YearsSinceLastPromotion=YearsSinceLastPromotion,\n",
        "    YearsWithCurrManager=YearsWithCurrManager,\n",
        ")])\n",
        "\n",
        "custom_input"
      ],
      "metadata": {
        "colab": {
          "base_uri": "https://localhost:8080/",
          "height": 130
        },
        "id": "pidRNxFn145o",
        "outputId": "e4fdcf2e-dc2f-4135-d477-dff6b402937b"
      },
      "execution_count": null,
      "outputs": [
        {
          "output_type": "execute_result",
          "data": {
            "text/plain": [
              "   Age     BusinessTravel  DailyRate Department  DistanceFromHome  Education  \\\n",
              "0   60  Travel_Frequently        102      Sales                29          1   \n",
              "\n",
              "     EducationField  EnvironmentSatisfaction Gender  HourlyRate  ...  \\\n",
              "0  Technical Degree                        1   Male          30  ...   \n",
              "\n",
              "   PerformanceRating  RelationshipSatisfaction StockOptionLevel  \\\n",
              "0                  4                         1                0   \n",
              "\n",
              "   TotalWorkingYears TrainingTimesLastYear  WorkLifeBalance  YearsAtCompany  \\\n",
              "0                  0                     0                1               0   \n",
              "\n",
              "   YearsInCurrentRole YearsSinceLastPromotion  YearsWithCurrManager  \n",
              "0                   0                       0                     0  \n",
              "\n",
              "[1 rows x 30 columns]"
            ],
            "text/html": [
              "\n",
              "  <div id=\"df-4e66bd30-5dda-488b-936c-f76702b23819\" class=\"colab-df-container\">\n",
              "    <div>\n",
              "<style scoped>\n",
              "    .dataframe tbody tr th:only-of-type {\n",
              "        vertical-align: middle;\n",
              "    }\n",
              "\n",
              "    .dataframe tbody tr th {\n",
              "        vertical-align: top;\n",
              "    }\n",
              "\n",
              "    .dataframe thead th {\n",
              "        text-align: right;\n",
              "    }\n",
              "</style>\n",
              "<table border=\"1\" class=\"dataframe\">\n",
              "  <thead>\n",
              "    <tr style=\"text-align: right;\">\n",
              "      <th></th>\n",
              "      <th>Age</th>\n",
              "      <th>BusinessTravel</th>\n",
              "      <th>DailyRate</th>\n",
              "      <th>Department</th>\n",
              "      <th>DistanceFromHome</th>\n",
              "      <th>Education</th>\n",
              "      <th>EducationField</th>\n",
              "      <th>EnvironmentSatisfaction</th>\n",
              "      <th>Gender</th>\n",
              "      <th>HourlyRate</th>\n",
              "      <th>...</th>\n",
              "      <th>PerformanceRating</th>\n",
              "      <th>RelationshipSatisfaction</th>\n",
              "      <th>StockOptionLevel</th>\n",
              "      <th>TotalWorkingYears</th>\n",
              "      <th>TrainingTimesLastYear</th>\n",
              "      <th>WorkLifeBalance</th>\n",
              "      <th>YearsAtCompany</th>\n",
              "      <th>YearsInCurrentRole</th>\n",
              "      <th>YearsSinceLastPromotion</th>\n",
              "      <th>YearsWithCurrManager</th>\n",
              "    </tr>\n",
              "  </thead>\n",
              "  <tbody>\n",
              "    <tr>\n",
              "      <th>0</th>\n",
              "      <td>60</td>\n",
              "      <td>Travel_Frequently</td>\n",
              "      <td>102</td>\n",
              "      <td>Sales</td>\n",
              "      <td>29</td>\n",
              "      <td>1</td>\n",
              "      <td>Technical Degree</td>\n",
              "      <td>1</td>\n",
              "      <td>Male</td>\n",
              "      <td>30</td>\n",
              "      <td>...</td>\n",
              "      <td>4</td>\n",
              "      <td>1</td>\n",
              "      <td>0</td>\n",
              "      <td>0</td>\n",
              "      <td>0</td>\n",
              "      <td>1</td>\n",
              "      <td>0</td>\n",
              "      <td>0</td>\n",
              "      <td>0</td>\n",
              "      <td>0</td>\n",
              "    </tr>\n",
              "  </tbody>\n",
              "</table>\n",
              "<p>1 rows × 30 columns</p>\n",
              "</div>\n",
              "    <div class=\"colab-df-buttons\">\n",
              "\n",
              "  <div class=\"colab-df-container\">\n",
              "    <button class=\"colab-df-convert\" onclick=\"convertToInteractive('df-4e66bd30-5dda-488b-936c-f76702b23819')\"\n",
              "            title=\"Convert this dataframe to an interactive table.\"\n",
              "            style=\"display:none;\">\n",
              "\n",
              "  <svg xmlns=\"http://www.w3.org/2000/svg\" height=\"24px\" viewBox=\"0 -960 960 960\">\n",
              "    <path d=\"M120-120v-720h720v720H120Zm60-500h600v-160H180v160Zm220 220h160v-160H400v160Zm0 220h160v-160H400v160ZM180-400h160v-160H180v160Zm440 0h160v-160H620v160ZM180-180h160v-160H180v160Zm440 0h160v-160H620v160Z\"/>\n",
              "  </svg>\n",
              "    </button>\n",
              "\n",
              "  <style>\n",
              "    .colab-df-container {\n",
              "      display:flex;\n",
              "      gap: 12px;\n",
              "    }\n",
              "\n",
              "    .colab-df-convert {\n",
              "      background-color: #E8F0FE;\n",
              "      border: none;\n",
              "      border-radius: 50%;\n",
              "      cursor: pointer;\n",
              "      display: none;\n",
              "      fill: #1967D2;\n",
              "      height: 32px;\n",
              "      padding: 0 0 0 0;\n",
              "      width: 32px;\n",
              "    }\n",
              "\n",
              "    .colab-df-convert:hover {\n",
              "      background-color: #E2EBFA;\n",
              "      box-shadow: 0px 1px 2px rgba(60, 64, 67, 0.3), 0px 1px 3px 1px rgba(60, 64, 67, 0.15);\n",
              "      fill: #174EA6;\n",
              "    }\n",
              "\n",
              "    .colab-df-buttons div {\n",
              "      margin-bottom: 4px;\n",
              "    }\n",
              "\n",
              "    [theme=dark] .colab-df-convert {\n",
              "      background-color: #3B4455;\n",
              "      fill: #D2E3FC;\n",
              "    }\n",
              "\n",
              "    [theme=dark] .colab-df-convert:hover {\n",
              "      background-color: #434B5C;\n",
              "      box-shadow: 0px 1px 3px 1px rgba(0, 0, 0, 0.15);\n",
              "      filter: drop-shadow(0px 1px 2px rgba(0, 0, 0, 0.3));\n",
              "      fill: #FFFFFF;\n",
              "    }\n",
              "  </style>\n",
              "\n",
              "    <script>\n",
              "      const buttonEl =\n",
              "        document.querySelector('#df-4e66bd30-5dda-488b-936c-f76702b23819 button.colab-df-convert');\n",
              "      buttonEl.style.display =\n",
              "        google.colab.kernel.accessAllowed ? 'block' : 'none';\n",
              "\n",
              "      async function convertToInteractive(key) {\n",
              "        const element = document.querySelector('#df-4e66bd30-5dda-488b-936c-f76702b23819');\n",
              "        const dataTable =\n",
              "          await google.colab.kernel.invokeFunction('convertToInteractive',\n",
              "                                                    [key], {});\n",
              "        if (!dataTable) return;\n",
              "\n",
              "        const docLinkHtml = 'Like what you see? Visit the ' +\n",
              "          '<a target=\"_blank\" href=https://colab.research.google.com/notebooks/data_table.ipynb>data table notebook</a>'\n",
              "          + ' to learn more about interactive tables.';\n",
              "        element.innerHTML = '';\n",
              "        dataTable['output_type'] = 'display_data';\n",
              "        await google.colab.output.renderOutput(dataTable, element);\n",
              "        const docLink = document.createElement('div');\n",
              "        docLink.innerHTML = docLinkHtml;\n",
              "        element.appendChild(docLink);\n",
              "      }\n",
              "    </script>\n",
              "  </div>\n",
              "\n",
              "\n",
              "  <div id=\"id_a2ef61e4-f4b6-4f38-a32c-8436cef5e99b\">\n",
              "    <style>\n",
              "      .colab-df-generate {\n",
              "        background-color: #E8F0FE;\n",
              "        border: none;\n",
              "        border-radius: 50%;\n",
              "        cursor: pointer;\n",
              "        display: none;\n",
              "        fill: #1967D2;\n",
              "        height: 32px;\n",
              "        padding: 0 0 0 0;\n",
              "        width: 32px;\n",
              "      }\n",
              "\n",
              "      .colab-df-generate:hover {\n",
              "        background-color: #E2EBFA;\n",
              "        box-shadow: 0px 1px 2px rgba(60, 64, 67, 0.3), 0px 1px 3px 1px rgba(60, 64, 67, 0.15);\n",
              "        fill: #174EA6;\n",
              "      }\n",
              "\n",
              "      [theme=dark] .colab-df-generate {\n",
              "        background-color: #3B4455;\n",
              "        fill: #D2E3FC;\n",
              "      }\n",
              "\n",
              "      [theme=dark] .colab-df-generate:hover {\n",
              "        background-color: #434B5C;\n",
              "        box-shadow: 0px 1px 3px 1px rgba(0, 0, 0, 0.15);\n",
              "        filter: drop-shadow(0px 1px 2px rgba(0, 0, 0, 0.3));\n",
              "        fill: #FFFFFF;\n",
              "      }\n",
              "    </style>\n",
              "    <button class=\"colab-df-generate\" onclick=\"generateWithVariable('custom_input')\"\n",
              "            title=\"Generate code using this dataframe.\"\n",
              "            style=\"display:none;\">\n",
              "\n",
              "  <svg xmlns=\"http://www.w3.org/2000/svg\" height=\"24px\"viewBox=\"0 0 24 24\"\n",
              "       width=\"24px\">\n",
              "    <path d=\"M7,19H8.4L18.45,9,17,7.55,7,17.6ZM5,21V16.75L18.45,3.32a2,2,0,0,1,2.83,0l1.4,1.43a1.91,1.91,0,0,1,.58,1.4,1.91,1.91,0,0,1-.58,1.4L9.25,21ZM18.45,9,17,7.55Zm-12,3A5.31,5.31,0,0,0,4.9,8.1,5.31,5.31,0,0,0,1,6.5,5.31,5.31,0,0,0,4.9,4.9,5.31,5.31,0,0,0,6.5,1,5.31,5.31,0,0,0,8.1,4.9,5.31,5.31,0,0,0,12,6.5,5.46,5.46,0,0,0,6.5,12Z\"/>\n",
              "  </svg>\n",
              "    </button>\n",
              "    <script>\n",
              "      (() => {\n",
              "      const buttonEl =\n",
              "        document.querySelector('#id_a2ef61e4-f4b6-4f38-a32c-8436cef5e99b button.colab-df-generate');\n",
              "      buttonEl.style.display =\n",
              "        google.colab.kernel.accessAllowed ? 'block' : 'none';\n",
              "\n",
              "      buttonEl.onclick = () => {\n",
              "        google.colab.notebook.generateWithVariable('custom_input');\n",
              "      }\n",
              "      })();\n",
              "    </script>\n",
              "  </div>\n",
              "\n",
              "    </div>\n",
              "  </div>\n"
            ]
          },
          "metadata": {},
          "execution_count": 191
        }
      ]
    },
    {
      "cell_type": "code",
      "source": [
        "X_input = pd.get_dummies(\n",
        "    pd.concat([df_.drop('Attrition', axis=1),custom_input],\n",
        "              ignore_index=True),\n",
        "    columns=df_.dtypes[df_.dtypes == 'object'].index,\n",
        "    drop_first=True).iloc[[-1]]\n",
        "X_input = scaler.transform(X_input)\n",
        "X_input"
      ],
      "metadata": {
        "colab": {
          "base_uri": "https://localhost:8080/"
        },
        "id": "_ZrnvkgpLdkC",
        "outputId": "2afee14a-8c6c-4aa4-a99a-fc73fb978059"
      },
      "execution_count": null,
      "outputs": [
        {
          "output_type": "execute_result",
          "data": {
            "text/plain": [
              "array([[ 1.00000000e+00,  0.00000000e+00,  1.00000000e+00,\n",
              "         0.00000000e+00,  0.00000000e+00,  0.00000000e+00,\n",
              "         0.00000000e+00,  0.00000000e+00,  0.00000000e+00,\n",
              "        -4.73933649e-04,  1.12049789e+00,  1.00000000e+00,\n",
              "        -7.14285714e-02,  1.00000000e+00,  0.00000000e+00,\n",
              "         0.00000000e+00,  0.00000000e+00,  0.00000000e+00,\n",
              "         0.00000000e+00,  0.00000000e+00,  0.00000000e+00,\n",
              "         0.00000000e+00,  0.00000000e+00,  1.00000000e+00,\n",
              "         0.00000000e+00,  0.00000000e+00,  1.00000000e+00,\n",
              "         0.00000000e+00,  0.00000000e+00,  0.00000000e+00,\n",
              "         0.00000000e+00,  1.00000000e+00,  1.00000000e+00,\n",
              "         1.00000000e+00,  0.00000000e+00,  0.00000000e+00,\n",
              "         0.00000000e+00,  0.00000000e+00,  0.00000000e+00,\n",
              "         0.00000000e+00,  0.00000000e+00,  0.00000000e+00,\n",
              "         1.00000000e+00,  1.00000000e+00]])"
            ]
          },
          "metadata": {},
          "execution_count": 192
        }
      ]
    },
    {
      "cell_type": "code",
      "source": [
        "import plotly.express as px\n",
        "\n",
        "pred = voting_model.predict(X_input)[0]\n",
        "proba = voting_model.predict_proba(X_input)[0]\n",
        "print(f'이 사람은 퇴사 {\"한다\" if pred else \"안 한다\"}')\n",
        "print(f'퇴사 확률 : {proba[1]*100:.4f}%')\n",
        "\n",
        "fig = px.pie(values=proba, names=['안 퇴사', '퇴사'])\n",
        "fig.show()"
      ],
      "metadata": {
        "colab": {
          "base_uri": "https://localhost:8080/",
          "height": 578
        },
        "id": "nUebi2IdNkp3",
        "outputId": "6b7958d3-ea77-4313-b59c-645acf92fb37"
      },
      "execution_count": null,
      "outputs": [
        {
          "output_type": "stream",
          "name": "stdout",
          "text": [
            "이 사람은 퇴사 한다\n",
            "퇴사 확률 : 92.6240%\n"
          ]
        },
        {
          "output_type": "display_data",
          "data": {
            "text/html": [
              "<html>\n",
              "<head><meta charset=\"utf-8\" /></head>\n",
              "<body>\n",
              "    <div>            <script src=\"https://cdnjs.cloudflare.com/ajax/libs/mathjax/2.7.5/MathJax.js?config=TeX-AMS-MML_SVG\"></script><script type=\"text/javascript\">if (window.MathJax && window.MathJax.Hub && window.MathJax.Hub.Config) {window.MathJax.Hub.Config({SVG: {font: \"STIX-Web\"}});}</script>                <script type=\"text/javascript\">window.PlotlyConfig = {MathJaxConfig: 'local'};</script>\n",
              "        <script charset=\"utf-8\" src=\"https://cdn.plot.ly/plotly-2.24.1.min.js\"></script>                <div id=\"98361162-6c09-4003-8ec5-c14984f8646f\" class=\"plotly-graph-div\" style=\"height:525px; width:100%;\"></div>            <script type=\"text/javascript\">                                    window.PLOTLYENV=window.PLOTLYENV || {};                                    if (document.getElementById(\"98361162-6c09-4003-8ec5-c14984f8646f\")) {                    Plotly.newPlot(                        \"98361162-6c09-4003-8ec5-c14984f8646f\",                        [{\"domain\":{\"x\":[0.0,1.0],\"y\":[0.0,1.0]},\"hovertemplate\":\"label=%{label}\\u003cbr\\u003evalue=%{value}\\u003cextra\\u003e\\u003c\\u002fextra\\u003e\",\"labels\":[\"\\uc548 \\ud1f4\\uc0ac\",\"\\ud1f4\\uc0ac\"],\"legendgroup\":\"\",\"name\":\"\",\"showlegend\":true,\"values\":[0.07376048401047125,0.9262395159895287],\"type\":\"pie\"}],                        {\"template\":{\"data\":{\"histogram2dcontour\":[{\"type\":\"histogram2dcontour\",\"colorbar\":{\"outlinewidth\":0,\"ticks\":\"\"},\"colorscale\":[[0.0,\"#0d0887\"],[0.1111111111111111,\"#46039f\"],[0.2222222222222222,\"#7201a8\"],[0.3333333333333333,\"#9c179e\"],[0.4444444444444444,\"#bd3786\"],[0.5555555555555556,\"#d8576b\"],[0.6666666666666666,\"#ed7953\"],[0.7777777777777778,\"#fb9f3a\"],[0.8888888888888888,\"#fdca26\"],[1.0,\"#f0f921\"]]}],\"choropleth\":[{\"type\":\"choropleth\",\"colorbar\":{\"outlinewidth\":0,\"ticks\":\"\"}}],\"histogram2d\":[{\"type\":\"histogram2d\",\"colorbar\":{\"outlinewidth\":0,\"ticks\":\"\"},\"colorscale\":[[0.0,\"#0d0887\"],[0.1111111111111111,\"#46039f\"],[0.2222222222222222,\"#7201a8\"],[0.3333333333333333,\"#9c179e\"],[0.4444444444444444,\"#bd3786\"],[0.5555555555555556,\"#d8576b\"],[0.6666666666666666,\"#ed7953\"],[0.7777777777777778,\"#fb9f3a\"],[0.8888888888888888,\"#fdca26\"],[1.0,\"#f0f921\"]]}],\"heatmap\":[{\"type\":\"heatmap\",\"colorbar\":{\"outlinewidth\":0,\"ticks\":\"\"},\"colorscale\":[[0.0,\"#0d0887\"],[0.1111111111111111,\"#46039f\"],[0.2222222222222222,\"#7201a8\"],[0.3333333333333333,\"#9c179e\"],[0.4444444444444444,\"#bd3786\"],[0.5555555555555556,\"#d8576b\"],[0.6666666666666666,\"#ed7953\"],[0.7777777777777778,\"#fb9f3a\"],[0.8888888888888888,\"#fdca26\"],[1.0,\"#f0f921\"]]}],\"heatmapgl\":[{\"type\":\"heatmapgl\",\"colorbar\":{\"outlinewidth\":0,\"ticks\":\"\"},\"colorscale\":[[0.0,\"#0d0887\"],[0.1111111111111111,\"#46039f\"],[0.2222222222222222,\"#7201a8\"],[0.3333333333333333,\"#9c179e\"],[0.4444444444444444,\"#bd3786\"],[0.5555555555555556,\"#d8576b\"],[0.6666666666666666,\"#ed7953\"],[0.7777777777777778,\"#fb9f3a\"],[0.8888888888888888,\"#fdca26\"],[1.0,\"#f0f921\"]]}],\"contourcarpet\":[{\"type\":\"contourcarpet\",\"colorbar\":{\"outlinewidth\":0,\"ticks\":\"\"}}],\"contour\":[{\"type\":\"contour\",\"colorbar\":{\"outlinewidth\":0,\"ticks\":\"\"},\"colorscale\":[[0.0,\"#0d0887\"],[0.1111111111111111,\"#46039f\"],[0.2222222222222222,\"#7201a8\"],[0.3333333333333333,\"#9c179e\"],[0.4444444444444444,\"#bd3786\"],[0.5555555555555556,\"#d8576b\"],[0.6666666666666666,\"#ed7953\"],[0.7777777777777778,\"#fb9f3a\"],[0.8888888888888888,\"#fdca26\"],[1.0,\"#f0f921\"]]}],\"surface\":[{\"type\":\"surface\",\"colorbar\":{\"outlinewidth\":0,\"ticks\":\"\"},\"colorscale\":[[0.0,\"#0d0887\"],[0.1111111111111111,\"#46039f\"],[0.2222222222222222,\"#7201a8\"],[0.3333333333333333,\"#9c179e\"],[0.4444444444444444,\"#bd3786\"],[0.5555555555555556,\"#d8576b\"],[0.6666666666666666,\"#ed7953\"],[0.7777777777777778,\"#fb9f3a\"],[0.8888888888888888,\"#fdca26\"],[1.0,\"#f0f921\"]]}],\"mesh3d\":[{\"type\":\"mesh3d\",\"colorbar\":{\"outlinewidth\":0,\"ticks\":\"\"}}],\"scatter\":[{\"fillpattern\":{\"fillmode\":\"overlay\",\"size\":10,\"solidity\":0.2},\"type\":\"scatter\"}],\"parcoords\":[{\"type\":\"parcoords\",\"line\":{\"colorbar\":{\"outlinewidth\":0,\"ticks\":\"\"}}}],\"scatterpolargl\":[{\"type\":\"scatterpolargl\",\"marker\":{\"colorbar\":{\"outlinewidth\":0,\"ticks\":\"\"}}}],\"bar\":[{\"error_x\":{\"color\":\"#2a3f5f\"},\"error_y\":{\"color\":\"#2a3f5f\"},\"marker\":{\"line\":{\"color\":\"#E5ECF6\",\"width\":0.5},\"pattern\":{\"fillmode\":\"overlay\",\"size\":10,\"solidity\":0.2}},\"type\":\"bar\"}],\"scattergeo\":[{\"type\":\"scattergeo\",\"marker\":{\"colorbar\":{\"outlinewidth\":0,\"ticks\":\"\"}}}],\"scatterpolar\":[{\"type\":\"scatterpolar\",\"marker\":{\"colorbar\":{\"outlinewidth\":0,\"ticks\":\"\"}}}],\"histogram\":[{\"marker\":{\"pattern\":{\"fillmode\":\"overlay\",\"size\":10,\"solidity\":0.2}},\"type\":\"histogram\"}],\"scattergl\":[{\"type\":\"scattergl\",\"marker\":{\"colorbar\":{\"outlinewidth\":0,\"ticks\":\"\"}}}],\"scatter3d\":[{\"type\":\"scatter3d\",\"line\":{\"colorbar\":{\"outlinewidth\":0,\"ticks\":\"\"}},\"marker\":{\"colorbar\":{\"outlinewidth\":0,\"ticks\":\"\"}}}],\"scattermapbox\":[{\"type\":\"scattermapbox\",\"marker\":{\"colorbar\":{\"outlinewidth\":0,\"ticks\":\"\"}}}],\"scatterternary\":[{\"type\":\"scatterternary\",\"marker\":{\"colorbar\":{\"outlinewidth\":0,\"ticks\":\"\"}}}],\"scattercarpet\":[{\"type\":\"scattercarpet\",\"marker\":{\"colorbar\":{\"outlinewidth\":0,\"ticks\":\"\"}}}],\"carpet\":[{\"aaxis\":{\"endlinecolor\":\"#2a3f5f\",\"gridcolor\":\"white\",\"linecolor\":\"white\",\"minorgridcolor\":\"white\",\"startlinecolor\":\"#2a3f5f\"},\"baxis\":{\"endlinecolor\":\"#2a3f5f\",\"gridcolor\":\"white\",\"linecolor\":\"white\",\"minorgridcolor\":\"white\",\"startlinecolor\":\"#2a3f5f\"},\"type\":\"carpet\"}],\"table\":[{\"cells\":{\"fill\":{\"color\":\"#EBF0F8\"},\"line\":{\"color\":\"white\"}},\"header\":{\"fill\":{\"color\":\"#C8D4E3\"},\"line\":{\"color\":\"white\"}},\"type\":\"table\"}],\"barpolar\":[{\"marker\":{\"line\":{\"color\":\"#E5ECF6\",\"width\":0.5},\"pattern\":{\"fillmode\":\"overlay\",\"size\":10,\"solidity\":0.2}},\"type\":\"barpolar\"}],\"pie\":[{\"automargin\":true,\"type\":\"pie\"}]},\"layout\":{\"autotypenumbers\":\"strict\",\"colorway\":[\"#636efa\",\"#EF553B\",\"#00cc96\",\"#ab63fa\",\"#FFA15A\",\"#19d3f3\",\"#FF6692\",\"#B6E880\",\"#FF97FF\",\"#FECB52\"],\"font\":{\"color\":\"#2a3f5f\"},\"hovermode\":\"closest\",\"hoverlabel\":{\"align\":\"left\"},\"paper_bgcolor\":\"white\",\"plot_bgcolor\":\"#E5ECF6\",\"polar\":{\"bgcolor\":\"#E5ECF6\",\"angularaxis\":{\"gridcolor\":\"white\",\"linecolor\":\"white\",\"ticks\":\"\"},\"radialaxis\":{\"gridcolor\":\"white\",\"linecolor\":\"white\",\"ticks\":\"\"}},\"ternary\":{\"bgcolor\":\"#E5ECF6\",\"aaxis\":{\"gridcolor\":\"white\",\"linecolor\":\"white\",\"ticks\":\"\"},\"baxis\":{\"gridcolor\":\"white\",\"linecolor\":\"white\",\"ticks\":\"\"},\"caxis\":{\"gridcolor\":\"white\",\"linecolor\":\"white\",\"ticks\":\"\"}},\"coloraxis\":{\"colorbar\":{\"outlinewidth\":0,\"ticks\":\"\"}},\"colorscale\":{\"sequential\":[[0.0,\"#0d0887\"],[0.1111111111111111,\"#46039f\"],[0.2222222222222222,\"#7201a8\"],[0.3333333333333333,\"#9c179e\"],[0.4444444444444444,\"#bd3786\"],[0.5555555555555556,\"#d8576b\"],[0.6666666666666666,\"#ed7953\"],[0.7777777777777778,\"#fb9f3a\"],[0.8888888888888888,\"#fdca26\"],[1.0,\"#f0f921\"]],\"sequentialminus\":[[0.0,\"#0d0887\"],[0.1111111111111111,\"#46039f\"],[0.2222222222222222,\"#7201a8\"],[0.3333333333333333,\"#9c179e\"],[0.4444444444444444,\"#bd3786\"],[0.5555555555555556,\"#d8576b\"],[0.6666666666666666,\"#ed7953\"],[0.7777777777777778,\"#fb9f3a\"],[0.8888888888888888,\"#fdca26\"],[1.0,\"#f0f921\"]],\"diverging\":[[0,\"#8e0152\"],[0.1,\"#c51b7d\"],[0.2,\"#de77ae\"],[0.3,\"#f1b6da\"],[0.4,\"#fde0ef\"],[0.5,\"#f7f7f7\"],[0.6,\"#e6f5d0\"],[0.7,\"#b8e186\"],[0.8,\"#7fbc41\"],[0.9,\"#4d9221\"],[1,\"#276419\"]]},\"xaxis\":{\"gridcolor\":\"white\",\"linecolor\":\"white\",\"ticks\":\"\",\"title\":{\"standoff\":15},\"zerolinecolor\":\"white\",\"automargin\":true,\"zerolinewidth\":2},\"yaxis\":{\"gridcolor\":\"white\",\"linecolor\":\"white\",\"ticks\":\"\",\"title\":{\"standoff\":15},\"zerolinecolor\":\"white\",\"automargin\":true,\"zerolinewidth\":2},\"scene\":{\"xaxis\":{\"backgroundcolor\":\"#E5ECF6\",\"gridcolor\":\"white\",\"linecolor\":\"white\",\"showbackground\":true,\"ticks\":\"\",\"zerolinecolor\":\"white\",\"gridwidth\":2},\"yaxis\":{\"backgroundcolor\":\"#E5ECF6\",\"gridcolor\":\"white\",\"linecolor\":\"white\",\"showbackground\":true,\"ticks\":\"\",\"zerolinecolor\":\"white\",\"gridwidth\":2},\"zaxis\":{\"backgroundcolor\":\"#E5ECF6\",\"gridcolor\":\"white\",\"linecolor\":\"white\",\"showbackground\":true,\"ticks\":\"\",\"zerolinecolor\":\"white\",\"gridwidth\":2}},\"shapedefaults\":{\"line\":{\"color\":\"#2a3f5f\"}},\"annotationdefaults\":{\"arrowcolor\":\"#2a3f5f\",\"arrowhead\":0,\"arrowwidth\":1},\"geo\":{\"bgcolor\":\"white\",\"landcolor\":\"#E5ECF6\",\"subunitcolor\":\"white\",\"showland\":true,\"showlakes\":true,\"lakecolor\":\"white\"},\"title\":{\"x\":0.05},\"mapbox\":{\"style\":\"light\"}}},\"legend\":{\"tracegroupgap\":0},\"margin\":{\"t\":60}},                        {\"responsive\": true}                    ).then(function(){\n",
              "                            \n",
              "var gd = document.getElementById('98361162-6c09-4003-8ec5-c14984f8646f');\n",
              "var x = new MutationObserver(function (mutations, observer) {{\n",
              "        var display = window.getComputedStyle(gd).display;\n",
              "        if (!display || display === 'none') {{\n",
              "            console.log([gd, 'removed!']);\n",
              "            Plotly.purge(gd);\n",
              "            observer.disconnect();\n",
              "        }}\n",
              "}});\n",
              "\n",
              "// Listen for the removal of the full notebook cells\n",
              "var notebookContainer = gd.closest('#notebook-container');\n",
              "if (notebookContainer) {{\n",
              "    x.observe(notebookContainer, {childList: true});\n",
              "}}\n",
              "\n",
              "// Listen for the clearing of the current output cell\n",
              "var outputEl = gd.closest('.output');\n",
              "if (outputEl) {{\n",
              "    x.observe(outputEl, {childList: true});\n",
              "}}\n",
              "\n",
              "                        })                };                            </script>        </div>\n",
              "</body>\n",
              "</html>"
            ]
          },
          "metadata": {}
        }
      ]
    }
  ]
}